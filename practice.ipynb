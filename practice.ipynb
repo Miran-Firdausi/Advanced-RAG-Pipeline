{
 "cells": [
  {
   "cell_type": "code",
   "execution_count": 3,
   "id": "80c28871",
   "metadata": {},
   "outputs": [
    {
     "name": "stdout",
     "output_type": "stream",
     "text": [
      "Note: you may need to restart the kernel to use updated packages.\n"
     ]
    },
    {
     "name": "stderr",
     "output_type": "stream",
     "text": [
      "WARNING: You are using pip version 21.2.4; however, version 25.1.1 is available.\n",
      "You should consider upgrading via the 'e:\\Programming-Projects\\Hackathon\\hackrx6\\venv\\Scripts\\python.exe -m pip install --upgrade pip' command.\n"
     ]
    }
   ],
   "source": [
    "%pip install -qU pypdf"
   ]
  },
  {
   "cell_type": "code",
   "execution_count": 29,
   "id": "b15f8ccf",
   "metadata": {},
   "outputs": [],
   "source": [
    "from langchain_community.document_loaders import PyPDFLoader\n",
    "from langchain_community.vectorstores import FAISS"
   ]
  },
  {
   "cell_type": "code",
   "execution_count": 5,
   "id": "181ba823",
   "metadata": {},
   "outputs": [],
   "source": [
    "file_path = \"docs/BAJHLIP23020V012223.pdf\""
   ]
  },
  {
   "cell_type": "code",
   "execution_count": 6,
   "id": "a498f29c",
   "metadata": {},
   "outputs": [],
   "source": [
    "loader = PyPDFLoader(file_path)\n",
    "pages = []\n",
    "async for page in loader.alazy_load():\n",
    "    pages.append(page)"
   ]
  },
  {
   "cell_type": "code",
   "execution_count": 7,
   "id": "6eb7e69f",
   "metadata": {},
   "outputs": [
    {
     "data": {
      "text/plain": [
       "49"
      ]
     },
     "execution_count": 7,
     "metadata": {},
     "output_type": "execute_result"
    }
   ],
   "source": [
    "len(pages)"
   ]
  },
  {
   "cell_type": "code",
   "execution_count": 8,
   "id": "1c976843",
   "metadata": {},
   "outputs": [
    {
     "data": {
      "text/plain": [
       "'UIN- BAJHLIP23020V012223                                 Global Health Care/ Policy Wordings/Page 1 \\n \\n \\nBajaj Allianz General Insurance Co. Ltd.                       \\nBajaj Allianz House, Airport Road, Yerawada, Pune - 411 006. Reg. No.: 113 \\nFor more details, log on to: www.bajajallianz.com | E-mail: bagichelp@bajajallianz.co.in or \\nCall at: Sales - 1800 209 0144 / Service - 1800 209 5858 (Toll Free No.) \\nIssuing Office: \\n \\nGLOBAL HEALTH CARE \\n \\n \\nPolicy Wordings \\n \\nUIN- BAJHLIP23020V012223 \\nSECTION A) PREAMBLE \\n \\nWhereas the Insured described in the Policy Schedule hereto (hereinafter called the ‘Insured’  or “Policyholder” or \\n“Insured Person”) has made to Bajaj Allianz General Insurance Company Limited (hereinafter called the “Company” \\nor “Insurer” or “Insurance Company”) a proposal or Proposal as mentioned in the transcript of the Proposal, which \\nshall be the basis of this Contract and is deemed to be incorporated herein, containing certain undertakings , \\ndeclarations, information/particulars and statements, which is hereby agreed to be the basis of this Contract and be \\nconsidered as incorporated herein, for the insurance Contract hereinafter contained and has paid the premium \\nspecified in the Policy Sche dule hereto as consideration for such insurance Contract, now the Company agrees, \\nsubject always to the Policy Schedule and the following terms, conditions, exclusions, and limitations of the Policy, \\nand in excess of the amount of the Deductible/ Co-Payment, to indemnify the Insured in respect of an admissible \\nclaim in the manner and to the extent hereinafter stated. \\n \\nSECTION B) DEFINITIONS - STANDARD DEFINITIONS \\nWords or terms mentioned below have the meaning ascribed to them wherever they appear in this Po licy, and \\nreferences to the singular or to the masculine, include references to the plural or to the feminine wherever the context \\npermits. If any word starts with Capital alphabet but is not defined in the Standard Definitions or Specific Definitions, \\nthen such word shall be interpreted as per the headings of the respective clauses/points in these Policy Wordings. \\n \\n1. Accident:- \\nAn Accident means sudden, unforeseen and involuntary event caused by external, visible and violent means. \\n \\n2. Any one Illness:- \\nAny one Illness means continuous Period of Illness and it includes relapse within 45 days from the date of last \\nconsultation with the Hospital/Nursing Home where treatment was taken. \\n \\n3. AYUSH Hospital:- \\nAn AYUSH Hospital is a healthcare facility wherein medical/surgical/para-surgical treatment procedures and \\ninterventions are carried out by AYUSH Medical Practitioner(s) comprising of any of the following: \\na. Central or State Government AYUSH Hospital; or \\nb. Teaching Hospital attached to AYUSH College recognized by the Central Government/Central Council of \\nIndian Medicine/Central Council for Homeopathy; or \\nc. AYUSH Hospital, standalone or co-located with Inpatient healthcare facility of any recognized system of \\nmedicine, registered with the local authorities, wherever applicable, and is under the supervision of a qualified \\nregistered AYUSH Medical Practitioner and must comply with all the following criterion: \\ni. Having at least 5 Inpatient beds; \\nii. Having qualified AYUSH Medical Practitioner in charge round the clock; \\niii. Having dedicated AYUSH therapy sections as required and/or has equipped operation theatre where \\nsurgical procedures are to be carried out; \\niv.Maintaining daily records of the patients and making them accessible to the Insurance Company’s \\nauthorized representative. \\n \\n4. AYUSH Day Care Centre:- \\nAYUSH Day Care Centre means and includes Community Health Centre (CHC), Primary Health Centre (PHC), \\nDispensary, Clinic, Polyclinic or any such health centre which is registered with the local authorities, wherever \\napplicable and having facilities for carrying out treatment procedures and medical or surgical/para-surgical \\ninterventions or both under the supervision of registered AYUSH Medical Practitioner (s) on Day Care Treatment \\nbasis without Inpatient services and must comply with all the following criterion: \\ni. Having qualified registered AYUSH Medical Practitioner(s) in charge; \\nii. Having dedicated AYUSH therapy sections as required and/or has equipped operation theatre where \\nsurgical procedures are to be carried out; \\niii. Maintaining daily records of the patients and making them accessible to the  Insurance Company’s \\nauthorized representative.'"
      ]
     },
     "execution_count": 8,
     "metadata": {},
     "output_type": "execute_result"
    }
   ],
   "source": [
    "pages[0].page_content"
   ]
  },
  {
   "cell_type": "code",
   "execution_count": 19,
   "id": "d81cfa3b",
   "metadata": {},
   "outputs": [
    {
     "data": {
      "text/plain": [
       "4500"
      ]
     },
     "execution_count": 19,
     "metadata": {},
     "output_type": "execute_result"
    }
   ],
   "source": [
    "len(pages[0].page_content)"
   ]
  },
  {
   "cell_type": "code",
   "execution_count": 27,
   "id": "6a683d0e",
   "metadata": {},
   "outputs": [],
   "source": [
    "# Splitting into chunks\n",
    "from langchain_text_splitters import RecursiveCharacterTextSplitter\n",
    "text_splitter = RecursiveCharacterTextSplitter(chunk_size=1000, chunk_overlap=200)\n",
    "splits = text_splitter.split_documents(pages)"
   ]
  },
  {
   "cell_type": "code",
   "execution_count": 28,
   "id": "b0d667be",
   "metadata": {},
   "outputs": [
    {
     "data": {
      "text/plain": [
       "978"
      ]
     },
     "execution_count": 28,
     "metadata": {},
     "output_type": "execute_result"
    }
   ],
   "source": [
    "len(splits[0].page_content)"
   ]
  },
  {
   "cell_type": "code",
   "execution_count": 40,
   "id": "ec5a8832",
   "metadata": {},
   "outputs": [],
   "source": [
    "# Embeddings\n",
    "from langchain_huggingface import HuggingFaceEmbeddings\n",
    "all_mini_embeddings = HuggingFaceEmbeddings(model_name=\"all-MiniLM-L6-v2\")\n",
    "bge_embeddings = HuggingFaceEmbeddings(model_name=\"BAAI/bge-small-en-v1.5\")"
   ]
  },
  {
   "cell_type": "code",
   "execution_count": null,
   "id": "3f40b177",
   "metadata": {},
   "outputs": [],
   "source": [
    "embeddings = all_mini_embeddings\n",
    "vector_store = FAISS.from_documents(splits, embedding=embeddings)"
   ]
  },
  {
   "cell_type": "code",
   "execution_count": 47,
   "id": "66e4bbc9",
   "metadata": {},
   "outputs": [],
   "source": [
    "# Store the vector DB locally\n",
    "vector_store.save_local(\"vector_store/faiss_index_bajaj\")"
   ]
  },
  {
   "cell_type": "code",
   "execution_count": null,
   "id": "6b625cf3",
   "metadata": {},
   "outputs": [],
   "source": [
    "# Load the saved vector store\n",
    "vector_store = FAISS.load_local(\"vector_store/faiss_index_bajaj\", embeddings, allow_dangerous_deserialization=True)"
   ]
  },
  {
   "cell_type": "code",
   "execution_count": 42,
   "id": "be60abf3",
   "metadata": {},
   "outputs": [],
   "source": [
    "retriever = vector_store.as_retriever()"
   ]
  },
  {
   "cell_type": "code",
   "execution_count": 38,
   "id": "0afe9e19",
   "metadata": {},
   "outputs": [],
   "source": [
    "from dotenv import load_dotenv\n",
    "from langchain_google_genai import ChatGoogleGenerativeAI\n",
    "\n",
    "load_dotenv()\n",
    "\n",
    "llm = ChatGoogleGenerativeAI(\n",
    "    model=\"gemini-2.0-flash\",\n",
    "    temperature=0,\n",
    "    max_tokens=None,\n",
    "    timeout=None,\n",
    "    max_retries=2,\n",
    ")"
   ]
  },
  {
   "cell_type": "code",
   "execution_count": null,
   "id": "68ee9e64",
   "metadata": {},
   "outputs": [],
   "source": [
    "from langchain_core.runnables import RunnableLambda\n",
    "\n",
    "def log_chunks(docs):\n",
    "    print(\"\\nRetrieved Chunks:\\n\" + \"\\n---\\n\".join(doc.page_content for doc in docs))\n",
    "    return docs\n",
    "\n",
    "# Modified retriever pipeline\n",
    "logged_retriever = retriever | RunnableLambda(log_chunks) | format_docs"
   ]
  },
  {
   "cell_type": "code",
   "execution_count": 56,
   "id": "f15b960d",
   "metadata": {},
   "outputs": [
    {
     "name": "stdout",
     "output_type": "stream",
     "text": [
      "\n",
      "🔍 Retrieved Chunks:\n",
      "75  Rotational Arc Therapy 275  Testicular biopsy  \n",
      "76   Tele gamma therapy 276  laparoscopic cardiomyotomy( Hellers) \n",
      "77  FSRT-Fractionated SRT 277  Sentinel node biopsy malignant melanoma \n",
      "78  VMAT-Volumetric Modulated Arc Therapy 278   laparoscopic pyloromyotomy( Ramstedt) \n",
      "79  SBRT-Stereotactic Body Radiotherapy Orthopedics \n",
      "80  Helical Tomotherapy 279  Arthroscopic Repair of ACL tear knee \n",
      "81  SRS-Stereotactic Radiosurgery 280  Closed reduction of minor Fractures \n",
      "82  X-Knife SRS 281  Arthroscopic repair of PCL tear knee \n",
      "83  Gammaknife SRS 282  Tendon shortening \n",
      "84  TBI- Total Body Radiotherapy 283  Arthroscopic  Meniscectomy - Knee \n",
      "85  intraluminal Brachytherapy 284  Treatment of clavicle dislocation \n",
      "86   Electron Therapy 285  Arthroscopic meniscus repair \n",
      "87  TSET-Total Electron Skin Therapy 286  Haemarthrosis knee- lavage \n",
      "88  Extracorporeal Irradiation of  Blood Products 287  Abscess  knee joint drainage  \n",
      "89  Telecobalt Therapy 288  Carpal tunnel release\n",
      "---\n",
      "88  Extracorporeal Irradiation of  Blood Products 287  Abscess  knee joint drainage  \n",
      "89  Telecobalt Therapy 288  Carpal tunnel release \n",
      "90  Telecesium Therapy 289  Closed reduction of minor dislocation \n",
      "91   External mould Brachytherapy 290  Repair of knee cap tendon \n",
      "92   Interstitial Brachytherapy 291  ORIF with K wire fixation- small bones \n",
      "93  Intracavity Brachytherapy 292  Release of midfoot joint \n",
      "94  3D Brachytherapy 293  ORIF with plating- Small long bones \n",
      "95  Implant Brachytherapy 294  Implant removal minor \n",
      "96  Intravesical Brachytherapy 295  K wire removal \n",
      "97  Adjuvant Radiotherapy 296  POP application \n",
      "98   Afterloading Catheter Brachytherapy 297  Closed reduction and external fixation \n",
      "99  Conditioning Radiothearpy for BMT 298  Arthrotomy Hip joint  \n",
      "100  Extracorporeal Irradiation to the Homologous \n",
      "Bone grafts 299  Syme's amputation \n",
      "101  Radical chemotherapy 300  Arthroplasty \n",
      "102  Neoadjuvant radiotherapy 301  Partial removal of rib\n",
      "---\n",
      "120  Myocutaneous flap 320  Biopsy finger joint lining \n",
      "121  Fibro myocutaneous flap 321  Tendon lengthening \n",
      "122  Breast reconstruction surgery after \n",
      "mastectomy 322  Treatment of shoulder dislocation \n",
      "123  Sling operation  for facial palsy 323  Lengthening of hand tendon \n",
      "124   Split Skin Grafting under RA 324  Removal of elbow bursa \n",
      "125  Wolfe skin graft 325  Fixation of knee joint \n",
      "126  Plastic surgery to the floor of the mouth under \n",
      "GA 326  Treatment of foot dislocation \n",
      "Urology 327  Surgery of bunion \n",
      "127  AV fistula - wrist 328  intra articular steroid injection  \n",
      "128  URSL with stenting 329  Tendon transfer procedure \n",
      "129  URSL with lithotripsy 330  Removal of knee cap bursa \n",
      "130   CystoscopicLitholapaxy 331  Treatment of fracture of ulna \n",
      "131   ESWL 332  Treatment of scapula fracture \n",
      "132  Haemodialysis 333   Removal of  tumor of arm/ elbow under RA/GA \n",
      "133  Bladder Neck Incision 334  Repair of ruptured tendon \n",
      "134   Cystoscopy & Biopsy 335  Decompress forearm space\n",
      "---\n",
      "132  Haemodialysis 333   Removal of  tumor of arm/ elbow under RA/GA \n",
      "133  Bladder Neck Incision 334  Repair of ruptured tendon \n",
      "134   Cystoscopy & Biopsy 335  Decompress forearm space \n",
      "135  Cystoscopy and removal of polyp 336  Revision of neck muscle ( Torticollis release ) \n",
      "136  Suprapubiccystostomy 337  Lengthening of thigh tendons \n",
      "137  percutaneous nephrostomy 338  Treatment fracture of radius & ulna \n",
      "139  Cystoscopy and \"SLING\" procedure. 339  Repair of knee joint Paediatric surgery \n",
      "140  TUNA- prostate 340   Excision Juvenile  polyps rectum \n",
      "141   Excision of urethral diverticulum 341   Vaginoplasty \n",
      "142   Removal of urethral Stone  342   Dilatation of accidental caustic stricture \n",
      "oesophageal \n",
      "143   Excision of urethral prolapse 343   PresacralTeratomas Excision \n",
      "144   Mega-ureter reconstruction 344   Removal of vesical stone  \n",
      "145  Kidney renoscopy  and biopsy 345   Excision Sigmoid Polyp\n"
     ]
    },
    {
     "data": {
      "text/plain": [
       "'Knee surgeries include arthroscopic repair of ACL or PCL tears, arthroscopic meniscectomy or meniscus repair, haemarthrosis knee lavage, abscess knee joint drainage, and repair of the knee cap tendon. Other knee surgeries are fixation, repair of the knee joint, and removal of the knee cap bursa.'"
      ]
     },
     "execution_count": 56,
     "metadata": {},
     "output_type": "execute_result"
    }
   ],
   "source": [
    "from langchain_core.output_parsers import StrOutputParser\n",
    "from langchain_core.runnables import RunnablePassthrough\n",
    "from langchain import hub\n",
    "\n",
    "\n",
    "prompt = hub.pull(\"rlm/rag-prompt\")\n",
    "\n",
    "# Post-processing\n",
    "def format_docs(docs):\n",
    "    return \"\\n\\n\".join(doc.page_content for doc in docs)\n",
    "\n",
    "# Chain\n",
    "rag_chain = (\n",
    "    {\"context\": logged_retriever, \"question\": RunnablePassthrough()}\n",
    "    | prompt\n",
    "    | llm\n",
    "    | StrOutputParser()\n",
    ")\n",
    "\n",
    "# Question\n",
    "# rag_chain.invoke(\"what is the minimum and maximum In-patient Hospitalization Treatment Limits for Imperial plus plan?\")\n",
    "# rag_chain.invoke(\"46-year-old male, knee surgery in Pune, 3-month-old insurance policy\")\n",
    "rag_chain.invoke(\"knee surgery?\")"
   ]
  },
  {
   "cell_type": "code",
   "execution_count": null,
   "id": "880d2e28",
   "metadata": {},
   "outputs": [],
   "source": []
  }
 ],
 "metadata": {
  "kernelspec": {
   "display_name": "venv",
   "language": "python",
   "name": "python3"
  },
  "language_info": {
   "codemirror_mode": {
    "name": "ipython",
    "version": 3
   },
   "file_extension": ".py",
   "mimetype": "text/x-python",
   "name": "python",
   "nbconvert_exporter": "python",
   "pygments_lexer": "ipython3",
   "version": "3.10.1"
  }
 },
 "nbformat": 4,
 "nbformat_minor": 5
}
