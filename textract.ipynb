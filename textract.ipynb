{
 "cells": [
  {
   "cell_type": "code",
   "execution_count": 1,
   "id": "a2cc9aae",
   "metadata": {},
   "outputs": [],
   "source": [
    "import json\n",
    "\n",
    "with open('docs/042f627c5d8f619cf62cc21f864b08dfd59059d0b9aab805d132e0014489d625.json', 'r') as file:\n",
    "    doc_data = json.load(file)"
   ]
  },
  {
   "cell_type": "code",
   "execution_count": 14,
   "id": "6d56113e",
   "metadata": {},
   "outputs": [
    {
     "data": {
      "text/plain": [
       "['DocumentMetadata',\n",
       " 'JobStatus',\n",
       " 'NextToken',\n",
       " 'Blocks',\n",
       " 'AnalyzeDocumentModelVersion',\n",
       " 'ResponseMetadata']"
      ]
     },
     "execution_count": 14,
     "metadata": {},
     "output_type": "execute_result"
    }
   ],
   "source": [
    "list(doc_data[0].keys())"
   ]
  },
  {
   "cell_type": "code",
   "execution_count": null,
   "id": "53242dc8",
   "metadata": {},
   "outputs": [
    {
     "data": {
      "text/plain": [
       "21"
      ]
     },
     "execution_count": 11,
     "metadata": {},
     "output_type": "execute_result"
    }
   ],
   "source": [
    "len(doc_data)"
   ]
  },
  {
   "cell_type": "code",
   "execution_count": 28,
   "id": "8cbdc380",
   "metadata": {},
   "outputs": [
    {
     "data": {
      "text/plain": [
       "{'BlockType': 'LINE',\n",
       " 'Confidence': 96.06722259521484,\n",
       " 'Text': 'IRDAI Regn. No. - 58',\n",
       " 'Geometry': {'BoundingBox': {'Width': 0.12233010679483414,\n",
       "   'Height': 0.009105673059821129,\n",
       "   'Left': 0.6049689650535583,\n",
       "   'Top': 0.06507617235183716},\n",
       "  'Polygon': [{'X': 0.6049690246582031, 'Y': 0.06507617235183716},\n",
       "   {'X': 0.7272990942001343, 'Y': 0.06507691740989685},\n",
       "   {'X': 0.7272990345954895, 'Y': 0.07418184727430344},\n",
       "   {'X': 0.6049689650535583, 'Y': 0.07418110966682434}]},\n",
       " 'Id': '56237cae-0bdf-4926-a140-b9d44550acda',\n",
       " 'Relationships': [{'Type': 'CHILD',\n",
       "   'Ids': ['4820c19c-0edd-4057-b5fe-0f1b4b0ecebd',\n",
       "    'c7f4ce19-15b8-46bf-b86b-379cb67928ce',\n",
       "    '814f97a3-2844-495b-892a-a5251b9ea619',\n",
       "    '93934542-481a-4d48-9117-2e1d523dacb2',\n",
       "    '01a136f1-2a46-449c-8901-2562b0ec05c4']}],\n",
       " 'Page': 1}"
      ]
     },
     "execution_count": 28,
     "metadata": {},
     "output_type": "execute_result"
    }
   ],
   "source": [
    "doc_data[0]['Blocks'][3]"
   ]
  },
  {
   "cell_type": "code",
   "execution_count": 37,
   "id": "ac203eb0",
   "metadata": {},
   "outputs": [],
   "source": [
    "doc = doc_data[1]['Blocks']\n",
    "lines = [block[\"Text\"] for block in doc if block.get(\"Text\")]"
   ]
  },
  {
   "cell_type": "code",
   "execution_count": 40,
   "id": "e007da83",
   "metadata": {},
   "outputs": [],
   "source": [
    "text = \"\"\n",
    "for page in doc_data:\n",
    "    for block in page.get(\"Blocks\"):\n",
    "        if block.get(\"Text\"):\n",
    "            text += block.get(\"Text\")"
   ]
  },
  {
   "cell_type": "code",
   "execution_count": 43,
   "id": "950bb4e3",
   "metadata": {},
   "outputs": [
    {
     "data": {
      "text/plain": [
       "197949"
      ]
     },
     "execution_count": 43,
     "metadata": {},
     "output_type": "execute_result"
    }
   ],
   "source": [
    "len(text)"
   ]
  },
  {
   "cell_type": "code",
   "execution_count": 44,
   "id": "a61d6a7a",
   "metadata": {},
   "outputs": [],
   "source": [
    "def extract_text_from_textract(doc_data: list) -> str:\n",
    "    \"\"\"Extracts and concatenates text from LINE blocks in Textract result.\"\"\"\n",
    "    lines = []\n",
    "    for page in doc_data:\n",
    "        for block in page.get(\"Blocks\", []):\n",
    "            if block[\"BlockType\"] == \"LINE\" and \"Text\" in block:\n",
    "                lines.append(block[\"Text\"])\n",
    "    return \"\\n\".join(lines)"
   ]
  },
  {
   "cell_type": "code",
   "execution_count": 47,
   "id": "f6ff5eea",
   "metadata": {},
   "outputs": [
    {
     "data": {
      "text/plain": [
       "'National Insurance Company Limited\\nCIN U10200WB1906GOI001713\\nIRDAI Regn. No. - 58\\nNational Insurance\\nTrusted Since 1906\\nIssuing Office\\nNational Parivar Mediclaim Plus Policy\\nWhereas the Proposer designated in the schedule hereto has by a Proposal together with Declaration, which shall be the basis of\\nthis contract and is deemed to be incorporated herein, has applied to National Insurance Company Ltd. (hereinafter called the\\nCompany), for the insurance hereinafter set forth, in respect of person(s)/ family members named in the schedule hereto\\n(hereinafter called the Insured Persons) and has paid the premium as consideration for such insurance.\\n1 PREAMBLE\\nThe Company undertakes that if during the Policy Period, any Insured Person shall suffer any illness or disease (hereinafter called\\nIllness) or sustain any bodily injury due to an Accident (hereinafter called Injury) requiring Hospitalisation of such Insured\\nPerson(s) for In-Patient Care at any hospital/nursing home (hereinafter called Hospital) or for Day Care Treatment at any Day\\nCare Center or to undergo treatment under Domiciliary Hospitalisation, following the Medical Advice of a duly qualified Medical\\nPractitioner, the Company shall indemnify the Hospital or the Insured, Reasonable and Customary Charges incurred for Medically\\nNecessary Treatment towards the Coverage mentioned herein.\\nProvided further that, the amount payable under the Policy in respect of all such claims during each Policy Year of the Policy\\nPeriod shall be subject to the Definitions, Terms, Exclusions, Conditions contained herein and limits as shown in the Table of\\nBenefits, and shall not exceed the Floater Sum Insured in respect of the Insured family.\\n2 DEFINITIONS\\n2.1 Accident means a sudden, unforeseen and involuntary event caused by external, visible and violent means.\\n2.2 Age / Aged means completed years on last birthday as on Policy commencement date.\\n2.3 AIDS means Acquired Immune Deficiency Syndrome, a condition characterised by a combination of signs and symptoms,\\ncaused by Human Immunodeficiency Virus (HIV), which attacks and weakens the body\\'s immune system making the HIV-\\npositive person susceptible to life threatening conditions or other conditions, as may be specified from time to time.\\n2.4 Any One Illness means continuous period of illness and it includes relapse within forty five days from the date of last\\nconsultation with the hospital where treatment has been taken.\\n2.5 AYUSH Day Care Centre means and includes Community Health Centre (CHC), Primary Health Centre (PHC), Dispensary,\\nClinic, Polyclinic or any such health centre which is registered with the local authorities, wherever applicable and having\\nfacilities for carrying out treatment procedures and medical or surgical / para-surgical interventions or both under the\\nsupervision of registered AYUSH Medical Practitioner(s) on day care basis without in-patient services and must comply with\\nall the following criterion:\\ni. Having qualified registered AYUSH Medical Practitioner in charge round the clock;\\nii. Having dedicated AYUSH therapy sections as required and/or has equipped operation theatre where surgical procedures\\nare to be carried out;\\niii. Maintaining daily records of the patients and making them accessible to the insurance company\\'s authorized\\nrepresentative.\\n2.6 AYUSH Treatment refers to the medical and / or Hospitalisation treatments given Ayurveda, Yoga and Naturopathy, Unani,\\nSiddha and Homeopathy systems.\\n2.7 AYUSH Hospital is a healthcare facility wherein medical/surgical/para-surgical treatment procedures and interventions are\\ncarried out by AYUSH Medical Practitioner(s) comprising of any of the following:\\na. Central or State Government AYUSH Hospital or\\nb. Teaching hospital attached to AYUSH College recognized by the Central Government/ Central Council of Indian\\nMedicine/ Central Council for Homeopathy; or\\nc. AYUSH Hospital, standalone or co-located with in-patient healthcare facility of any recognized system of medicine,\\nregistered with the local authorities, wherever applicable, and is under the supervision of a qualified registered\\nAYUSH Medical Practitioner and must comply with all the following criterion:\\ni. Having at least 5 in-patient beds;\\nii. Having qualified AYUSH Medical Practitioner in charge round the clock;\\niii. Having dedicated AYUSH therapy sections as required;\\niv. Maintaining daily records of the patients and making them accessible to the insurance company\\'s authorized\\nrepresentative\\n2.8 Break in policy means the period of gap that occurs at the end of the existing Policy Period due date, when the premium due\\nfor renewal on a given policy or instalment premium due is not paid on or before the premium renewal date or grace period.\\nNational Insurance Co. Ltd.\\nNational Parivar Mediclaim Plus Policy\\nPremises No. 18-0374, Plot no. CBD-81,\\nPage 1 of 25\\nUIN: NICHLIP25039V032425\\nNew Town, Kolkata 700156\\n2.9 Cashless Facility means a facility extended by the Company to the Insured where the payments of the costs of treatment\\nundergone by the Insured in accordance with the Policy terms and conditions, are directly made to the Network Provider or a\\nNon Network Provider to the extent pre-authorization approved.\\n2.10Condition Precedent means a Policy term or condition upon which the Company\\'s liability by the Policy is conditional upon.\\n2.11 Contract means prospectus, proposal, Policy, and the policy schedule. Any alteration with the mutual consent of the insured\\nperson and the insurer can be made only by a duly signed and sealed endorsement on the Policy.\\nCongenital anomaly refers to a condition(s) which is present since birth, and which is abnormal with reference to form,\\nstructure or position:\\na) Internal Congenital Anomaly\\nCongenital anomaly which is not in the visible and accessible parts of the body.\\nb) External Congenital Anomaly\\nCongenital anomaly which is in the visible and accessible parts of the body.\\n2.13Co-payment means a cost-sharing requirement by the Policy that provides that the insured shall bear a specified percentage of\\nthe admissible claim amount. A co-payment does not reduce the Sum Insured.\\n2.14Day Care Centre means any institution established for day care treatment of disease/ injuries or a medical setup within a\\nhospital and which has been registered with the local authorities, wherever applicable, and is under the supervision of a\\nregistered and qualified medical practitioner AND must comply with all minimum criteria as under:\\ni. has qualified nursing staff under its employment;\\nii. has qualified medical practitioner (s) in charge;\\niii. has a fully equipped operation theatre of its own where surgical procedures are carried out\\niv. maintains daily records of patients and shall make these accessible to the Company\\'s authorized personnel.\\n2.15Day Care Treatment means medical treatment, and/or surgical procedure which is:\\ni. undertaken under general or local anesthesia in a hospital/day care centre in less than twenty-four hrs because of\\ntechnological advancement, and\\nii. which would have otherwise required a hospitalisation of more than twenty-four hours.\\nTreatment normally taken on an out-patient basis is not included in the scope of this definition.\\n2.16 Dental Treatment means a treatment carried out by a dental practitioner including examinations, fillings (where appropriate),\\ncrowns, extractions and surgery excluding any form of cosmetic surgery/implants.\\n2.17 Diagnosis means diagnosis by a medical practitioner, supported by clinical, radiological, histological and laboratory evidence,\\nacceptable to the Company.\\n2.18 Domiciliary Hospitalisation means medical treatment for an illness /injury which in the normal course would require care\\nand treatment at a hospital but is actually taken while confined at home under any of the following circumstances.\\ni. the condition of the patient is such that he/she is not in a condition to be removed to a hospital, or\\nii. the patient takes treatment at home on account of non availability of bed/ room in a hospital.\\n2.19 Family members means spouse, children and parents of the insured, covered by the Policy.\\n2.20 Floater Sum Insured means the sum insured, as mentioned in the Schedule, available to all the insured persons, for any and\\nall claims made in the aggregate during each policy year.\\n2.21 Grace Period means the specified period of time, immediately following the premium due date during which premium\\npayment can be made to renew or continue a policy in force without loss of continuity benefits pertaining to Waiting Periods\\nand coverage of Pre-Existing Diseases. The Grace Period for payment of the premium shall be thirty days.\\nCoverage shall not be available during the period for which no premium is received.\\n2.22Hospital means any institution established for in-patient care and day care treatment of disease/ injuries and which has been\\nregistered as a hospital with the local authorities under the Clinical Establishments (Registration and Regulation) Act, 2010 or\\nunder the enactments specified under Schedule of Section 56(1) of the said Act, OR complies with all minimum criteria as\\nunder:\\ni. has qualified nursing staff under its employment round the clock;\\nii. has at least ten inpatient beds, in those towns having a population of less than ten lacs and fifteen inpatient beds in\\nall other places;\\niii. has qualified medical practitioner (s) in charge round the clock;\\niv. has a fully equipped operation theatre of its own where surgical procedures are carried out\\nV. maintains daily records of patients and shall make these accessible to the Company\\'s authorized personnel.\\nNational Insurance Co. Ltd.\\nNational Parivar Mediclaim Plus Policy\\nPremises No. 18-0374, Plot no. CBD-81,\\nPage 2 of 25\\nUIN: NICHLIP25039V032425\\nNew Town, Kolkata 700156\\n2.23 Hospitalisation means admission in a Hospital or mental health establishment for a minimum period of twenty four (24)\\nconsecutive \\'Inpatient care\\' hours except for procedures/ treatments, where such admission could be for a period of less than\\ntwenty four (24) consecutive hours.\\n2.24 ICU (Intensive Care Unit) Charges means the amount charged by a Hospital towards ICU expenses which shall include the\\nexpenses for ICU bed, general medical support services provided to any ICU patient including monitoring devices, critical care\\nnursing and intensivist charges.\\n2.25 ID Card means the card issued to the insured person by the TPA for availing Cashless Facility.\\n2.26 Illness means a sickness or a disease or pathological condition leading to the impairment of normal physiological function\\nwhich manifests itself during the policy period and requires medical treatment.\\ni. Acute Condition means a disease, illness or injury that is likely to response quickly to treatment which aims to return\\nthe person to his or her state of health immediately before suffering the disease/ illness/ injury which leads to full\\nrecovery.\\nii. Chronic Condition means a disease, illness, or injury that has one or more of the following characteristics\\na) it needs ongoing or long-term monitoring through consultations, examinations, check-ups, and / or tests\\nb) it needs ongoing or long-term control or relief of symptoms\\nc) it requires your rehabilitation or for you to be specially trained to cope with it\\nd) it continues indefinitely\\ne) it comes back or is likely to come back.\\n2.27 In-patient Care means treatment for which the insured person has to stay in a hospital for more than 24 hours for a covered\\nevent.\\n2.28 Insured / Insured Person means person(s) named in the schedule of the Policy.\\n2.29 Intensive Care Unit means an identified section, ward or wing of a hospital which is under the constant supervision of a\\ndedicated medical practitioner(s), and which is specially equipped for the continuous monitoring and treatment of patients who\\nare in a critical condition, or require life support facilities and where the level of care and supervision is considerably more\\nsophisticated and intensive than in the ordinary and other wards.\\n2.30 Injury means accidental physical bodily harm excluding disease solely and directly caused by external, violent and visible and\\nevident means which is verified and certified by a medical practitioner.\\n2.31Medical Advice means any consultation or advice from a Medical Practitioner including the issue of any prescription or repeat\\nprescription.\\n2.32 Medical Expenses means those expenses that an insured person has necessarily and actually incurred for medical treatment\\non account of disease/ injury on the advice of a medical practitioner, as long as these are no more than would have been payable\\nif the insured person had not been insured and no more than other hospitals or doctors in the same locality would have charged\\nfor the same medical treatment.\\n2.33 Medically Necessary Treatment means any treatment, tests, medication, or stay in hospital or part of a stay in hospital which:\\ni.\\nis required for the medical management of the disease/ injuries suffered by the insured person;\\nii. must not exceed the level of care necessary to provide safe, adequate and appropriate medical care in scope, duration,\\nor intensity;\\niii. must have been prescribed by a medical practitioner;\\niv. must conform to the professional standards widely accepted in international medical practice or by the medical\\ncommunity in India.\\n2.34 Medical Practitioner means a person who holds a valid registration from the medical council of any state or Medical Council\\nof India or Council for Indian Medicine or for Homeopathy set up by the Government of India or a State Government and is\\nthereby entitled to practice medicine within its jurisdiction; and is acting within the scope and jurisdiction of the licence.\\n2.35 Migration means a facility provided to policyholders (including all members under family cover and group policies), to\\ntransfer the credits gained for pre-existing diseases and specific waiting periods from one health insurance policy to another\\nwith the same insurer.\\n2.36 Network Provider means Hospitals or Day Care Centres enlisted by the Company or jointly by the Company and a TPA to\\nprovide medical services to an insured person on payment by a cashless facility.\\n2.37 New Born Baby means baby born during the policy period and is aged upto 90 days.\\n2.38 Non- Network means any Hospital, Day Care Centre that is not part of the network.\\nNational Insurance Co. Ltd.\\nNational Parivar Mediclaim Plus Policy\\nPremises No. 18-0374, Plot no. CBD-81,\\nPage 3 of 25\\nUIN: NICHLIP25039V032425\\nNew Town, Kolkata 700156\\n2.39 Notification of Claim means the process of intimating a claim to the Company or TPA through any of the recognized modes\\nof communication.\\n2.40 Out-Patient Treatment means treatment in which the insured person visits a clinic / hospital or associated facility like a\\nconsultation room for diagnosis and treatment based on the advise of a medical practitioner and the insured person is not\\nadmitted as a day care patient or in-patient.\\n2.41 Policy Period means period of one policy year/ two policy years/ three policy years as mentioned in the schedule for which\\nthe Policy is issued.\\n2.42 Policy Year means a period of twelve months beginning from the date of commencement of the policy period and ending on\\nthe last day of such twelve month period. For the purpose of subsequent years, policy year shall mean a period of twelve months\\ncommencing from the end of the previous policy year and lapsing on the last day of such twelve-month period, till the policy\\nperiod, as mentioned in the schedule.\\n2.43Preferred Provider Network (PPN) means a network of hospitals which have agreed to a cashless packaged pricing for listed\\nprocedures for the insured person. The list is available on the website of the Company/TPA and subject to amendment from\\ntime to time. For the updated list please visit the website of the Company/TPA. Reimbursement of expenses incurred in PPN\\nfor the procedures (as listed under PPN package) shall be subject to the rates applicable to PPN package pricing.\\n2.44Pre existing disease means any condition, ailment, injury or disease\\na) That is/are diagnosed by a physician within 36 months prior to the effective date of the Policy issued by the Company or\\nits reinstatement, or\\nb) For which Medical Advice or treatment was recommended by, or received from, a physician within 36 months prior\\nto the effective date of the Policy issued by the Company or its reinstatement.\\n2.45Portability means a facility provided to the policyholders (including all members under family cover), to transfer the credits\\ngained for, Pre-Existing Diseases and Specific Waiting Periods from one insurer to another insurer.\\n2.46 Psychiatrist means a medical practitioner possessing a post-graduate degree or diploma in psychiatry awarded by an university\\nrecognised by the University Grants Commission established under the University Grants Commission Act, 1956, or awarded\\nor recognised by the National Board of Examinations and included in the First Schedule to the Indian Medical Council Act,\\n1956, or recognised by the Medical Council of India, constituted under the Indian Medical Council Act, 1956, and includes, in\\nrelation to any State, any medical officer who having regard to his knowledge and experience in psychiatry, has been declared\\nby the Government of that State to be a psychiatrist.\\n2.47 Qualified Nurse means a person who holds a valid registration from the Nursing Council of India or the Nursing Council of\\nany state in India.\\n2.48 Reasonable and Customary Charges means the charges for services or supplies, which are the standard charges for the\\nspecific provider and consistent with the prevailing charges in the geographical area for identical or similar services, taking into\\naccount the nature of the disease/ injury involved.\\n2.49 Room Rent means the amount charged by a Hospital towards Room and boarding expenses and shall include the associated\\ncharges.\\n2.50 Schedule means a document forming part of the Policy, containing details including name of the insured person, age, relation\\nof the insured person, sum insured, premium paid and the policy period.\\n2.51 Surgery or Surgical Procedure means manual and / or operative procedure (s) required for treatment of a disease or injury,\\ncorrection of deformities and defects, diagnosis and cure of diseases, relief of suffering or prolongation of life, performed in a\\nhospital or day care centre by a medical practitioner.\\n2.52 Third Party Administrator (TPA) means any entity, licenced under the IRDA (Third Party Administrators - Health Services)\\nRegulations, 2001 by the Authority, and is engaged, for a fee by the Company for the purpose of providing health services.\\nUnproven/ Experimental Treatment means treatment, including drug therapy, which is not based on established medical\\npractice in India, is experimental or unproven.\\n2.54 Waiting Period means a period from the inception of this Policy during which specified diseases/treatment is not covered. On\\ncompletion of the period, diseases/treatment shall be covered provided the Policy has been continuously renewed without any\\nbreak.\\nNational Insurance Co. Ltd.\\nNational Parivar Mediclaim Plus Policy\\nPremises No. 18-0374, Plot no. CBD-81,\\nPage 4 of 25\\nUIN: NICHLIP25039V032425\\nNew Town, Kolkata 700156\\n3 BENEFITS COVERED UNDER THE POLICY\\n3.1COVERAGE\\n3.1.1 In-patient Treatment\\nThe Company shall indemnify the medical expenses for:\\ni. Room charges and intensive care unit charges (including diet charges, nursing care by qualified nurse, RMO charges,\\nadministration charges for IV fluids/blood transfusion/injection), subject to limit as per Section 3.1.1.1\\nii. Medical practitioner(s)\\niii. Anaesthesia, blood, oxygen, operation theatre charges, surgical appliances\\niv. Medicines and drugs\\nV. Diagnostic procedures\\nvi. Prosthetics and other devices or equipment if implanted internally during a surgical procedure.\\nvii. Dental treatment, necessitated due to an injury\\nviii. Plastic surgery, necessitated due to disease or injury\\nix. Hormone replacement therapy, if medically necessary\\nX. Vitamins and tonics, forming part of treatment for disease/injury as certified by the attending medical practitioner\\nxi. Circumcision, necessitated for treatment of a disease or injury\\n3.1.1.1 Limit for Room Charges and Intensive Care Unit Charges\\nRoom charges and intensive care unit charges per day shall be payable up to the limit as shown in the Table of Benefits, for Plan A\\nonly. However, the limit shall not apply if the treatment is undergone for a listed procedure in a Preferred Provider Network (PPN)\\nas a package.\\nNote:\\nListed procedures and Preferred Provider Network list are dynamic in nature, and will be updated in the Company\\'s website from\\ntime to time.\\n3.1.1.2 Limit for Cataract Surgery\\nThe Company\\'s liability for cataract surgery shall be up to the limit as shown in the Table of Benefits, for Plan A only. However,\\nthe limit shall not apply if the treatment is undergone for a listed procedure in a Preferred Provider Network (PPN) as a package.\\n3.1.1.3 Treatment related to participation as a non-professional in hazardous or adventure sports\\nExpenses related to treatment necessitated due to participation as a non-professional in hazardous or adventure sports, subject to\\nMaximum amount admissible for Any One Illness shall be lower of 25% of Sum Insured.\\n3.1.2 Pre Hospitalisation\\nThe Company shall indemnify the medical expenses incurred up to thirty days immediately before the insured person is hospitalised,\\nprovided that:\\ni. such medical expenses are incurred for the same condition for which the insured person\\'s hospitalisation was required, and\\nii. the in-patient hospitalisation claim for such hospitalisation is admissible by the Company\\nPre hospitalisation shall be considered as part of the Hospitalisation claim.\\n3.1.3 Post Hospitalisation\\nThe Company shall indemnify the medical expenses incurred up to sixty days immediately after the insured person is discharged\\nfrom hospital, provided that:\\ni. such medical expenses are incurred for the same condition for which the insured person\\'s hospitalisation was required, and\\nii. the in-patient hospitalisation claim for such hospitalisation is admissible by the Company\\nPost hospitalisation shall be considered as part of the hospitalisation claim.\\n3.1.4 Domiciliary Hospitalisation\\nThe Company shall Company shall indemnify the medical expenses incurred under domiciliary hospitalization, including Pre\\nHospitalisation expenses and Post Hospitalisation expenses, up to the limit as shown in the Table of Benefits.\\nExclusions\\nDomiciliary hospitalisation shall not cover:\\ni. Treatment of less than three days\\nii. Expenses incurred for alternative treatment\\niii. Expenses incurred for maternity or infertility\\niv. Expenses incurred for any of the following diseases;\\na) Asthma\\nf) Influenza, cough and cold\\nb) Bronchitis\\ng) All psychiatric or psychosomatic disorders\\nc) Chronic nephritis and nephritic syndrome\\nh) Pyrexia of unknown origin for less than ten days\\nd) Diarrhoea and all type of dysenteries including\\ni) Tonsillitis and upper respiratory tract infection\\ngastroenteritis\\nincluding laryngitis and pharingitis\\ne) Epilepsy\\nj) Arthritis, gout and rheumatism\\nNational Insurance Co. Ltd.\\nNational Parivar Mediclaim Plus Policy\\nPremises No. 18-0374, Plot no. CBD-81,\\nPage 5 of 25\\nUIN: NICHLIP25039V032425\\nNew Town, Kolkata 700156\\n3.1.5 Day Care Procedure\\nThe Company shall indemnify the Medical Expenses (including Pre and Post Hospitalisation Expenses) for Day Care Treatments\\nrequiring Hospitalization as an In-Patient for less than 24 hours undergone by the Insured Person in a Hospital/ Day Care Centre,\\nbut not in the Outpatient department of a Hospital.\\n3.1.6 AYUSH Treatment\\nThe Company shall indemnify Medical Expenses incurred for Inpatient Care treatment under Ayurveda, Yoga and Naturopathy,\\nUnani, Siddha and Homeopathy systems of medicines during each Policy Period up to the limit of Sum Insured as specified in the\\nPolicy Schedule in any AYUSH Hospital.\\n3.1.7 Organ Donor\\'s Medical Expenses\\nOrgan Donor\\'s Hospitalisation Expenses\\nThe Company shall indemnify the Medical Expenses incurred in respect of an organ donor\\'s Hospitalisation during the Policy\\nPeriod for harvesting of the organ donated to an Insured Person, provided that:\\ni. The organ donation confirms to the Transplantation of Human Organs Act 1994 (and its amendments from time to time)\\nii. The organ is used for an Insured Person and the Insured Person has been medically advised to undergo an organ transplant\\niii. The Medical Expenses shall be incurred in respect of the organ donor as an in-patient in a Hospital.\\niv. Claim has been admitted under In-patient Treatment Section in respect of the Insured Person undergoing the organ\\ntransplant.\\nExclusions\\nThe Company shall not be liable to make payment for any claim under this Cover which arises for or in connection with any of the\\nfollowing:\\ni. Pre-hospitalization Medical Expenses or Post- Hospitalization Medical Expenses of the organ donor.\\nii. Costs directly or indirectly associated with the acquisition of the donor\\'s organ.\\niii. Medical Expenses where the organ transplant is experimental or investigational.\\niv. Any medical treatment or complication in respect of the donor, consequent to harvesting.\\nV. Any expenses related to organ transportation or preservation.\\n3.1.8 Hospital Cash\\nThe Company shall pay the insured a daily hospital cash allowance up to the limit as shown in the Table of Benefits for a maximum\\nof five days, provided:\\ni. the hospitalisation exceeds three days.\\nii. a claim has been admitted under In-patient Treatment Section\\nHospital Cash shall be payable for each day from the 4th day of Hospitalisation up to the 8th day of Hospitalisation only.\\nHospitalisation of less than 24 hours shall not be considered for the purpose of payment of Hospital Cash\\n3.1.9 Ambulance\\nThe Company shall reimburse the insured the expenses incurred for ambulance charges for transportation to the hospital, or from\\none hospital to another hospital, up to the limit as shown in the Table of Benefits, provided a claim has been admitted under In-\\npatient Treatment Section.\\n3.1.10 Air Ambulance\\nThe Company shall reimburse the insured the expenses incurred for medical evacuation of the insured person by air ambulance to\\nthe nearest hospital or from one hospital to another hospital following an emergency up to the limit as per the Table of Benefits,\\nprovided prior intimation is given to the Company/TPA, and a claim has been admitted under In-patient Treatment Section.\\n3.1.11 Medical Emergency Reunion\\nIn the event of the insured person being hospitalised in a place away from the place of residence for more than five continuous days\\nin an intensive care unit for any life threatening condition, the Company after obtaining confirmation from the attending medical\\npractitioner, of the need of a \\'family member\\' to be present, shall reimburse the expenses of a round trip economy class air ticket\\nfor Plan B and Plan C to allow a family member, provided a claim has been admitted under In-patient Treatment Section.\\nFor the purpose of the Section, \\'family member\\' shall mean spouse, children and parents of the insured person.\\n3.1.12 Doctor\\'s Home Visit and Nursing Care during Post Hospitalisation\\nThe Company shall reimburse the insured, for medically necessary expenses incurred for doctor\\'s home visit charges, nursing care\\nby qualified nurse during post hospitalisation up to the limit as shown in the Table of Benefits.\\n3.1.13 Anti Rabies Vaccination\\nThe Company shall reimburse the insured medically necessary expenses incurred for anti-rabies vaccination up to the limit as shown\\nin the Table of Benefits. Hospitalisation is not required for vaccination.\\n3.1.14 Maternity\\nThe Company shall indemnify Maternity Expenses as described below for any female Insured Person, and also Pre-Natal and Post-\\nNatal Hospitalisation expenses per delivery, including expenses for necessary vaccination for New Born Baby, subject to the limit\\nNational Insurance Co. Ltd.\\nNational Parivar Mediclaim Plus Policy\\nPremises No. 18-0374, Plot no. CBD-81,\\nPage 6 of 25\\nUIN: NICHLIP25039V032425\\nNew Town, Kolkata 700156\\nas shown in the Table of Benefits. The female Insured Person should have been continuously covered for at least 24 months before\\navailing this benefit.\\nThe New Born Baby shall be automatically covered from birth under the Sum Insured available to the mother during the\\ncorresponding Policy Period, for up to 3 months of age. On attaining 3 months of age, the New Born Baby shall be covered only if\\nspecifically included in the Policy mid-term and requisite premium paid to the Company.\\nCover\\nMaternity Expenses means;\\na) Medical treatment expenses traceable to childbirth (including complicated deliveries and caesarean sections incurred during\\nHospitalization);\\nb) Expenses towards lawful medical termination of pregnancy during the Policy Period.\\nNote: Ectopic pregnancy is covered under \\'In-patient treatment\\', provided such pregnancy is established by medical reports.\\nExclusions\\nThe Company shall not be liable to make any payment under the cover in respect of Maternity Expenses incurred in connection with\\nor in respect of:\\n1. Covered female Insured Person below eighteen (18) years and above forty-five (45) years of age.\\n2. Delivery or termination within a Waiting Period of twenty-four (24) months. However, the Waiting Period may be waived\\nonly in the case of delivery, miscarriage or abortion induced by accident.\\n3. Delivery or lawful medical termination of pregnancy limited to two deliveries or terminations or either has been paid under\\nthe Policy and its Renewals.\\n4. More than one delivery or lawful medical termination of pregnancy during a single Policy Period.\\n5. Maternity Expenses of Surrogate Mother, unless claim is admitted under Section 3.1.15 (Infertility)\\n6. Ectopic pregnancy\\n7. Pre and post hospitalisation expenses, other than pre and post natal treatment.\\n3.1.15 Infertility\\nThe Company shall pay to the hospital or reimburse the insured, in respect of the medical expenses of the insured and his spouse,\\nif covered by the Policy, for treatment undergone as an in-patient or as a day care treatment, for procedures and/ or treatment of\\ninfertility, provided the Policy has been continuously in force for twenty four (24) months from the inception of the Policy or from\\nthe date of inclusion of the insured person, whichever is later. The medical expenses for either or both the insured person shall be\\nsubject to the limit as shown in the Table of Benefits.\\nExclusions\\nThe Company shall not be liable to make any payment in respect of any expenses incurred in connection with or in respect of\\n1. Insured and insured persons above forty five years of age.\\n2. Diagnostic tests related to infertility\\n3. Reversing a tubal ligation or vasectomy\\n4. Preserving and storing sperms, eggs and embryos\\n5. An egg donor or sperm donor\\n6. Experimental treatments\\n7. Any disease/ injury, other than traceable to maternity, of the surrogate mother.\\nConditions\\n1. Expenses for advanced procedures, including IVF, GIFT, ZIFT or ICSI, shall be payable only if the Insured person has been\\nunable to attain or sustain a successful pregnancy through reasonable, and medically necessary infertility treatment.\\n2. Maternity expenses of the surrogate mother shall be payable under Section 3.1.14 (Maternity). Legal affidavit regarding\\nintimation of surrogacy shall be submitted to the Company.\\n3. Maximum of two claims shall be admissible by the Policy during the lifetime of the insured person if he has no living child\\nand one claim if the insured has one living child.\\n4. Any one illness limit shall not apply.\\nDefinitions for the purpose of the Section\\n1. Donor means an oocyte donor or sperm donor.\\n2. Embryo means a fertilized egg where cell division has commenced/ under the process and has completed the pre-embryonic\\nstage.\\n3. Gamete Intra-Fallopian Transfer (GIFT) means a procedure where the sperm and egg are placed inside a catheter separated\\nby an air bubble and then transferred to the fallopian tube. Fertilization takes place naturally.\\n4. Infertility means the inability to conceive after one year of unprotected sexual intercourse or the inability to sustain a\\nsuccessful pregnancy. However the one year period may be waived, provided a medical practitioner determines existence of a\\nmedical condition rendering conception impossible through unprotected sexual intercourse, including but not limited to\\ncongenital absence of the uterus or ovaries, absence of the uterus or ovaries due to surgical removal due to a medical condition,\\nor involuntary sterilization due to chemotherapy or radiation treatments.\\n5. Intra-Cytoplasmic Sperm Injection (ICSI) means an injection of sperm into an egg for fertilisation.\\n6. In Vitro Fertilization (IVF) means a process in which an egg and sperm are combined in a laboratory dish where fertilization\\noccurs. The fertilized and dividing egg is transferred into the uterus of the woman.\\nNational Insurance Co. Ltd.\\nNational Parivar Mediclaim Plus Policy\\nPremises No. 18-0374, Plot no. CBD-81,\\nPage 7 of 25\\nUIN: NICHLIP25039V032425\\nNew Town, Kolkata 700156\\n7. Surrogate means a woman who carries a pregnancy for the insured person.\\n8. Zygote Intra-Fallopian Transfer (ZIFT) means a procedure where the egg is fertilized in vitro and transferred to the\\nfallopian tube before dividing.\\n3.1.16 Vaccination for Children\\nThe Company shall reimburse the insured, the expenses incurred for vaccinations of children (up to twelve years for male child and\\nup to fourteen years for female child), as listed in Annexure I, up to the limit as shown in the Table of Benefits, provided the children\\nare covered by the Policy. Hospitalisation is not required for this benefit.\\n3.1.17 HIV/ AIDS Cover\\nThe Company shall indemnify the Hospital or the Insured the Medical Expenses (including Pre and Post Hospitalisation Expenses)\\nrelated to following stages of HIV infection:\\ni. Acute HIV infection - acute flu-like symptoms\\nii. Clinical latency - usually asymptomatic or mild symptoms\\niii. AIDS - full-blown disease; CD4 < 200\\n3.1.18 Mental Illness Cover\\nThe Company shall indemnify the Hospital or the Insured the Medical Expenses (including Pre and Post Hospitalisation Expenses)\\nrelated to Mental Illnesses, provided the treatment shall be undertaken at a Hospital with a specific department for Mental Illness,\\nunder a Medical Practitioner qualified as Psychiatrist or a professional having a post-graduate degree (Ayurveda) in Mano Vigyan\\nAvum Manas Roga or a post-graduate degree (Homoeopathy) in Psychiatry or a post-graduate degree (Unani) in Moalijat\\n(Nafasiyatt) or a post-graduate degree (Siddha) in Sirappu Maruthuvam.\\nExclusions\\nAny kind of Psychological counselling, cognitive/ family/ group/ behavior/ palliative therapy or other kinds of psychotherapy for\\nwhich Hospitalisation is not necessary shall not be covered.\\n3.1.19 Modern Treatment\\nThe Company shall indemnify the Medical Expenses for In-Patient Care, Domiciliary Hospitalisation or Day Care Procedure along\\nwith Pre Hospitalisation expenses and Post Hospitalisation expenses incurred for following Modern Treatments (wherever\\nmedically indicated), subject to the limit of 25% of the Sum Insured for the related modern procedure/ component/ medicine of each\\nModern Treatment during the Policy Period.\\nModern Treatment\\nCoverage\\nUAE & HIFU\\nLimit is for Procedure cost only\\nBalloon Sinuplasty\\nLimit is for Balloon cost only\\nDeep Brain Stimulation\\nLimit is for implants including batteries only\\nOnly cost of medicines payable under this limit, other incidental charges like investigations and consultation\\nOral Chemotherapy\\ncharges not payable.\\nImmunotherapy\\nLimit is for cost of injections only.\\nIntravitreal injections\\nLimit is for complete treatment, including Pre & Post Hospitalization\\nRobotic Surgery\\nLimit is for robotic component only.\\nStereotactic Radio\\nsurgeries\\nLimit is for radiation procedure.\\nBronchial Thermoplasty\\nLimit is for complete treatment, including Pre & Post Hospitalization\\nVaporization of the\\nprostrate\\nLimit is for LASER component only.\\nIONM\\nLimit is for IONM procedure only.\\nStem cell therapy\\nLimit is for complete treatment, including Pre & Post Hospitalization\\n3.1.20 Morbid Obesity Treatment\\nThe Company shall indemnify the Hospital or the Insured the Medical Expenses, including Pre Hospitalisation expenses and Post\\nHospitalisation expenses incurred for surgical treatment of obesity that fulfils all the following conditions and subject to Waiting\\nPeriod of three (03) years as per Section 4.2.f.iv:\\n1. Treatment has been conducted is upon the advice of the Medical Practitioner, and\\n2. The surgery/Procedure conducted should be supported by clinical protocols, and\\n3. The Insured Person is 18 years of age or older, and\\n4. Body Mass Index (BMI) is;\\na) greater than or equal to 40 or\\nb) greater than or equal to 35 in conjunction with any of the following severe co-morbidities following failure of less invasive\\nmethods of weight loss:\\ni. Obesity-related cardiomyopathy\\nii. Coronary heart disease\\niii. Severe Sleep Apnea\\niv. Uncontrolled Type 2 Diabetes\\nNational Insurance Co. Ltd.\\nNational Parivar Mediclaim Plus Policy\\nPremises No. 18-0374, Plot no. CBD-81,\\nPage 8 of 25\\nUIN: NICHLIP25039V032425\\nNew Town, Kolkata 700156\\n3.1.21 Correction of Refractive Error\\nThe Company shall indemnify the Hospital or the Insured the Medical Expenses, including Pre Hospitalisation expenses and Post\\nHospitalisation expenses incurred for expenses related to the treatment for correction of eye sight due to refractive error equal to or\\nmore than 7.5 dioptres, subject to Waiting Period of two (02) years as per Section 4.2.f.iii.\\nNote: The expenses that are not covered in this policy are placed under List-1 of Annexure-II of the Policy. The list of expenses that\\nare to be subsumed into room charges, or procedure charges or costs of treatment are placed under List-II, List-III and List-IV of\\nAnnexure-II of the Policy respectively\\nAggregate of all the benefits under 3.1.1 to 3.1.21 are subject to the Floater Sum Insured opted.\\n3.1.22 Reinstatement of Sum Insured due to Road Traffic Accident\\nIn the event of the sum insured being exhausted on account of claims arising out of any injury due to road traffic accident during a\\npolicy year, if the Insured and/or Insured Person (s) has to subsequently incur any expenses on hospitalisation due to any other\\ndisease/injury, the Company shall reinstate the sum insured as mentioned in the schedule. Reinstatement shall be allowed only once\\nduring the policy year and the maximum amount payable under a single claim shall not exceed the sum insured as mentioned in the\\nschedule.\\n3.2 GOOD HEALTH INCENTIVES\\n3.2.1 No Claim Discount (NCD)\\nOn renewal of policies with a term of one year, a NCD of flat 5% shall be allowed on the * base premium, provided claims are not\\nreported in the expiring Policy.\\nOn renewal of policies with a term exceeding one year, the NCD amount with respect to each claim free policy year shall be\\naggregated and allowed on renewal. Aggregate amount of NCD allowed shall not exceed flat 5% of the total base premium for the\\nterm of the policy.\\n* Base premium depends on the zone and sum insured and is the aggregate of the premium for senior most insured person and other insured\\npersons for a year.\\n3.2.2 Health Check Up\\nExpenses of health check up shall be reimbursed (irrespective of past claims) at the end of a block of two continuous policy years,\\nprovided the Policy has been continuously renewed with the Company without a break. Expenses payable are subject to the limit\\nstated in the Table of Benefits.\\n4 EXCLUSIONS\\nThe Company shall not be liable to make any payment by the Policy, in respect of any expenses incurred in connection with or in\\nrespect of:\\n4.1. Pre-Existing Diseases (Excl 01)\\na) Expenses related to the treatment of a Pre-Existing Disease (PED) and its direct complications shall be excluded until the\\nexpiry of thirty six (36) months of continuous coverage after the date of inception of the first policy with us.\\nb) In case of enhancement of sum insured the exclusion shall apply afresh to the extent of sum insured increase.\\nc) If the Insured Person is continuously covered without any break as defined under the portability norms of the extant IRDAI\\n(Health Insurance) Regulations then waiting period for the same would be reduced to the extent of prior coverage.\\nd) Coverage under the policy after the expiry of thirty six (36) months for any pre-existing disease is subject to the same being\\ndeclared at the time of application and accepted by us.\\n4.2. Specified disease/procedure waiting period (Excl 02)\\na) Expenses related to the treatment of the listed Conditions, surgeries/treatments shall be excluded until the expiry of 90 days/\\none year/ two year/ three years (as specified against specific disease/ procedure) of continuous coverage after the date of\\ninception of the first policy with us. This exclusion shall not be applicable for claims arising due to an accident\\nb) In case of enhancement of sum insured the exclusion shall apply afresh to the extent of sum insured increase.\\nc) If any of the specified disease/procedure falls under the waiting period specified for Pre-Existing Diseases, then the longer\\nof the two waiting periods shall apply.\\nd) The waiting period for listed conditions shall apply even if contracted after the policy or declared and accepted without a\\nspecific exclusion.\\ne) If the Insured Person is continuously covered without any break as defined under the applicable norms on portability\\nstipulated by IRDAI, then waiting period for the same would be reduced to the extent of prior coverage.\\nf) List of specific diseases/procedures\\ni.\\n90 Days Waiting Period (Life style conditions)\\na. Hypertension and related complications\\nb. Diabetes and related complications\\nc. Cardiac conditions\\nii. One year waiting period\\na. Benign ENT disorders\\nd. Mastoidectomy\\nb. Tonsillectomy\\ne. Tympanoplasty\\nc. Adenoidectomy\\nNational Insurance Co. Ltd.\\nPremises No. 18-0374, Plot no. CBD-81,\\nNational Parivar Mediclaim Plus Policy\\nPage 9 of 25\\nUIN: NICHLIP25039V032425\\nNew Town, Kolkata 700156\\niii. Two years waiting period\\na. Cataract\\nm. Surgery of gall bladder and bile duct excluding\\nb. Benign prostatic hypertrophy\\nmalignancy\\nc. Hernia\\nn. Surgery of genito-urinary system excluding\\nd. Hydrocele\\nmalignancy\\ne. Fissure/Fistula in anus\\nO. Surgery for prolapsed intervertebral disc unless\\nf. Piles (Haemorrhoids)\\narising from accident\\ng. Sinusitis and related disorders\\np. Surgery of varicose vein\\nh. Polycystic ovarian disease\\nq. Hysterectomy\\ni. Non-infective arthritis\\nr. Refractive error of the eye more than 7.5 dioptres\\nj. Pilonidal sinus\\nS. Congenital Internal Anomaly (not applicable for\\nk. Gout and Rheumatism\\nnew born baby)\\n1. Calculus diseases\\nAbove diseases/treatments under 4.2.f).i, ii, iii shall be covered after the specified Waiting Period, provided they are not Pre Existing\\nDiseases.\\niv. Three years waiting period\\nFollowing diseases shall be covered after three years of continuous cover from the inception of the policy:\\na. Treatment for joint replacement unless arising from accident\\nb. Osteoarthritis and osteoporosis\\nc. Morbid Obesity and its complications\\nd. Stem Cell Therapy: Hematopoietic stem cells for bone marrow transplant for haematological conditions to be covered.\\n4.3. First 30 days waiting period (Excl 03)\\na) Expenses related to the treatment of any illness within thirty (30) days from the first policy commencement date shall be\\nexcluded except claims arising due to an accident, provided the same are covered.\\nb) This exclusion shall not, however, apply if the Insured Person has Continuous Coverage for more than twelve (12) months.\\nc) The within referred waiting period is made applicable to the enhanced sum insured in the event of granting higher sum\\ninsured subsequently.\\n4.4. Investigation & Evaluation (Excl 04)\\na) Expenses related to any admission primarily for diagnostics and evaluation purposes only are excluded.\\nb) Any diagnostic expenses which are not related or not incidental to the current diagnosis and treatment are excluded.\\n4.5. Rest Cure, Rehabilitation and Respite Care (Excl 05)\\na) Expenses related to any admission primarily for enforced bed rest and not for receiving treatment. This also includes:\\ni. Custodial care either at home or in a nursing facility for personal care such as help with activities of daily living such as\\nbathing, dressing, moving around either by skilled nurses or assistant or non-skilled persons.\\nii. Any services for people who are terminally ill to address physical, social, emotional and spiritual needs.\\n4.6. Obesity/ Weight Control (Excl 06)\\nExpenses related to the surgical treatment of obesity that does not fulfil all the below conditions:\\n1) Surgery to be conducted is upon the advice of the Doctor\\n2) The surgery/Procedure conducted should be supported by clinical protocols\\n3) The member has to be 18 years of age or older and\\n4) Body Mass Index (BMI):\\na. greater than or equal to 40, or\\nb. greater than or equal to 35 in conjunction with any of the following severe co-morbidities following failure of less\\ninvasive methods of weight loss:\\ni. Obesity-related cardiomyopathy\\nii. Coronary heart disease\\niii. Severe Sleep Apnea\\niv. Uncontrolled Type2 Diabetes\\n4.7. Change-of-Gender Treatments (Excl 07)\\nExpenses related to any treatment, including surgical management, to change characteristics of the body to those of the opposite\\nsex.\\n4.8. Cosmetic or Plastic Surgery (Excl 08)\\nExpenses for cosmetic or plastic surgery or any treatment to change appearance unless for reconstruction following an Accident,\\nBurn(s) or Cancer or as part of medically necessary treatment to remove a direct and immediate health risk to the insured. For this\\nto be considered a medical necessity, it must be certified by the attending Medical Practitioner.\\n4.9. Hazardous or Adventure Sports (Excl 09)\\nExpenses related to any treatment necessitated due to participation as a professional in hazardous or adventure sports, including\\nbut not limited to, para-jumping, rock climbing, mountaineering, rafting, motor racing, horse racing or scuba diving, hand gliding,\\nsky diving, deep-sea diving.\\nNational Insurance Co. Ltd.\\nNational Parivar Mediclaim Plus Policy\\nPremises No. 18-0374, Plot no. CBD-81,\\nPage 10 of 25\\nUIN: NICHLIP25039V032425\\nNew Town, Kolkata 700156\\n4.10.\\nBreach of Law (Excl 10)\\nExpenses for treatment directly arising from or consequent upon any Insured Person committing or attempting to commit a breach\\nof law with criminal intent.\\n4.11.\\nExcluded Providers (Excl11)\\nExpenses incurred towards treatment in any hospital or by any Medical Practitioner or any other provider specifically excluded by\\nthe Company and disclosed in its website / notified to the policyholders are not admissible. However, in case of life threatening\\nsituations following an accident, expenses up to the stage of stabilization are payable but not the complete claim.\\n4.12.\\nDrug/Alcohol Abuse (Excl 12)\\nTreatment for, Alcoholism, drug or substance abuse or any addictive condition and consequences thereof (Excl 12)\\n4.13.\\nNon Medical Admissions (Excl 13)\\nTreatments received in health hydros, nature cure clinics, spas or similar establishments or private beds registered as a nursing\\nhome attached to such establishments or where admission is arranged wholly or partly for domestic reasons (Excl 13)\\n4.14.\\nVitamins, Tonics (Excl 14)\\nDietary supplements and substances that can be purchased without prescription, including but not limited to Vitamins, minerals\\nand organic substances unless prescribed by a medical practitioners part of hospitalization claim or day care procedure\\n4.15.\\nRefractive Error (Excl 15)\\nExpenses related to the treatment for correction of eye sight due to refractive error less than 7.5 dioptres.\\n4.16.\\nUnproven Treatments (Excl16)\\nExpenses related to any unproven treatment, services and supplies for or in connection with any treatment. Unproven treatments\\nare treatments, procedures or supplies that lack significant medical documentation to support their effectiveness.\\n4.17.\\nHormone Replacement Therapy\\nExpenses for hormone replacement therapy, unless part of Medically Necessary Treatment, except for Puberty and Menopause\\nrelated Disorders\\n4.18.\\nGeneral Debility, Congenital External Anomaly\\nGeneral debility, Congenital external anomaly.\\n4.19.\\nSelf Inflicted Injury\\nTreatment for intentional self-inflicted injury, attempted suicide.\\n4.20.\\nStem Cell Surgery\\nStem Cell Surgery (except Hematopoietic stem cells for bone marrow transplant for haematological conditions).\\n4.21.\\nCircumcision\\nCircumcision unless necessary for treatment of a disease (if not excluded otherwise) or necessitated due to an accident.\\n4.22.\\nVaccination or Inoculation.\\nVaccination or inoculation unless forming part of treatment and requires Hospitalisation, except as and to the extent provided for\\nunder Section 3.1.13 (Anti Rabies Vaccination), Section 3.1.14.iv and Section 3.1.16 (Vaccination for Children).\\n4.23.\\nMassages, Steam Bath, Alternative Treatment (Other than AYUSH treatment)\\nMassages, steam bath, expenses for alternative treatments (other than AYUSH treatment), acupuncture, acupressure, magneto-\\ntherapy and similar treatment.\\n4.24.\\nDental treatment\\nDental treatment, unless necessitated due to an Injury.\\n4.25.\\nOut Patient Department (OPD)\\nAny expenses incurred on OPD.\\n4.26.\\nStay in Hospital which is not Medically Necessary.\\nStay in hospital which is not medically necessary.\\n4.27.\\nSpectacles, Contact Lens, Hearing Aid, Cochlear Implants\\nSpectacles, contact lens, hearing aid, cochlear implants.\\n4.28.\\nNon Prescription Drug\\nDrugs not supported by a prescription, private nursing charges, referral fee to family physician, outstation\\ndoctor/surgeon/consultants fees and similar expenses.\\nNational Insurance Co. Ltd.\\nNational Parivar Mediclaim Plus Policy\\nPremises No. 18-0374, Plot no. CBD-81,\\nPage 11 of 25\\nUIN: NICHLIP25039V032425\\nNew Town, Kolkata 700156\\n4.29.\\nTreatment not Related to Disease for which Claim is Made\\nTreatment which the insured person was on before Hospitalisation for the Illness/Injury, different from the one for which claim for\\nHospitalisation has been made.\\n4.30.\\nEquipments\\nExternal/durable medical/non-medical equipments/instruments of any kind used for diagnosis/ treatment including CPAP, CAPD,\\ninfusion pump, ambulatory devices such as walker, crutches, belts, collars, caps, splints, slings, braces, stockings, diabetic foot-\\nwear, glucometer, thermometer and similar related items and any medical equipment which could be used at home subsequently.\\n4.31.\\nItems of personal comfort\\nItems of personal comfort and convenience including telephone, television, aya, barber, beauty services, baby food, cosmetics,\\nnapkins, toiletries, guest services.\\n4.32.\\nService charge/ registration fee\\nAny kind of service charges including surcharges, admission fees, registration charges and similar charges levied by the hospital.\\n4.33. Home visit charges\\nHome visit charges during Pre and Post Hospitalisation of doctor, attendant and nurse, except as and to the extent provided for under\\nSection 3.1.12 (Doctor\\'s Home Visit and Nursing Care during Post Hospitalisation).\\n4.34.\\nWar\\nWar (whether declared or not) and war like occurrence or invasion, acts of foreign enemies, hostilities, civil war, rebellion,\\nrevolutions, insurrections, mutiny, military or usurped power, seizure, capture, arrest, restraints and detainment of all kinds.\\n4.35.\\nRadioactivity\\nNuclear, chemical or biological attack or weapons, contributed to, caused by, resulting from or from any other cause or event\\ncontributing concurrently or in any other sequence to the loss, claim or expense. For the purpose of this exclusion:\\na) Nuclear attack or weapons means the use of any nuclear weapon or device or waste or combustion of nuclear fuel or the\\nemission, discharge, dispersal, release or escape of fissile/ fusion material emitting a level of radioactivity capable of causing\\nany Illness, incapacitating disablement or death.\\nb) Chemical attack or weapons means the emission, discharge, dispersal, release or escape of any solid, liquid or gaseous\\nchemical compound which, when suitably distributed, is capable of causing any Illness, incapacitating disablement or death.\\nc) Biological attack or weapons means the emission, discharge, dispersal, release or escape of any pathogenic (disease\\nproducing) micro-organisms and/or biologically produced toxins (including genetically modified organisms and chemically\\nsynthesized toxins) which are capable of causing any Illness, incapacitating disablement or death.\\n4.36.\\nTreatment taken outside the geographical limits of India\\n5 CONDITIONS\\n5.1 Disclosure of Information\\nThe policy shall be void and all premium paid thereon shall be forfeited to the Company in the event of misrepresentation, mis\\ndescription or non-disclosure of any material fact by the policyholder.\\n(Explanation: \"Material facts\" for the purpose of this policy shall mean all relevant information sought by the company in the\\nproposal form and other connected documents to enable it to take informed decision in the context of underwriting the risk)\\n5.2 Condition Precedent to Admission of Liability\\nThe terms and conditions of the policy must be fulfilled by the insured person for the Company to make any payment for claim(s)\\narising under the policy.\\n5.3 Communication\\ni. All communication should be made in writing.\\nii. For policies serviced by TPA, ID card, PPN/network provider related issues to be communicated to the TPA at the address\\nmentioned in the schedule. For claim serviced by the Company, the Policy related issues to be communicated to the Policy\\nissuing office of the Company at the address mentioned in the schedule.\\niii. Any change of address, state of health or any other change affecting any of the insured person, shall be communicated to the\\nPolicy issuing office of the Company at the address mentioned in the schedule\\niv. The Company or TPA shall communicate to the insured at the address mentioned in the schedule.\\n5.4 Physical Examination\\nAny medical practitioner authorised by the Company shall be allowed to examine the insured person in the event of any alleged\\ninjury or disease requiring hospitalisation when and as often as the same may reasonably be required on behalf of the Company.\\n5.5 Claim Procedure\\n5.5.1 Notification of Claim\\nNational Insurance Co. Ltd.\\nNational Parivar Mediclaim Plus Policy\\nPremises No. 18-0374, Plot no. CBD-81,\\nPage 12 of 25\\nUIN: NICHLIP25039V032425\\nNew Town, Kolkata 700156\\nIn the event of hospitalisation/ domiciliary hospitalisation, the insured person/insured person\\'s representative shall notify the TPA\\n(if claim is processed by TPA)/Company (if claim is processed by the Company) in writing by letter, e-mail, fax providing all\\nrelevant information relating to claim including plan of treatment, policy number etc. within the prescribed time limit.\\nNotification of claim for Cashless facility\\nTPA must be informed:\\nIn the event of planned hospitalization\\nAt least seventy two hours prior to the insured person\\'s\\nadmission\\nIn the event of emergency hospitalization\\nWithin twenty four hours of the insured person\\'s admission\\nNotification of claim for Reimbursement\\nCompany/TPA must be informed:\\nIn the event of planned hospitalisation/ domiciliary\\nAt least seventy two hours prior to the insured person\\'s\\nhospitalistion/\\nadmission to hospital/ inception of domiciliary hospitalisation\\nIn the event of emergency hospitalisation/ domiciliary\\nWithin twenty four hours of the insured person\\'s admission to\\nhospitalistion\\nhospital/ inception of domiciliary hospitalisation\\nNotification of claim for vaccination\\nCompany/TPA must be informed:\\nIn the event of Anti Rabies Vaccination/ Vaccination for\\nAt least twenty four hours prior to the vaccination\\nChildren\\n5.5.2 Procedure for Cashless Claims\\ni. Cashless facility can be availed, if TPA service is opted.\\nii. Treatment may be taken in a Network Provider / PPN or Non Network Provider and is subject to pre-authorisation by the TPA.\\nUpdated list of network provider/PPN is available on the website of the Company and the TPA mentioned in the schedule.\\niii. Cashless request form available with the network provider/PPN and TPA shall be completed and sent to the TPA for\\nauthorization.\\niv. The TPA upon getting cashless request form and related medical information from the insured person/ network provider/PPN\\nshall issue a pre-authorization letter within an hour to the hospital after verification.\\nV. At the time of discharge, the insured person has to verify and sign the discharge papers, pay for non-medical and inadmissible\\nexpenses.\\nvi. The TPA shall grant the final authorization within three hours of the receipt of discharge authorization request from the\\nHospital\\nvii. The TPA reserves the right to deny pre-authorization in case the insured person is unable to provide the relevant medical details.\\nviii. In case of denial of cashless access, the insured person may obtain the treatment as per treating doctor\\'s advice and submit the\\nclaim documents to the TPA for processing.\\n5.5.3 Procedure for Reimbursement of Claims\\nFor reimbursement of claims the insured may submit the necessary documents to TPA (if claim is processed by TPA)/Company (if\\nclaim is processed by the Company) within the prescribed time limit.\\n5.5.3.1 Procedure for Reimbursement of Claims under Domiciliary Hospitalisation\\nFor reimbursement of claims under domiciliary hospitalisation, the insured may submit the necessary documents to TPA (if claim\\nis processed by TPA)/Company (if claim is processed by the Company) within the prescribed time limit.\\n5.5.4 Documents\\nThe claim is to be supported by the following documents in original and submitted within the prescribed time limit.\\ni. Completed claim form\\nii. Bills, payment receipts, medical history of the patient recorded, discharge certificate/ summary from the hospital etc.\\niii. Cash-memo from the hospital (s)/chemist (s) supported by proper prescription\\niv. Payment receipt, investigation test reports etc. supported by the prescription from the attending medical practitioner\\nV. Attending medical practitioner\\'s certificate regarding diagnosis along with date of diagnosis and bill receipts etc.\\nvi. Certificate from the surgeon stating diagnosis and nature of operation and bills/receipts etc.\\nvii. For claim under Domiciliary Hospitalisation in addition to documents listed above (as applicable), medical certificate stating\\nthe circumstances requiring for Domiciliary hospitalisation and fitness certificate from treating medical practitioner.\\nviii. For claim under Maternity for surrogacy under Infertility in addition to documents listed above (as applicable), legal affidavit\\nregarding intimation of surrogacy.\\nix. For claim under Medical Emergency Reunion in addition to documents listed above (as applicable), confirmation of the need\\nof family member from attending medical practitioner\\nX. For claim under Reinstatement of Sum Insured due to Road Traffic Accident in addition to documents listed above (as\\napplicable), police investigation report, confirming the road traffic accident.\\nxi. Any other document required by Company/TPA\\nNote\\nIn the event of a claim lodged as per condition 5.8 and the original documents having been submitted to the other insurer, the\\nCompany may accept the documents listed under condition 5.5.4 and claim settlement advice duly certified by the other insurer\\nsubject to satisfaction of the Company.\\nNational Insurance Co. Ltd.\\nNational Parivar Mediclaim Plus Policy\\nPremises No. 18-0374, Plot no. CBD-81,\\nPage 13 of 25\\nUIN: NICHLIP25039V032425\\nNew Town, Kolkata 700156\\nType of claim\\nTime limit for submission of documents to Company/TPA\\nReimbursement of hospitalization, pre hospitalisation\\nWithin fifteen days from date of discharge from hospital\\nexpenses and ambulance charges, air ambulance charges and\\nmedical emergency reunion charges\\nReimbursement of post hospitalisation expenses and\\nWithin fifteen days from completion of post hospitalisation\\ndoctor\\'s home visit and nursing care during post\\ntreatment\\nhospitalization\\nReimbursement of domiciliary hospitalisation expenses\\nWithin fifteen days from issuance of fitness certificate\\nReimbursement of anti rabies vaccination, new born baby\\nWithin fifteen days from date of vaccination\\nvaccination and vaccination of children\\nReimbursement of expenses for infertility treatment\\nWithin fifteen days of completion of treatment or fifteen days\\nof expiry of Policy period, whichever is earlier, once during the\\npolicy year\\nReimbursement of health check up expenses (to be\\nAt least forty five (45) days before the expiry of the third Policy\\nsubmitted to the office only)\\nYear.\\n5.5.5 Claim Settlement\\ni. The Company shall settle or reject a claim, as the case may be, within 15 days from the date of receipt of last necessary\\ndocument.\\nii. In the case of delay in the payment of a claim, the Company shall be liable to pay interest to the policyholder from the date of\\nreceipt of last necessary document to the date of payment of claim at a rate 2% above the bank rate.\\niii. However, where the circumstances of a claim warrant an investigation in the opinion of the Company, it shall initiate and\\ncomplete such investigation at the earliest, in any case not later than 30 days from the date of receipt of last necessary document.\\nIn such cases, the Company shall settle or reject the claim within 45 days from the date of receipt of last necessary document.\\niv. In case of delay beyond stipulated 45 days, the Company shall be liable to pay interest to the policyholder at a rate 2% above\\nthe bank rate from the date of receipt of last necessary document to the date of payment of claim.\\n(Explanation: \"Bank rate\" shall mean the rate fixed by the Reserve Bank of India (RBI) at the beginning of the financial year in\\nwhich claim has fallen due)\\n5.5.6 Services Offered by TPA\\nThe TPA shall render health care services covered by the Policy including issuance of ID cards & guide book, hospitalization &\\npre-authorization services, call centre, acceptance of claim related documents, claim processing and other related services\\nThe services offered by a TPA shall not include\\ni. Claim settlement and claim rejection; however, TPA may handle claims admission and recommend to the Company for\\nsettlement of the claim\\nii. Any services directly to any insured person or to any other person unless such service is in accordance with the terms and\\nconditions of the Agreement entered into with the Company.\\nWaiver\\nTime limit for notification of claim and submission of documents may be waived in cases where it is proved to the satisfaction of\\nthe Company, that the physical circumstances under which insured person was placed, it was not possible to intimate the\\nclaim/submit the documents within the prescribed time limit.\\n5.5.7 Classification of * Zone and Co-payment\\nThe amount of claim admissible will depend upon the zone for which premium has been paid and the zone where treatment has\\nbeen taken.\\n* The country has been divided into four zones.\\nZone I - Greater Mumbai Metropolitan area, entire state of Gujarat\\nZone II - National Capital Territory (NCT) Delhi and National Capital Region (# NCR), Chandigarh, Pune\\nZone III - Chennai, Hyderabad, Bangalore, Kolkata\\nZone IV - Rest of India\\n# NCR includes Gurgaon-Manesar, Alwar-Bhiwadi, Faridabad-Ballabgarh, Ghaziabad-Loni, Noida, Greater Noida, Bahadurgarh, Sonepat-\\nKundli, Charkhi Dadri, Bhiwani, Narnaul\\nWhere treatment has been taken in a zone, other than the one for which ** premium has been paid, the claim shall be subject to co-\\npayment.\\na. Insured paying premium as per Zone I can avail treatment in Zone I, Zone II, Zone III and Zone IV without co-payment\\nb. Insured paying premium as per Zone II\\na. Can avail treatment in Zone II, Zone III and Zone IV without any co-payment\\nb. Availing treatment in Zone I will be subject to a co-payment of 5%\\nc. Insured paying premium as per Zone III\\na. Can avail treatment in Zone III and Zone IV without any co-payment\\nb. Availing treatment in Zone I will be subject to a co-payment of 12.5%\\nc. Availing treatment in Zone II will be subject to a co-payment of 7.5%\\nd. Insured paying premium as per Zone IV\\nNational Insurance Co. Ltd.\\nNational Parivar Mediclaim Plus Policy\\nPremises No. 18-0374, Plot no. CBD-81,\\nPage 14 of 25\\nUIN: NICHLIP25039V032425\\nNew Town, Kolkata 700156\\na. Can avail treatment in Zone IV without any co-payment\\nb. Availing treatment in Zone I will be subject to a co-payment of 22.5%\\nc. Availing treatment in Zone II will be subject to a co-payment of 17.5%\\nd. Availing treatment in Zone III will be subject to a co-payment of 10%\\n** For premium rates please refer to the Prospectus/ Brochure\\n5.5.8 Optional Co-payment\\nThe Insured may opt for Optional Co-payment, with discount in premium. In such cases, each admissible claim under the Policy\\nshall be subject to the same Co-payment percentage. Any change in Optional Co-payment may be done only during Renewal.\\nInsured may choose either of the two Co-payment options:\\n20% Co-payment on each admissible claim under the Policy, with a 25% discount in total premium.\\n10% Co-payment on each admissible claim under the Policy, with a 12.5% discount in total premium.\\nAbove co-payments shall not be applicable on Critical illness & Outpatient treatment optional covers, but shall apply on Pre-existing\\ndiabetes and/ or hypertension optional cover.\\n5.6 Moratorium Period\\nAfter completion of sixty continuous months of coverage (including Portability and Migration), no claim shall be contestable by the\\nCompany on grounds of non-disclosure, misrepresentation, except on grounds of established fraud. This period of sixty continuous\\nmonths is called as Moratorium Period. The moratorium would be applicable for the Basic Sums Insured of the first policy.\\nWherever, the Basic Sum Insured is enhanced, completion of sixty continuous months would be applicable from the date of\\nenhancement of Basic Sums Insured only on the enhanced limits.\\n5.7 Payment of Claim\\nAll claims by the Policy shall be payable in Indian currency and through NEFT/RTGS only.\\n5.8 Territorial Limit\\nAll medical treatment for the purpose of this insurance will have to be taken in India only.\\n5.9 Multiple Policies\\ni. In case of multiple policies taken by an insured person during a period from one or more insurers to indemnify treatment costs,\\nthe insured person shall have the right to require a settlement of his/her claim in terms of any of his/her policies. In all such\\ncases the insurer chosen by the insured person shall be obliged to settle the claim as long as the claim is within the limits of and\\naccording to the terms of the chosen policy.\\nii. Insured person having multiple policies shall also have the right to prefer claims under this policy for the amounts disallowed\\nunder any other policy / policies. Then the insurer shall independently settle the claim subject to the terms and conditions of\\nthis policy.\\niii. If the amount to be claimed exceeds the sum insured under a single policy, the insured person shall have the right to choose\\ninsurer from whom he/she wants to claim the balance amount.\\niv. Where an insured person has policies from more than one insurer to cover the same risk on indemnity basis, the insured person\\nshall only be indemnified the treatment costs in accordance with the terms and conditions of the chosen policy.\\nV. On occurrence of an insured event under specified critical illnesses, the policyholders can claim from all Insurers under all\\npolicies.\\n5.10 Fraud\\nIf any claim made by the insured person, is in any respect fraudulent, or if any false statement, or declaration is made or used in\\nsupport thereof, or if any fraudulent means or devices are used by the insured person or anyone acting on his/her behalf to obtain\\nany benefit under this policy, all benefits under this policy and the premium paid shall be forfeited.\\nAny amount already paid against claims made under this policy but which are found fraudulent later shall be repaid by all\\nrecipient(s)/policyholder(s), who has made that particular claim, who shall be jointly and severally liable for such repayment to the\\ninsurer.\\nFor the purpose of this clause, the expression \"fraud\" means any of the following acts committed by the insured person or by his\\nagent or the hospital/doctor/any other party acting on behalf of the insured person, with intent to deceive the insurer or to induce the\\ninsurer to issue an insurance policy:\\na) the suggestion, as a fact of that which is not true and which the insured person does not believe to be true;\\nb) the active concealment of a fact by the insured person having knowledge or belief of the fact;\\nc) any other act fitted to deceive; and\\nd) any such act or omission as the law specially declares to be fraudulent\\nThe Company shall not repudiate the claim and / or forfeit the policy benefits on the ground of Fraud, if the insured person /\\nbeneficiary can prove that the misstatement was true to the best of his knowledge and there was no deliberate intention to suppress\\nthe fact or that such misstatement of or suppression of material fact are within the knowledge of the insurer.\\n5.11 Cancellation\\ni. The Company may cancel the policy at any time, on grounds of misrepresentation, non-disclosure of material facts or\\nestablished fraud by the insured person by giving 15 days\\' written notice. There would be no refund of premium on\\ncancellation on grounds of misrepresentation, non-disclosure of material facts or fraud.\\nNational Insurance Co. Ltd.\\nNational Parivar Mediclaim Plus Policy\\nPremises No. 18-0374, Plot no. CBD-81,\\nPage 15 of 25\\nUIN: NICHLIP25039V032425\\nNew Town, Kolkata 700156\\nii. The policyholder may cancel his/her policy at any time during the term, by giving 7 days\\' notice in writing. The Insurer shall:\\na) refund proportionate premium for unexpired policy period, if the term of policy upto one year and there is no claim (s)\\nmade during the policy period.\\nb) refund premium for the unexpired policy period, in respect of policies with term more than 1 year and risk coverage for\\nsuch policy years has not commenced and refund proportionate premium for unexpired policy period for the current\\npolicy year.\\nThere shall be no refund for the completed policy year elapsed.\\nNotwithstanding anything contained herein or otherwise, no refunds of premium shall be made in respect of Cancellation where,\\nany claim has been admitted or has been lodged or any benefit has been availed under the Policy.\\n5.12 Territorial Jurisdiction\\nAll disputes or differences under or in relation to the Policy shall be determined by an Indian court in accordance to Indian law.\\n5.13 Arbitration\\ni. If any dispute or difference shall arise as to the quantum to be paid by the Policy, (liability being otherwise admitted) such\\ndifference shall independently of all other questions, be referred for arbitration as per Arbitration and Conciliation Act 1996,\\nas amended from time to time.\\nii. It is clearly agreed and understood that no difference or dispute shall be referable to arbitration as herein before provided, if the\\nCompany has disputed or not accepted liability under or in respect of the Policy.\\niii. It is hereby expressly stipulated and declared that it shall be a condition precedent to any right of action or suit upon the Policy\\nthat award by such arbitrator/arbitrators of the amount of expenses shall be first obtained.\\n5.14 Disclaimer\\nIf the Company shall disclaim liability for a claim hereunder and if the insured person shall not within twelve calendar months from\\nthe date of receipt of the notice of such disclaimer notify the Company in writing that he/ she does not accept such disclaimer and\\nintends to recover his/ her claim from the Company, then the claim shall for all purposes be deemed to have been abandoned and\\nshall not thereafter be recoverable hereunder.\\n5.15 Renewal of Policy\\ni. The policy shall be renewable provided the product is not withdrawn, except in case of established fraud or non-disclosure or\\nmisrepresentation by the Insured. If the product is withdrawn, the policyholder shall be provided with suitable options to migrate\\nto other similar health insurance products/plans offered by the Company.\\nii. The Company shall endeavor to give notice for renewal. However, the Company is not under obligation to give any notice for\\nrenewal.\\niii. Renewal shall not be denied on the ground that the insured person had made a claim or claims in the preceding policy years.\\niv. Request for renewal along with requisite premium shall be received by the Company before the end of the policy period.\\nV. At the end of the policy period, the policy shall terminate and can be renewed within the Grace Period of 30 days to maintain\\ncontinuity of benefits without break in policy. Coverage is not available during the grace period.\\nvi. No loading shall apply on renewals based on individual claims experience.\\nvii. In case of non-continuance of the Policy by the insured (due to death or any other valid and acceptable reason)\\na. The Policy may be renewed by any insured person above eighteen years of age, as the insured\\nb. If only children (less than eighteen years of age) are covered, the Policy shall be allowed till the expiry of the policy\\nperiod. The grandparents may be allowed to renew the Policy as Proposer, covering the grandchildren.\\nviii. In case of death of the eldest insured person:\\nThe base premium may be calculated based on the age of the next eldest insured person.\\n5.16 Enhancement of Sum Insured\\nSum insured can be enhanced only at the time of renewal. Sum insured may be enhanced subject to the availability of the higher\\nslabs in the Policy and at the discretion of the Company. For the incremental portion of the sum insured, the waiting periods and\\nconditions as mentioned in exclusion 4.1, 4.2, 4.3 shall apply. Coverage on enhanced sum insured shall be available after the\\ncompletion of waiting periods.\\n5.17 Adjustment of Premium for Overseas Travel Insurance Policy\\nIf during the policy period any of the insured person is also covered by an Overseas Travel Insurance Policy of any non life insurance\\ncompany, the Policy shall be inoperative in respect of the insured persons for the number of days the Overseas Travel Insurance\\nPolicy is in force and proportionate premium for such number of days shall be adjusted against the renewal premium. The insured\\nperson must inform the Company in writing before leaving India and may submit an application, stating the details of visit(s) abroad,\\nalong with copies of the Overseas Travel Insurance Policy, within seven days of return or expiry of the Policy, whichever is earlier.\\n5.18 Migration\\nThe Insured Person will have the option to migrate the Policy to an alternative health insurance product offered by the Company by\\napplying for Migration of the policy at least 30 days before the policy renewal date as per extant Guidelines related to Migration. If\\nsuch person is presently covered and has been continuously covered without any lapses under this Policy offered by the Company,\\ni. The Insured Person will get all the accrued continuity benefits for credits gained to the extent of the specific waiting periods,\\nwaiting period for pre-existing diseases and Moratorium period of the Insured Person.\\nNational Insurance Co. Ltd.\\nNational Parivar Mediclaim Plus Policy\\nPremises No. 18-0374, Plot no. CBD-81,\\nPage 16 of 25\\nUIN: NICHLIP25039V032425\\nNew Town, Kolkata 700156\\nii. Migration benefit will be offered to the extent of Sum Insured of the previous policy. Migration benefit shall not apply to\\nany other additional increased Sum Insured.\\nThe Proposal may be subject to fresh Underwriting as per terms of conditions of the migrated product, if the insured is not\\ncontinuously covered for at least 36 months under the previous product.\\n5.19 Portability\\nThe Insured Person will have the option to port the Policy to other insurers by applying to such Insurer to port the entire policy along\\nwith all the members of the family, if any, at least 15 days before, but not earlier than 60 days from the policy renewal date, as per\\nIRDAI guidelines related to Portability. If such person is presently covered and has been continuously covered without any lapses\\nunder this Policy offered by the Company,\\ni. The proposed Insured Person will get all the accrued continuity benefits for specific waiting periods, waiting period for pre-\\nexisting diseases and Moratorium period of the Insured Person under the previous health insurance Policy.\\nii. Portability benefit will be offered to the extent of Sum Insured of the previous policy. Portability benefit shall not apply to\\nany other additional increased Sum Insured.\\n5.20 Withdrawal of Product\\ni. In the likelihood of this product being withdrawn in future, the Company will intimate the insured person about the same 90\\ndays prior to expiry of the policy.\\nii. Insured Person will have the option to migrate to similar health insurance product available with the Company at the time of\\nrenewal with all the accrued continuity benefits such as cumulative bonus, waiver of waiting period as per IRDAI guidelines,\\nprovided the policy has been maintained without a break.\\n5.21 Revision of Terms of the Policy Including the Premium Rates\\nThe Company, with prior approval of IRDAI, may revise or modify the terms of the policy including the premium rates. The insured\\nperson shall be notified before the changes are effected.\\n5.22 Free Look Period\\nThe Free Look Period shall be applicable on new individual health insurance policies and not on renewals or at the time of\\nporting/migrating the policy.\\nThe insured person shall be allowed free look period of thirty days from date of receipt of the policy document to review the terms\\nand conditions of the policy. If he/she is not satisfied with any of the terms and conditions, he/she has the option to cancel his/her\\npolicy. This option is available in case of policies with a term of one year or more.\\nIf the insured has not made any claim during the Free Look Period, the insured shall be entitled to:\\ni. a refund of the premium paid less any expenses incurred by the Company on medical examination of the insured person and\\nthe stamp duty charges or\\nii. where the risk has already commenced and the option of return of the policy is exercised by the insured person, a deduction\\ntowards the proportionate risk premium for period of cover or\\niii. Where only a part of the insurance coverage has commenced, such proportionate premium commensurate with the insurance\\ncoverage during such period.\\n5.23 Nomination\\nThe policyholder is required at the inception of the policy to make a nomination for the purpose of payment of claims under the\\npolicy in the event of death of the policyholder. Any change of nomination shall be communicated to the company in writing and\\nsuch change shall be effective only when an endorsement on the policy is made. In the event of death of the policyholder, the\\nCompany will pay the nominee {as named in the Policy Schedule/Policy Certificate/Endorsement (if any)} and in case there is no\\nsubsisting nominee, to the legal heirs or legal representatives of the policyholder whose discharge shall be treated as full and final\\ndischarge of its liability under the policy.\\n6. REDRESSAL OF GRIEVANCE\\nIn case of any grievance related to the Policy, the insured person may submit in writing to the Policy Issuing Office or Grievance\\ncell at Regional Office of the Company for redressal. If the grievance remains unaddressed, the insured person may contact:\\nCustomer Relationship Management Dept., National Insurance Company Limited, Premises No. 18-0374, Plot no. CBD-81, New\\nTown, Kolkata - 700156, email: customer.relations@nic.co.in, griho@nic.co.in\\nFor more information on grievance mechanism, and to download grievance form, visit our\\nwebsite https://nationalinsurance.nic.co.in\\nBima Bharosa (an Integrated Grievance Management System earlier known as IGMS) - https://bimabharosa.irdai.gov.in/\\nInsurance Ombudsman - The Insured person can also approach the office of Insurance Ombudsman of the respective area/region\\nfor redressal of grievance as listed in Annexure -III. The updated list of Office of Insurance Ombudsman are available on IRDAI\\nwebsite: https://irdai.gov.in/ and on the website of Council for Insurance Ombudsman: https://www.cioins.co.in/\\nHelpline Number: 1800 345 0330\\nDedicated Email ID for Senior Citizens: health.srcitizens@nic.co.in\\nNational Insurance Co. Ltd.\\nNational Parivar Mediclaim Plus Policy\\nPremises No. 18-0374, Plot no. CBD-81,\\nPage 17 of 25\\nUIN: NICHLIP25039V032425\\nNew Town, Kolkata 700156\\n7. OPTIONAL COVERS\\n7.1 Pre-existing Diabetes / Hypertension\\nSubject otherwise to the terms, definitions, exclusions, and conditions of the Policy and on payment of additional premium, the\\nCompany shall pay expenses for treatment of diabetes and/ or hypertension, if pre-existing, from the inception of the Policy. On\\ncompletion of continuous thirty six months of insurance, the additional premium and sub limits shall not apply.\\nEligibility\\nAs per the Policy.\\nLimit of Cover\\nSum Insured opted under the policy shall apply.\\nPolicy period\\nThe policy period for the Policy, and the cover should be identical, as mentioned in the schedule.\\nTax rebate\\nThe insured can avail tax benefits for the premium paid, under Section 80D of Income Tax Act 1961.\\nRenewal\\nThe cover can be renewed annually till Exclusion 4.1 applies on diabetes and/or hypertension, with respect to the insured persons.\\n7.1.1 Condition\\nClaim Amount\\nAny amount payable shall be subject to\\ni.\\nThe sum insured applicable to Section 3.1,\\nii.\\nCo-payment mentioned under Classification of Zone and Co-payment, Optional Copayment, and\\niii.\\nSub limits mentioned below.\\nFirst year\\nUp to a maximum of 25% of SI\\nSecond year\\nUp to a maximum of 50% of SI\\nThird year\\nUp to a maximum of 75% of SI\\n7.2 Out-patient Treatment\\nSubject otherwise to the terms, definitions, conditions and Exclusions 4.7, 4.8, 4.17, 4.16, 4.23, 4.12, 4.9, 4.10, 4.34 and 4.35, the\\nCompany shall pay up to the limit, as stated in the schedule with respect of\\ni. Out-patient consultations by a medical practitioner\\nii. Diagnostic tests prescribed by a medical practitioner\\niii. Medicines/drugs prescribed by a medical practitioner\\niv. Out patient dental treatment\\nEligibility\\nThe cover can be availed by all insured persons as a floater.\\nLimit of Cover\\nLimit of cover, available under Out-patient Treatment are INR 2,000/ 3,000/ 4,000/ 5,000/ 10,000/ 15,000/ 20,000/ 25,000, in\\naddition to the sum insured opted.\\nPolicy Period\\nThe policy period for the Policy, and the cover should be identical, as mentioned in the schedule.\\nTax Rebate\\nThe insured person can avail tax benefits for the premium paid, under Section 80D of Income Tax Act 1961.\\nRenewal\\nThe Outpatient Treatment cover can be renewed annually throughout the lifetime of the insured person.\\n7.2.1 Exclusions\\nThe Company shall not make any payment under the cover in respect of\\ni.\\nTreatment other than Allopathy/ Modern medicine, AYUSH\\nii.\\n* Cosmetic dental treatment to straighten lightens, reshape and repair teeth.\\n* Cosmetic treatments include veneers, crowns, bridges, tooth-coloured fillings, implants and tooth whitening).\\n7.2.2 Condition\\nClaim Amount\\ni.\\nAny amount payable shall not affect the sum insured applicable to Section 3.1 and entitlement to No Claim Discount.\\nii.\\nAny amount payable shall not be subject to co-payment.\\nNational Insurance Co. Ltd.\\nNational Parivar Mediclaim Plus Policy\\nPremises No. 18-0374, Plot no. CBD-81,\\nPage 18 of 25\\nUIN: NICHLIP25039V032425\\nNew Town, Kolkata 700156\\nClaims Procedure\\nDocuments supporting all out-patient treatments shall be submitted to the TPA/ Company twice during the policy period, within\\nthirty days of completion of six month period.\\nDocuments\\nThe claim has to be supported by the following original documents\\ni. All bills, prescriptions from medical practitioner\\nii. Diagnostic test bills, copy of reports\\niii. Any other documents required by the Company\\nEnhancement of Limit of Cover\\nLimit of cover can be enhanced only at the time of renewal.\\n7.3 Critical Illness\\nSubject otherwise to the terms, definitions, exclusions, and conditions of the Policy the Company shall pay the benefit amount, as\\nstated in the schedule, provided that\\ni. the insured person is first diagnosed as suffering from a critical illness during the policy period as a first incidence, and\\nii. the insured person survives at least thirty days following such diagnosis\\niii. diagnosis of critical illness is supported by clinical, radiological, histological and laboratory evidence acceptable to the\\nCompany.\\nEligibility (entry age)\\nThe cover can be availed by persons between the age of eighteen years and sixty five years.\\nBenefit Amount\\nBenefit amount available under Critical Illness cover shall be limited to the 50% of the sum insured by the Policy.\\nBenefit amount available per individual are INR 2,00,000/ 3,00,000/ 5,00,000/ 10,00,000/ 15,00,000/ 20,00,000/ 25,00,000, in\\naddition to the sum insured opted.\\nPolicy Period\\nThe policy period for the Policy, and the cover should be identical, as mentioned in the schedule.\\nPre Policy checkup\\nPre Policy checkup reports (as per Section 2.8.iii) are required for individual opting for Critical illness cover between the age of\\neighteen years and sixty five years.\\nTax Rebate\\nNo tax benefit is allowed on the premium paid under Critical Illness cover (if opted)\\nRenewal\\nThe Critical Illness cover can be renewed annually throughout the lifetime of the insured person.\\n7.3.1 Definition\\nCritical illness means stroke resulting in permanent symptoms, cancer of specified severity, kidney failure requiring regular\\ndialysis, major organ/ bone marrow transplant, multiple sclerosis with persisting symptoms an open chest CABG (Coronary Artery\\nBypass Graft), permanent paralysis of limbs and blindness.\\nI. Stroke Resulting in Permanent Symptoms\\nAny cerebrovascular incident producing permanent neurological sequelae. This includes infarction of brain tissue, thrombosis in an\\nintracranial vessel, haemorrhage and embolisation from an extracranial source. Diagnosis has to be confirmed by a specialist medical\\npractitioner and evidenced by typical clinical symptoms as well as typical findings in CT Scan or MRI of the brain. Evidence of\\npermanent neurological deficit lasting for at least three months has to be produced.\\nThe following are not covered:\\ni. transient ischemic attacks (TIA)\\nii. traumatic injury of the brain\\niii. vascular disease affecting only the eye or optic nerve or vestibular functions.\\nII. Cancer of Specified Severity\\nA malignant tumor characterised by the uncontrolled growth & spread of malignant cells with invasion & destruction of normal\\ntissues. This Diagnosis must be supported by histological evidence of malignancy. The term cancer includes leukemia, lymphoma\\nand sarcoma.\\nThe following are excluded:\\ni. All tumors which are histologically described as carcinoma in situ, benign, pre-malignant, borderline malignant, low\\nmalignant potential, neoplasm of unknown behavior, or non- invasive, including but not limited to:\\nCarcinoma in situ of breasts, Cervical dysplasia CIN-1, CIN -2 & CIN-3.\\nii. Any non- melanoma skin carcinoma unless there is evidence of metastases to lymph nodes or beyond;\\nNational Insurance Co. Ltd.\\nNational Parivar Mediclaim Plus Policy\\nPremises No. 18-0374, Plot no. CBD-81,\\nPage 19 of 25\\nUIN: NICHLIP25039V032425\\nNew Town, Kolkata 700156\\niii. Malignant melanoma that has not caused invasion beyond the epidermis;\\niv. All tumors of the prostate unless histologically classified as having a Gleason score greater than 6 or having progressed to at\\nleast clinical TNM classification T2N0M0;\\nV. All Thyroid cancers histologically classified as T1N0M0 (TNM classification) or below;\\nvi. Chronic lymphocytic leukaemia less than RAI stage 3\\nvii. Non- invasive Papillary cancer of bladder histologically described as TaNOMO (TNM Classification)or of a lesser\\nclassification;\\nviii. All Gastro-intestinal Stromal Tumors histologically classified as T1N0M0 (TNM Classification) or below and with mitotic\\ncount of less than or equal to 5/50 HPFs;\\nIII Kidney Failure Requiring Regular Dialysis\\nEnd stage renal disease presenting as chronic irreversible failure of both kidneys to function, as a result of which either regular renal\\ndialysis (hemodialysis or peritoneal dialysis) is instituted or renal transplantation is carried out. Diagnosis has to be confirmed by a\\nspecialist medical practitioner.\\nIV Major Organ/ Bone Marrow Transplant\\nThe actual undergoing of a transplant of:\\ni.\\none of the following human organs: heart, lung, liver, kidney, pancreas, that resulted from irreversible end-stage failure of the\\nrelevant organ, or\\nii. human bone marrow using haematopoietic stem cells. The undergoing of a transplant has to be confirmed by a specialist medical\\npractitioner.\\nThe following are not covered\\ni.\\nother stem-cell transplants\\nii. where only islets of langerhans are transplanted\\nV Multiple Sclerosis with Persisting Symptoms\\nThe unequivocal Diagnosis of Definite Multiple Sclerosis confirmed and evidenced by all of the following\\ni. Investigations including typical MRI findings, which unequivocally confirm the Diagnosis to be multiple sclerosis and\\nii. There must be current clinical impairment of motor or sensory function, which must have persisted for a continuous period of\\nat least 6 months\\niii. Neurological damage due to SLE is excluded.\\nVI Open Chest CABG\\nThe actual undergoing of open chest surgery for the correction of one or more coronary arteries, which is/are narrowed or blocked,\\nby coronary artery bypass graft (CABG). The diagnosis must be supported by a coronary angiography and the realization of surgery\\nhas to be confirmed by a specialist medical practitioner.\\nThe following are not covered\\ni.\\nangioplasty and/or any other intra-arterial procedures\\nii. any key-hole or laser surgery.\\nVII Permanent Paralysis of Limbs\\nTotal and irreversible loss of use of two or more limbs as a result of injury or disease of the brain or spinal cord. A specialist medical\\npractitioner must be of the opinion that the paralysis will be permanent with no hope of recovery and must be present for more than\\nthree months.\\nVIII Blindness\\nThe total and permanent loss of all sight in both eyes.\\n7.3.2 Exclusions\\nThe Company shall not be liable to make any payment by the Policy if: any critical illness and/or its symptoms (and/or the treatment)\\nwhich were present at any time before inception of the first Policy, or which manifest within a period of ninety days from inception\\nof the first Policy, whether or not the insured person had knowledge that the symptoms or treatment were related to such critical\\nillness. In the event of break in the Policy, the terms of this exclusion shall apply as new from recommencement of cover\\n7.3.3 Condition\\nClaim Amount\\ni.\\nAny amount payable under the optional covers will not affect the sum insured applicable to Section 3.1 and entitlement to\\nNo Claim Discount (Section 3.1).\\nii.\\nAny amount payable shall not be subject to co-payment.\\nNotification of Claim\\nIn the event of a claim, the insured person/insured person\\'s representative shall intimate the Company in writing, providing all\\nrelevant information within fifteen days of diagnosis of the illness.\\nNational Insurance Co. Ltd.\\nNational Parivar Mediclaim Plus Policy\\nPremises No. 18-0374, Plot no. CBD-81,\\nPage 20 of 25\\nUIN: NICHLIP25039V032425\\nNew Town, Kolkata 700156\\nClaims Procedure\\nDocuments as mentioned above, supporting the diagnosis shall be submitted to the Company within sixty days from the date of\\ndiagnosis of the critical illness.\\nDocuments\\nThe claim has to be supported by the following original documents\\ni. Doctor\\'s certificate confirming diagnosis of the critical illness along with date of diagnosis.\\nii. Pathological/other diagnostic test reports confirming the diagnosis of the critical illness.\\niii. Any other documents required by the Company\\nCessation of Cover\\n1 upon payment of the benefit amount on the occurrence of a critical illness the cover shall cease and no further claim shall be paid\\nfor any other critical illness during the policy year.\\n2 On renewal, no claim shall be paid for a critical illness for which a claim has already been made\\nEnhancement of Benefit Amount\\ni. Benefit amount can be enhanced only at the time of renewal.\\nii. Benefit amount can be enhanced to the next slab subject to discretion of the Company.\\nInsurance is the subject matter of solicitation\\nPlease preserve the Policy for all future reference.\\nNational Insurance Co. Ltd.\\nNational Parivar Mediclaim Plus Policy\\nPremises No. 18-0374, Plot no. CBD-81,\\nPage 21 of 25\\nUIN: NICHLIP25039V032425\\nNew Town, Kolkata 700156\\nTable of Benefits:\\nFeatures\\nPlans\\nPLAN A\\nPLAN B\\nPLAN C\\nSum insured (SI) (as Floater)\\nINR 7/ 8/ 9 /10 Lac\\nINR 15/ 20 /25 Lac\\nINR 30/ 40/ 50 Lac\\nTreatment\\nAllopathy, AYUSH\\nIn built Covers (subject to the SI)\\nIn patient Treatment (as Floater)\\nUp to SI\\nUp to SI\\nUp to SI\\nPre Hospitalisation\\n30 days\\n30 days\\n30 days\\nPost Hospitalisation\\n60 days\\n60 days\\n60 days\\nPre-existing Disease (Only PEDs declared in the Proposal\\nCovered after 36 months of\\nCovered after 36 months\\nCovered after 36 months\\nForm and accepted for coverage by the Company shall be\\ncovered)\\ncontinuous coverage\\nof continuous coverage\\nof continuous coverage\\nRoom - Up to 1% of SI or actual,\\nwhichever is lower\\n* Room/ ICU Charges (per day per insured person)\\nUp to SI\\nUp to SI\\nICU - Up to 2% of SI or actual,\\nwhichever is lower\\n** Limit for Cataract Surgery (For each eye per insured\\nUp to 15% of SI or INR 60,000\\nwhichever is lower\\nUp to SI\\nUp to SI\\nperson)\\nDomiciliary Hospitalisation (as Floater)\\nUp to INR 1,00,000\\nUp to INR 2,00,000\\nUp to INR 2,00,000\\nDay Care Procedures (as Floater)\\nUp to SI\\nUp to SI\\nUp to SI\\nAYUSH Treatment (as Floater)\\nUp to SI\\nUp to SI\\nUp to SI\\nOrgan Donor\\'s Medical Expenses (as Floater)\\nUp to SI\\nUp to SI\\nUp to SI\\nINR 1,000, max. of 5\\nINR 2,000, max. of 5\\nHospital Cash (per insured person, per day)\\nINR 500, max. of 5 days\\ndays\\ndays\\nAmbulance (per insured person, in a policy year)\\nUp to INR 2,500\\nUp to INR 4,000\\nUp to INR 5,000\\nAir Ambulance (per insured person, in a policy year)\\nNot covered\\nUp to 5% of SI\\nUp to 5% of SI\\nMedical Emergency Reunion (per insured person, in a policy\\nNot covered\\nNo sublimit\\nNo sublimit\\nyear)\\nDoctor\\'s Home Visit and Nursing Care during Post\\nNot covered\\nINR 1,000 per day, max.\\nINR 2,000 per day, max.\\nHospitalisation (per insured person, in a policy year)\\nof 10 days\\nof 10 days\\nAnti Rabies Vaccination (per insured person, in a policy year)\\nUp to INR 5,000\\nUp to INR 5,000\\nUp to INR 5,000\\nMaternity (including Baby from Birth Cover) (per insured\\nUp to INR 30,000 for normal\\nperson, in a policy year, waiting period of 2 years applies)\\ndelivery and INR 50,000 for\\nUp to SI\\nUp to SI\\ncaesarean section\\nVaccination for New Born Baby\\nAs part of Maternity\\nAs part of Maternity\\nAs part of Maternity\\nInfertility (per insured person, in a policy year, waiting\\nperiod of 2 years applies)\\nUp to INR 50,000\\nUp to INR 1,00,000\\nUp to INR 1,00,000\\nVaccination for Children, for male child up to 12 years and\\nfemale child up to 14 years (per insured person, in a policy\\nUp to INR 1,000\\nUp to SI\\nUp to SI\\nyear)\\nModern Treatment (12 nos)\\nUp to 25% of SI for each treatment\\nUp to 25% of SI for each\\nUp to 25% of SI for each\\ntreatment\\ntreatment\\nTreatment due to participation in hazardous or adventure\\nUp to 25% of SI\\nUp to 25% of SI\\nUp to 25% of SI\\nsports (non-professionals)\\nMorbid Obesity\\nCovered after waiting period of 3\\nCovered after waiting\\nCovered after waiting\\nyears\\nperiod of 3 years\\nperiod of 3 years\\nRefractive Error (min 7.5D)\\nCovered after waiting period of 2\\nCovered after waiting\\nCovered after waiting\\nyears\\nperiod of 2 years\\nperiod of 2 years\\nOther benefits\\nReinstatement of sum insured due to road traffic accident\\nYes\\nYes\\nYes\\nGood Health Incentives\\nNo Claim Discount\\n5% discount on base premium,\\nHealth Check Up (as Floater)\\nEvery 2 yrs., up to INR 5,000\\nEvery 2 yrs., up to INR\\nEvery 2 yrs., up to INR\\n7,500\\n10,000\\nOptional covers\\nFirst year\\nUp to a maximum of 25% of SI\\nPre-existing Diabetes/Hypertension (as Floater)\\nSecond year\\nUp to a maximum of 50% of SI\\nThird year\\nUp to a maximum of 75% of SI\\nLimit of cover per family INR 2,000/ 3,000/ 4,000/ 5,000/ 10,000/ 15,000/ 25,000\\nOut-patient Treatment (as Floater in a policy year)\\nin addition to the SI\\nBenefit amount - INR 5,00,000/ 10,00,000/\\n**Critical Illness (per insured person in a policy year)\\n25,00,000 in addition to the SI\\nDiscounts\\nOnline Discount\\n10% discount in premium (for new and Renewal, ONLY where no intermediary is involved)\\n20% Co-payment, with a 25% discount in total premium.\\nCo-payment discount (optional)\\n10% Co-payment, with a 12.5% discount in total premium.\\nLong Term Discount\\nDiscount of 4% for 2 year policy and Discount of 7.5% for 3 year policy\\nNo Maternity/ Infertility Discount\\nDiscount of 3%, above 45 years of age\\nAdd-ons (cover available on payment of additional premium)\\nINR 10,000/ 30,000/ 35,000/ 40,000/ 45,000/ 50,000, subject to 10%\\nNational Home Care Treatment Add-On\\nof Basic SI under base Policy.\\nNational Non-Medical Expenses Add-on (available to SI 5\\nUp to 10% of Basic Sum Insured (excluding Cumulative Bonus, if any) of base Policy and\\nlacs & above)\\nshall be part of the base Policy Basic Sum Insured (excluding Cumulative Bonus, if any).\\n* The limit shall not apply if the treatment is undergone for a listed procedure in a Preferred Provider Network (PPN) as a package.\\n** The limit shall not apply if the treatment is undergone for a listed procedure in a Preferred Provider Network (PPN) as a package\\n*** Critical Illness benefit amount should not be more than the sum insured opted under the Policy\\nNational Insurance Co. Ltd.\\nNational Parivar Mediclaim Plus Policy\\nPremises No. 18-0374, Plot no. CBD-81,\\nPage 22 of 25\\nUIN: NICHLIP25039V032425\\nNew Town, Kolkata 700156\\nAnnexure I\\nVaccinations for Children\\nTime interval\\nType of vaccination\\nFrequency\\nVaccination for new born\\n0-3 months\\nBCG (From birth to 2 weeks)\\n1\\nOPV (0,6, 10 weeks) OR OPV + IPV1 (6,10\\n3 OR 4\\nweeks)\\nDPT (6 & 10 week)\\n2\\nHepatitis-B (0 & 6 week)\\n2\\nHib (6 & 10 week)\\n2\\nVaccination for first year\\n3-6 months\\nOPV (14 week) OR OPV + IPV2\\n1 OR 2\\nDPT (14 week)\\n1\\nHepatitis-B (14 week)\\n1\\nHib (14 week)\\n1\\n9 months\\nMeasles (+9 months)\\n1\\n12 months\\nChicken Pox (12 months)\\n1\\nVaccinations for age 1 to 12 years\\n1-2 years\\nOPV (15 &18 months) OR OPV + IPV3\\n1 OR 2\\nDPT (15-18 months)\\n1\\nHib (15-18 months)\\n1\\nMMR (15- 18 months)\\n1\\nMeningococcal vaccine (24 months)\\n1\\n2-3 years\\nTyphoid (+2 years)\\n1\\n10-12 years\\nTT\\n1\\n14 years (girl child only)\\nHPV\\n1\\nNational Insurance Co. Ltd.\\nNational Parivar Mediclaim Plus Policy\\nPremises No. 18-0374, Plot no. CBD-81,\\nPage 23 of 25\\nUIN: NICHLIP25039V032425\\nNew Town, Kolkata 700156\\nAnnexure II\\nList I List of which coverage is not available in the policy\\n14\\nBED PAN\\nSI\\nItem\\n15\\nFACE MASK\\n1\\nBABY FOOD\\n16\\nFLEXI MASK\\n2\\nBABY UTILITIES CHARGES\\n17\\nHAND HOLDER\\n3\\nBEAUTY SERVICES\\n18\\nSPUTUM CUP\\n4\\nBELTS/BRACES\\n19\\nDISINFECTANT LOTIONS\\n5\\nBUDS\\n20\\nLUXURY TAX\\n6\\nCOLD PACK/HOT PACK\\n21\\nHVAC\\n7\\nCARRY BAGS\\n22\\nHOUSE KEEPING CHARGES\\n8\\nEMAIL / INTERNET CHARGES\\n23\\nAIR CONDITIONER CHARGES\\n9\\nFOOD CHARGES (OTHER THAN PATIENT\\'s DIET PROVIDED BY\\n24\\nIM IV INJECTION CHARGES\\nHOSPITAL)\\n25\\nCLEAN SHEET\\n10\\nLEGGINGS\\n26\\nBLANKET/WARMER BLANKET\\n11\\nLAUNDRY CHARGES\\n27\\nADMISSION KIT\\n12\\nMINERAL WATER\\n28\\nDIABETIC CHART CHARGES\\n13\\nSANITARY PAD\\n29\\nDOCUMENTATION CHARGES / ADMINISTRATIVE EXPENSES\\n14\\nTELEPHONE CHARGES\\n30\\nDISCHARGE PROCEDURE CHARGES\\n15\\nGUEST SERVICES\\n31\\nDAILY CHART CHARGES\\n16\\nCREPE BANDAGE\\n32\\nENTRANCE PASS / VISITORS PASS CHARGES\\n17\\nDIAPER OF ANY TYPE\\n33\\nEXPENSES RELATED TO PRESCRIPTION ON DISCHARGE\\n18\\nEYELET COLLAR\\n34\\nFILE OPENING CHARGES\\n19\\nSLINGS\\n35\\nINCIDENTAL EXPENSES / MISC. CHARGES (NOT EXPLAINED)\\n20\\nBLOOD GROUPING AND CROSS MATCHING OF DONORS SAMPLES\\n36\\nPATIENT IDENTIFICATION BAND / NAME TAG\\n21\\nSERVICE CHARGES WHERE NURSING CHARGE ALSO CHARGED\\n37\\nPULSEOXYMETER CHARGES\\n22\\nTelevision Charges\\nList III - Items that are to be subsumed into Procedure Charges\\n23\\nSURCHARGES\\nSI\\nItem\\n24\\nATTENDANT CHARGES\\n1\\nHAIR REMOVAL CREAM\\n25\\nEXTRA DIET OF PATIENT (OTHER THAN THAT WHICH FORMS\\n2\\nDISPOSABLES RAZORS CHARGES (for site preparations)\\nPART OF BED CHARGE)\\n3\\nEYE PAD\\n26\\nBIRTH CERTIFICATE\\n4\\nEYE SHEILD\\n27\\nCERTIFICATE CHARGES\\n5\\nCAMERA COVER\\n28\\nCOURIER CHARGES\\n6\\nDVD, CD CHARGES\\n29\\nCONVEYANCE CHARGES\\n7\\nGAUSE SOFT\\n30\\nMEDICAL CERTIFICATE\\n8\\nGAUZE\\n31\\nMEDICAL RECORDS\\n9\\nWARD AND THEATRE BOOKING CHARGES\\n32\\nPHOTOCOPIES CHARGES\\n10\\nARTHROSCOPY AND ENDOSCOPY INSTRUMENTS\\n33\\nMORTUARY CHARGES\\n11\\nMICROSCOPE COVER\\n34\\nWALKING AIDS CHARGES\\n12\\nSURGICAL BLADES, HARMONICSCALPEL,SHAVER\\n35\\nOXYGEN CYLINDER (FOR USAGE OUTSIDE THE HOSPITAL)\\n13\\nSURGICAL DRILL\\n36\\nSPACER\\n14\\nEYE KIT\\n37\\nSPIROMETRE\\n15\\nEYE DRAPE\\n38\\nNEBULIZER KIT\\n16\\nX-RAY FILM\\n39\\nSTEAM INHALER\\n17\\nBOYLES APPARATUS CHARGES\\n40\\nARMSLING\\n18\\nCOTTON\\n41\\nTHERMOMETER\\n19\\nCOTTON BANDAGE\\n42\\nCERVICAL COLLAR\\n20\\nSURGICAL TAPE\\n43\\nSPLINT\\n21\\nAPRON\\n44\\nDIABETIC FOOT WEAR\\n22\\nTORNIQUET\\n45\\nKNEE BRACES (LONG/ SHORT/ HINGED)\\n23\\nORTHOBUNDLE, GYNAEC BUNDLE\\n46\\nKNEE IMMOBILIZER/SHOULDER IMMOBILIZER\\nList IV - Items that are to be subsumed into costs of treatment\\n47\\nLUMBO SACRAL BELT\\nSI\\nItem\\n48\\nNIMBUS BED OR WATER OR AIR BED CHARGES\\n1\\nADMISSION/REGISTRATION CHARGES\\n49\\nAMBULANCE COLLAR\\n2\\nHOSPITALISATION FOR EVALUATION/ DIAGNOSTIC PURPOSE\\n50\\nAMBULANCE EQUIPMENT\\n3\\nURINE CONTAINER\\n51\\nABDOMINAL BINDER\\n4\\nBLOOD RESERVATION CHARGES AND ANTE NATAL BOOKING\\n52\\nPRIVATE NURSES CHARGES- SPECIAL NURSING CHARGES\\nCHARGES\\n53\\nSUGAR FREE Tablets\\n5\\nBIPAP MACHINE\\n54\\nCREAMS POWDERS LOTIONS (Toiletries are not payable, only prescribed\\n6\\nCPAP/ CAPD EQUIPMENTS\\nmedical pharmaceuticals payable)\\n7\\nINFUSION PUMP- COST\\n55\\nECG ELECTRODES\\n8\\nHYDROGEN PEROXIDE\\\\SPIRIT\\\\ DISINFECTANTS ETC\\n56\\nGLOVES\\n9\\nNUTRITION PLANNING CHARGES - DIETICIAN CHARGES- DIET\\n57\\nNEBULISATION KIT\\nCHARGES\\n58\\nANY KIT WITH NO DETAILS MENTIONED [DELIVERY KIT,\\n10\\nHIV KIT\\nORTHOKIT, RECOVERY KIT, ETC]\\n11\\nANTISEPTIC MOUTHWASH\\n59\\nKIDNEY TRAY\\n12\\nLOZENGES\\n60\\nMASK\\n13\\nMOUTH PAINT\\n61\\nOUNCE GLASS\\n14\\nVACCINATION CHARGES\\n62\\nOXYGEN MASK\\n15\\nALCOHOL SWABES\\n63\\nPELVIC TRACTION BELT\\n16\\nSCRUB SOLUTION/STERILLIUM\\n64\\nPAN CAN\\n17\\nGlucometer & Strips\\n65\\nTROLLY COVER\\n18\\nURINE BAG\\n66\\nUROMETER, URINE JUG\\n67\\nVASOFIX SAFETY\\nList II - Items that are to be subsumed into Room Charges\\nSI\\nItem\\n1\\nBABY CHARGES (UNLESS SPECIFIED/INDICATED)\\n2\\nHAND WASH\\n3\\nSHOE COVER\\n4\\nCAPS\\n5\\nCRADLE CHARGES\\n6\\nCOMB\\n7\\nEAU-DE-COLOGNE / ROOM FRESHNERS\\n8\\nFOOT COVER\\n9\\nGOWN\\n10\\nSLIPPERS\\n11\\nTISSUE PAPER\\n12\\nTOOTH PASTE\\n13\\nTOOTH BRUSH\\nNational Insurance Co. Ltd.\\nNational Parivar Mediclaim Plus Policy\\nPremises No. 18-0374, Plot no. CBD-81,\\nPage 24 of 25\\nUIN: NICHLIP25039V032425\\nNew Town, Kolkata 700156\\nAnnexure III\\nThe contact details of the Insurance Ombudsman offices are as below:\\nAreas of Jurisdiction\\nOffice of the Insurance Ombudsman\\nTel.: 0141- 2740363\\nEmail: bimalokpal.jaipur@cioins.co.in\\nOffice of the Insurance Ombudsman,\\nKerala, UT of (a)\\nOffice of the Insurance Ombudsman,\\nGujarat UT of Dadra and\\nAhmedabad\\nLakshadweep, (b) Mahe a\\nKochi\\nNagar Haveli, Daman and\\nJeevan Prakash Building, 6th floor,\\npart of UT of Pondicherry\\n10th Floor, Jeevan Prakash,LIC Building,\\nDiu\\nTilak Marg, Relief Road,\\nOpp to Maharaja\\'s College\\nAhmedabad - 380 001.\\nGround,M.G.Road,\\nTel.: 079 25501201/02\\nKochi 682 011.\\nEmail:\\nTel.: 0484 2358759\\nbimalokpal.ahmedabad@cioins.co.in\\nEmail:\\nOffice of the Insurance Ombudsman,\\nbimalokpal.ernakulam@cioins.co.in\\nKarnataka\\nBengaluru\\nWest Bengal, UT of\\nOffice of the Insurance Ombudsman,\\nJeevan Soudha Building,P No. 57-27-\\nAndaman and Nicobar\\nKolkata\\nN-19\\nIslands, Sikkim\\nHindustan Bldg. Annexe, 7th Floor,\\nGround Floor, 19/19, 24th Main Road,\\n4, C.R. Avenue,\\nJP Nagar, Ist Phase, Bengaluru 560 078.\\nKOLKATA 700\\nTel.: 080 26652048 / 26652049\\nTel.: 033 22124339 / 22124341\\nEmail: bimalokpal.bengaluru@cioins.co.in\\nEmail: bimalokpal.kolkata@cioins.co.in\\nMadhya Pradesh and\\nOffice of the Insurance Ombudsman,\\nDistricts of Uttar Pradesh\\nOffice of the Insurance Ombudsman,\\nChhattisgarh\\nBhopal\\nLaitpur, Jhansi, Mahoba,\\nLucknow\\n1st floor, \"Jeevan Shikha\", 60-B,\\nHamirpur, Banda,\\n6th Floor, Jeevan Bhawan, Phase-II,\\nHoshangabad Road, Opp. Gayatri\\nChitrakoot, Allahabad,\\nNawal Kishore Road, Hazratganj,\\nMandir,Arera Hills\\nMirzapur, Sonbhabdra,\\nLucknow 226 001.\\nBhopal 462 011.\\nFatehpur, Pratapgarh,\\nTel.: 0522 4002082 / 3500613\\nTel.: 0755 2769201 /\\nJaunpur, Varanasi, Gazipur,\\nEmail: bimalokpal.lucknow@cioins.co.in\\nEmail: bimalokpal.bhopal@cioins.co.in\\nJalaun, Kanpur, Lucknow,\\nOrissa\\nOffice of the Insurance Ombudsman,\\nUnnao, Sitapur, Lakhimpur,\\nBhubaneswar\\nBahraich, Barabanki,\\n62, Forest park,\\nRaebareli, Sravasti, Gonda,\\nBhubneshwar 751 009.\\nFaizabad, Amethi,\\nTel.: 0674 2596461 /2596455\\nKaushambi, Balrampur,\\nEmail:\\nBasti, Ambedkarnagar,\\nbimalokpal.bhubaneswar@cioins.co.in\\nSultanpur, Maharajgang,\\nPunjab, Haryana (excluding\\nOffice of the Insurance Ombudsman,\\nSantkabirnagar, Azamgarh,\\nGurugram, Faridabad,\\nChandigarh\\nKushinagar, Gorkhpur,\\nSonepat and Bahadurgarh),\\nJeevan Deep Building SCO 20-27,\\nDeoria, Mau, Ghazipur,\\nHimachal Pradesh, Union\\nGround Floor Sector- 17 A,\\nChandauli, Ballia,\\nTerritories of Jammu &\\nChandigarh - 160 017.\\nSidharathnagar.\\nKashmir,Ladakh &\\nTel.: 0172-2706468\\nMumbai Metropolitan\\nOffice of the Insurance Ombudsman,\\nChandigarh.\\nEmail:\\nRegion excluding wards in\\nMumbai\\nbimalokpal.chandigarh@cioins.co.in\\nMumbai i.e M/E, M/W, N,\\n3rd Floor, Jeevan Seva Annexe,\\nTamil Nadu, UT-\\nOffice of the Insurance Ombudsman,\\nS and T covered under Office\\nS. V. Road, Santacruz (W),\\nPondicherry Town and\\nChennai\\nof Insurance Ombudsman\\nMumbai 400 054.\\nKaraikal (which are part of\\nFatima Akhtar Court, 4th Floor, 453,\\nThane and areas of Navi\\nTel.: 022 69038800/27/29/31/32/33\\nUT of Pondicherry)\\nAnna Salai, Teynampet,\\nMumbai.\\nEmail: bimalokpal.mumbai@cioins.co.in\\nCHENNAI - 600 018.\\nState of Uttaranchal and the\\nOffice of the Insurance Ombudsman,\\nTel.: 044 24333668 / 24333678\\nfollowing Districts of Uttar\\nNoida\\nEmail: bimalokpal.chennai@cioins.co.in\\nPradesh:\\nBhagwan Sahai Palace\\nDelhi & following Districts\\nOffice of the Insurance Ombudsman,\\nAgra, Aligarh, Bagpat,\\n4th Floor, Main Road, Naya Bans, Sector\\nof Haryana Gurugram,\\nDelhi\\nBareilly, Bijnor, Budaun,\\n15,\\nFaridabad, Sonepat &\\n2/2 A, Universal Insurance Building,\\nBulandshehar, Etah, Kanooj,\\nDistt: Gautam Buddh Nagar, U.P-201301.\\nBahadurgarh.\\nAsaf Ali Road,\\nMainpuri, Mathura, Meerut,\\nTel.: 0120-2514252 / 2514253\\nNew Delhi 110 002.\\nMoradabad, Muzaffarnagar,\\nEmail: bimalokpal.noida@cioins.co.in\\nTel.: 011 46013992/23213504/23232481\\nOraiyya, Pilibhit, Etawah,\\nEmail: bimalokpal.delhi@cioins.co.in\\nFarrukhabad, Firozbad,\\nAssam Meghalaya,\\nOffice of the Insurance Ombudsman,\\nGautambodhanagar,\\nManipur, Mizoram,\\nGuwahati\\nGhaziabad, Hardoi,\\nArunachal Pradesh, Nagaland\\nJeevan Nivesh, 5th Floor,\\nShahjahanpur, Hapur,\\nand Tripura\\nNear Pan Bazar S.S. Road,\\nShamli, Rampur, Kashganj,\\nGuwahati - 781001(ASSAM).\\nSambhal, Amroha, Hathras,\\nTel.: 0361 2632204 / 2602205 / 2631307\\nKanshiramnagar, Saharanpur\\nEmail: bimalokpal.guwahati@cioins.co.in\\nBihar,\\nOffice of the Insurance Ombudsman,\\nAndhra Pradesh, Telangana\\nOffice of the Insurance Ombudsman,\\nJharkhand.\\nPatna\\nand UT of Yanam - a part of\\nHyderabad\\n2nd Floor, Lalit Bhawan, Bailey Road,\\nthe UT of Pondicherry\\n6-2-46, 1st floor, \"Moin Court\", Lane\\nPatna 800 001.\\nOpp.Hyundai Showroom A. C. Guards,\\nTel.: 0612-2547068\\nLakdi-Ka-Pool, Hyderabad 500 004.\\nEmail: bimalokpal.patna@cioins.co.in\\nTel.: 040 23312122 / 23376991 /\\nState of Goa and State of\\nOffice of the Insurance Ombudsman, Pune\\n23376599 / 23328709 / 23325325\\nMaharashtra excluding areas\\nJeevan Darshan Bldg., 3rd Floor,\\nEmail:\\nof Navi Mumbai, Thane\\nC.T.S. No.s. 195 to 198, N.C. Kelkar\\nbimalokpal.hyderabad@cioins.co.in\\ndistrict,Palghar District,\\nRoad,\\nRajasthan\\nOffice of the Insurance Ombudsman,\\nRaigad district & Mumbai\\nNarayan Peth, Pune - 411 030.\\nJaipur\\nMetropolitan Region\\nTel.: 020-24471175\\nJeevan Nidhi - II Bldg., Gr. Floor,\\nEmail: bimalokpal.pune@cioins.co.in\\nBhawani Singh Marg, Jaipur 302 005.\\nNational Insurance Co. Ltd.\\nNational Parivar Mediclaim Plus Policy\\nPremises No. 18-0374, Plot no. CBD-81,\\nPage 25\\nUIN: NICHLIP25039V032425\\nNew Town, Kolkata 700156'"
      ]
     },
     "execution_count": 47,
     "metadata": {},
     "output_type": "execute_result"
    }
   ],
   "source": [
    "str(extract_text_from_textract(doc_data))"
   ]
  },
  {
   "cell_type": "code",
   "execution_count": 49,
   "id": "3559050f",
   "metadata": {},
   "outputs": [],
   "source": [
    "from collections import defaultdict\n",
    "from typing import List, Dict\n",
    "\n",
    "def parse_textract_result(textract_response_pages):\n",
    "    \"\"\"Parses Textract result into readable structures: lines, tables, forms.\"\"\"\n",
    "    blocks = []\n",
    "    for page in textract_response_pages:\n",
    "        blocks.extend(page[\"Blocks\"])\n",
    "\n",
    "    block_map = {block[\"Id\"]: block for block in blocks}\n",
    "\n",
    "    lines = []\n",
    "    tables = []\n",
    "\n",
    "    for block in blocks:\n",
    "        if block[\"BlockType\"] == \"LINE\":\n",
    "            lines.append(block[\"Text\"])\n",
    "\n",
    "        if block[\"BlockType\"] == \"TABLE\":\n",
    "            table = parse_table(block, block_map)\n",
    "            tables.append(table)\n",
    "\n",
    "    return {\n",
    "        \"text\": \"\\n\".join(lines),\n",
    "        \"tables\": tables,\n",
    "        # You can add 'forms': parse_forms(block_map) later\n",
    "    }\n",
    "\n",
    "\n",
    "def parse_table(table_block, block_map):\n",
    "    \"\"\"Reconstructs a table into a 2D list using CELL blocks.\"\"\"\n",
    "    cells = [\n",
    "        block_map[rel[\"Ids\"][0]]\n",
    "        for rel in table_block.get(\"Relationships\", [])\n",
    "        if block_map[rel[\"Ids\"][0]][\"BlockType\"] == \"CELL\"\n",
    "    ]\n",
    "    table = defaultdict(lambda: defaultdict(str))\n",
    "\n",
    "    max_row, max_col = 0, 0\n",
    "    for cell in cells:\n",
    "        row, col = cell[\"RowIndex\"], cell[\"ColumnIndex\"]\n",
    "        max_row, max_col = max(max_row, row), max(max_col, col)\n",
    "        text = \"\"\n",
    "        if \"Relationships\" in cell:\n",
    "            for rel in cell[\"Relationships\"]:\n",
    "                if rel[\"Type\"] == \"CHILD\":\n",
    "                    text = \" \".join(\n",
    "                        [\n",
    "                            block_map[cid][\"Text\"]\n",
    "                            for cid in rel[\"Ids\"]\n",
    "                            if block_map[cid][\"BlockType\"] == \"WORD\"\n",
    "                        ]\n",
    "                    )\n",
    "        table[row][col] = text\n",
    "\n",
    "    # Convert to list of lists\n",
    "    structured_table = []\n",
    "    for row in range(1, max_row + 1):\n",
    "        structured_table.append([table[row][col] for col in range(1, max_col + 1)])\n",
    "\n",
    "    return structured_table\n"
   ]
  },
  {
   "cell_type": "code",
   "execution_count": 51,
   "id": "88004b1c",
   "metadata": {},
   "outputs": [],
   "source": [
    "parsed_data = parse_textract_result(doc_data)"
   ]
  },
  {
   "cell_type": "code",
   "execution_count": 56,
   "id": "b1597ee1",
   "metadata": {},
   "outputs": [
    {
     "data": {
      "text/plain": [
       "[[['Modern Treatment']],\n",
       " [['a.']],\n",
       " [['Notification of claim for Cashless facility']],\n",
       " [['Notification of claim for Reimbursement']],\n",
       " [['Notification of claim for vaccination']],\n",
       " [['Type of claim']],\n",
       " [['First year']],\n",
       " [['Features']],\n",
       " [['Time interval']],\n",
       " [['14']],\n",
       " [['']],\n",
       " [['']],\n",
       " [['']],\n",
       " [['Areas of Jurisdiction']]]"
      ]
     },
     "execution_count": 56,
     "metadata": {},
     "output_type": "execute_result"
    }
   ],
   "source": [
    "parsed_data.get(\"tables\")"
   ]
  },
  {
   "cell_type": "code",
   "execution_count": 59,
   "id": "b4f31dde",
   "metadata": {},
   "outputs": [],
   "source": [
    "from trp import Document"
   ]
  },
  {
   "cell_type": "code",
   "execution_count": 60,
   "id": "e0f72f8f",
   "metadata": {},
   "outputs": [],
   "source": [
    "docs = Document(doc_data)"
   ]
  },
  {
   "cell_type": "code",
   "execution_count": 61,
   "id": "62ea4a68",
   "metadata": {},
   "outputs": [
    {
     "data": {
      "text/plain": [
       "<trp.Document at 0x2137150bf40>"
      ]
     },
     "execution_count": 61,
     "metadata": {},
     "output_type": "execute_result"
    }
   ],
   "source": [
    "docs"
   ]
  },
  {
   "cell_type": "code",
   "execution_count": 72,
   "id": "be8c8c0a",
   "metadata": {},
   "outputs": [
    {
     "name": "stdout",
     "output_type": "stream",
     "text": [
      "Modern Treatment,Coverage,\n",
      "UAE & HIFU,Limit is for Procedure cost only,\n",
      "Balloon Sinuplasty,Limit is for Balloon cost only,\n",
      "Deep Brain Stimulation,Limit is for implants including batteries only,\n",
      "Oral Chemotherapy,Only cost of medicines payable under this limit, other incidental charges like investigations and consultation charges not payable.,\n",
      "Immunotherapy,Limit is for cost of injections only.,\n",
      "Intravitreal injections,Limit is for complete treatment, including Pre & Post Hospitalization,\n",
      "Robotic Surgery,Limit is for robotic component only.,\n",
      "Stereotactic Radio surgeries,Limit is for radiation procedure.,\n",
      "Bronchial Thermoplasty,Limit is for complete treatment, including Pre & Post Hospitalization,\n",
      "Vaporization of the prostrate,Limit is for LASER component only.,\n",
      "IONM,Limit is for IONM procedure only.,\n",
      "Stem cell therapy,Limit is for complete treatment, including Pre & Post Hospitalization,\n"
     ]
    }
   ],
   "source": [
    "for row in docs.pages[7].tables[0].rows:\n",
    "    for cell in row.cells:\n",
    "        print(cell.text.strip(), end=\",\")\n",
    "    print()"
   ]
  },
  {
   "cell_type": "code",
   "execution_count": 76,
   "id": "8cde2580",
   "metadata": {},
   "outputs": [],
   "source": [
    "from trp import Document\n",
    "import json\n",
    "from typing import List, Dict\n",
    "\n",
    "\n",
    "def extract_all_tables_from_doc(doc_data: list) -> List[Dict]:\n",
    "    \"\"\"\n",
    "    Parses all tables from all pages in the Textract response using TRP,\n",
    "    and structures them into a list of dictionaries for LLM consumption.\n",
    "    \"\"\"\n",
    "    doc = Document(doc_data)\n",
    "    parsed_tables = []\n",
    "\n",
    "    for i, page in enumerate(doc.pages):\n",
    "        if not page.tables:\n",
    "            continue\n",
    "\n",
    "        for table in page.tables:\n",
    "            # Format table as list of rows -> list of cells (strings)\n",
    "            structured_table = []\n",
    "            for row in table.rows:\n",
    "                structured_row = [cell.text.strip() for cell in row.cells]\n",
    "                structured_table.append(structured_row)\n",
    "\n",
    "            parsed_tables.append({\n",
    "                \"page\": i + 1,\n",
    "                \"table\": structured_table\n",
    "            })\n",
    "\n",
    "    return parsed_tables\n",
    "\n",
    "\n",
    "def format_table_for_llm(table_data: List[Dict]) -> str:\n",
    "    \"\"\"\n",
    "    Converts the list of parsed tables into a markdown string or readable format for LLM.\n",
    "    \"\"\"\n",
    "    formatted_output = \"\"\n",
    "\n",
    "    for table_info in table_data:\n",
    "        formatted_output += f\"\\n### Table from Page {table_info['page']}\\n\\n\"\n",
    "\n",
    "        table = table_info[\"table\"]\n",
    "        if not table:\n",
    "            continue\n",
    "\n",
    "        # Format as Markdown table if possible\n",
    "        headers = table[0]\n",
    "        formatted_output += \"| \" + \" | \".join(headers) + \" |\\n\"\n",
    "        formatted_output += \"| \" + \" | \".join([\"---\"] * len(headers)) + \" |\\n\"\n",
    "\n",
    "        for row in table[1:]:\n",
    "            formatted_output += \"| \" + \" | \".join(row) + \" |\\n\"\n",
    "\n",
    "    return formatted_output\n"
   ]
  },
  {
   "cell_type": "code",
   "execution_count": 77,
   "id": "cb7c0a29",
   "metadata": {},
   "outputs": [],
   "source": [
    "all_tables = extract_all_tables_from_doc(doc_data)"
   ]
  },
  {
   "cell_type": "code",
   "execution_count": 78,
   "id": "6324487e",
   "metadata": {},
   "outputs": [
    {
     "data": {
      "text/plain": [
       "{'page': 8,\n",
       " 'table': [['Modern Treatment', 'Coverage'],\n",
       "  ['UAE & HIFU', 'Limit is for Procedure cost only'],\n",
       "  ['Balloon Sinuplasty', 'Limit is for Balloon cost only'],\n",
       "  ['Deep Brain Stimulation', 'Limit is for implants including batteries only'],\n",
       "  ['Oral Chemotherapy',\n",
       "   'Only cost of medicines payable under this limit, other incidental charges like investigations and consultation charges not payable.'],\n",
       "  ['Immunotherapy', 'Limit is for cost of injections only.'],\n",
       "  ['Intravitreal injections',\n",
       "   'Limit is for complete treatment, including Pre & Post Hospitalization'],\n",
       "  ['Robotic Surgery', 'Limit is for robotic component only.'],\n",
       "  ['Stereotactic Radio surgeries', 'Limit is for radiation procedure.'],\n",
       "  ['Bronchial Thermoplasty',\n",
       "   'Limit is for complete treatment, including Pre & Post Hospitalization'],\n",
       "  ['Vaporization of the prostrate', 'Limit is for LASER component only.'],\n",
       "  ['IONM', 'Limit is for IONM procedure only.'],\n",
       "  ['Stem cell therapy',\n",
       "   'Limit is for complete treatment, including Pre & Post Hospitalization']]}"
      ]
     },
     "execution_count": 78,
     "metadata": {},
     "output_type": "execute_result"
    }
   ],
   "source": [
    "all_tables[0]"
   ]
  },
  {
   "cell_type": "code",
   "execution_count": 79,
   "id": "7583f07d",
   "metadata": {},
   "outputs": [],
   "source": [
    "llm_ready_string = format_table_for_llm(all_tables)"
   ]
  },
  {
   "cell_type": "code",
   "execution_count": 81,
   "id": "0de38773",
   "metadata": {},
   "outputs": [
    {
     "name": "stdout",
     "output_type": "stream",
     "text": [
      "\n",
      "### Table from Page 8\n",
      "\n",
      "| Modern Treatment | Coverage |\n",
      "| --- | --- |\n",
      "| UAE & HIFU | Limit is for Procedure cost only |\n",
      "| Balloon Sinuplasty | Limit is for Balloon cost only |\n",
      "| Deep Brain Stimulation | Limit is for implants including batteries only |\n",
      "| Oral Chemotherapy | Only cost of medicines payable under this limit, other incidental charges like investigations and consultation charges not payable. |\n",
      "| Immunotherapy | Limit is for cost of injections only. |\n",
      "| Intravitreal injections | Limit is for complete treatment, including Pre & Post Hospitalization |\n",
      "| Robotic Surgery | Limit is for robotic component only. |\n",
      "| Stereotactic Radio surgeries | Limit is for radiation procedure. |\n",
      "| Bronchial Thermoplasty | Limit is for complete treatment, including Pre & Post Hospitalization |\n",
      "| Vaporization of the prostrate | Limit is for LASER component only. |\n",
      "| IONM | Limit is for IONM procedure only. |\n",
      "| Stem cell therapy | Limit is for complete treatment, including Pre & Post Hospitalization |\n",
      "\n",
      "### Table from Page 10\n",
      "\n",
      "| a. | Cataract |\n",
      "| --- | --- |\n",
      "| b. | Benign prostatic hypertrophy |\n",
      "| c. | Hernia |\n",
      "| d. | Hydrocele |\n",
      "| e. | Fissure/Fistula in anus |\n",
      "| f. | Piles (Haemorrhoids) |\n",
      "| g. | Sinusitis and related disorders |\n",
      "| h. | Polycystic ovarian disease |\n",
      "| i. | Non-infective arthritis |\n",
      "| j. | Pilonidal sinus |\n",
      "| k. | Gout and Rheumatism |\n",
      "| 1. | Calculus diseases |\n",
      "\n",
      "### Table from Page 13\n",
      "\n",
      "| Notification of claim for Cashless facility | TPA must be informed: |\n",
      "| --- | --- |\n",
      "| In the event of planned hospitalization | At least seventy two hours prior to the insured person's admission |\n",
      "| In the event of emergency hospitalization | Within twenty four hours of the insured person's admission |\n",
      "\n",
      "### Table from Page 13\n",
      "\n",
      "| Notification of claim for Reimbursement | Company/TPA must be informed: |\n",
      "| --- | --- |\n",
      "| In the event of planned hospitalisation/ domiciliary hospitalistion/ | At least seventy two hours prior to the insured person's admission to hospital/ inception of domiciliary hospitalisation |\n",
      "| In the event of emergency hospitalisation/ domiciliary hospitalistion | Within twenty four hours of the insured person's admission to hospital/ inception of domiciliary hospitalisation |\n",
      "\n",
      "### Table from Page 13\n",
      "\n",
      "| Notification of claim for vaccination | Company/TPA must be informed: |\n",
      "| --- | --- |\n",
      "| In the event of Anti Rabies Vaccination/ Vaccination for Children | At least twenty four hours prior to the vaccination |\n",
      "\n",
      "### Table from Page 14\n",
      "\n",
      "| Type of claim | Time limit for submission of documents to Company/TPA |\n",
      "| --- | --- |\n",
      "| Reimbursement of hospitalization, pre hospitalisation expenses and ambulance charges, air ambulance charges and medical emergency reunion charges | Within fifteen days from date of discharge from hospital |\n",
      "| Reimbursement of post hospitalisation expenses and doctor's home visit and nursing care during post hospitalization | Within fifteen days from completion of post hospitalisation treatment |\n",
      "| Reimbursement of domiciliary hospitalisation expenses | Within fifteen days from issuance of fitness certificate |\n",
      "| Reimbursement of anti rabies vaccination, new born baby vaccination and vaccination of children | Within fifteen days from date of vaccination |\n",
      "| Reimbursement of expenses for infertility treatment | Within fifteen days of completion of treatment or fifteen days of expiry of Policy period, whichever is earlier, once during the policy year |\n",
      "| Reimbursement of health check up expenses (to be submitted to the office only) | At least forty five (45) days before the expiry of the third Policy Year. |\n",
      "\n",
      "### Table from Page 18\n",
      "\n",
      "| First year | Up to a maximum of 25% of SI |\n",
      "| --- | --- |\n",
      "| Second year | Up to a maximum of 50% of SI |\n",
      "| Third year | Up to a maximum of 75% of SI |\n",
      "\n",
      "### Table from Page 22\n",
      "\n",
      "| Features |  | Plans |  |\n",
      "| --- | --- | --- | --- |\n",
      "|  | PLAN A | PLAN B | PLAN C |\n",
      "| Sum insured (SI) (as Floater) | INR 7/ 8/ 9 /10 Lac | INR 15/ 20 /25 Lac | INR 30/ 40/ 50 Lac |\n",
      "| Treatment |  | Allopathy, AYUSH |  |\n",
      "| In built Covers (subject to the SI) |  |  |  |\n",
      "| In patient Treatment (as Floater) | Up to SI | Up to SI | Up to SI |\n",
      "| Pre Hospitalisation | 30 days | 30 days | 30 days |\n",
      "| Post Hospitalisation | 60 days | 60 days | 60 days |\n",
      "| Pre-existing Disease (Only PEDs declared in the Proposal Form and accepted for coverage by the Company shall be covered) | Covered after 36 months of continuous coverage | Covered after 36 months of continuous coverage | Covered after 36 months of continuous coverage |\n",
      "| * Room/ ICU Charges (per day per insured person) | Room - Up to 1% of SI or actual, whichever is lower ICU - Up to 2% of SI or actual, whichever is lower | Up to SI | Up to SI |\n",
      "| ** Limit for Cataract Surgery (For each eye per insured person) | Up to 15% of SI or INR 60,000 whichever is lower | Up to SI | Up to SI |\n",
      "| Domiciliary Hospitalisation (as Floater) | Up to INR 1,00,000 | Up to INR 2,00,000 | Up to INR 2,00,000 |\n",
      "| Day Care Procedures (as Floater) | Up to SI | Up to SI | Up to SI |\n",
      "| AYUSH Treatment (as Floater) | Up to SI | Up to SI | Up to SI |\n",
      "| Organ Donor's Medical Expenses (as Floater) | Up to SI | Up to SI | Up to SI |\n",
      "| Hospital Cash (per insured person, per day) | INR 500, max. of 5 days | INR 1,000, max. of 5 days | INR 2,000, max. of 5 days |\n",
      "| Ambulance (per insured person, in a policy year) | Up to INR 2,500 | Up to INR 4,000 | Up to INR 5,000 |\n",
      "| Air Ambulance (per insured person, in a policy year) | Not covered | Up to 5% of SI | Up to 5% of SI |\n",
      "| Medical Emergency Reunion (per insured person, in a policy year) | Not covered | No sublimit | No sublimit |\n",
      "| Doctor's Home Visit and Nursing Care during Post Hospitalisation (per insured person, in a policy year) | Not covered | INR 1,000 per day, max. of 10 days | INR 2,000 per day, max. of 10 days |\n",
      "| Anti Rabies Vaccination (per insured person, in a policy year) | Up to INR 5,000 | Up to INR 5,000 | Up to INR 5,000 |\n",
      "| Maternity (including Baby from Birth Cover) (per insured person, in a policy year, waiting period of 2 years applies) | Up to INR 30,000 for normal delivery and INR 50,000 for caesarean section | Up to SI | Up to SI |\n",
      "| Vaccination for New Born Baby | As part of Maternity | As part of Maternity | As part of Maternity |\n",
      "| Infertility (per insured person, in a policy year, waiting period of 2 years applies) | Up to INR 50,000 | Up to INR 1,00,000 | Up to INR 1,00,000 |\n",
      "| Vaccination for Children, for male child up to 12 years and female child up to 14 years (per insured person, in a policy year) | Up to INR 1,000 | Up to SI | Up to SI |\n",
      "| Modern Treatment (12 nos) | Up to 25% of SI for each treatment | Up to 25% of SI for each treatment | Up to 25% of SI for each treatment |\n",
      "| Treatment due to participation in hazardous or adventure sports (non-professionals) | Up to 25% of SI | Up to 25% of SI | Up to 25% of SI |\n",
      "| Morbid Obesity | Covered after waiting period of 3 years | Covered after waiting period of 3 years | Covered after waiting period of 3 years |\n",
      "| Refractive Error (min 7.5D) | Covered after waiting period of 2 years | Covered after waiting period of 2 years | Covered after waiting period of 2 years |\n",
      "| Other benefits |  |  |  |\n",
      "| Reinstatement of sum insured due to road traffic accident | Yes | Yes | Yes |\n",
      "| Good Health Incentives |  |  |  |\n",
      "| No Claim Discount | 5% | discount on base premium, |  |\n",
      "| Health Check Up (as Floater) | Every 2 yrs., up to INR 5,000 | Every 2 yrs., up to INR 7,500 | Every 2 yrs., up to INR 10,000 |\n",
      "| Optional covers |  |  |  |\n",
      "|  | First year | Up to a maximum | of 25% of SI |\n",
      "| Pre-existing Diabetes/Hypertension (as Floater) | Second year | Up to a maximum | of 50% of SI |\n",
      "|  | Third year | Up to a maximum | of 75% of SI |\n",
      "| Out-patient Treatment (as Floater in a policy year) | Limit of cover per family INR 2,000/ | 3,000/ 4,000/ 5,000/ 10,000/ in addition to the SI | 15,000/ 25,000 |\n",
      "| **Critical Illness (per insured person in a policy year) | Benefit amount - INR 25,00,000 | 5,00,000/ 10,00,000/ in addition to the SI |  |\n",
      "|  | Discounts |  |  |\n",
      "| Online Discount | 10% discount in premium (for new and | Renewal, ONLY where no | intermediary is involved) |\n",
      "| Co-payment discount (optional) | 20% Co-payment, with a 25% discount 10% Co-payment, with a 12.5% discount | in total premium. in total premium. |  |\n",
      "| Long Term Discount | Discount of 4% for 2 year policy and | Discount of 7.5% for 3 year | policy |\n",
      "| No Maternity/ Infertility Discount | Discount of 3%, above 45 years of age |  |  |\n",
      "| Add-ons (cover | available on payment of additional | premium) |  |\n",
      "| National Home Care Treatment Add-On | INR 10,000/ of Basic SI under base Policy. | 30,000/ 35,000/ 40,000/ 45,000/ | 50,000, subject to 10% |\n",
      "| National Non-Medical Expenses Add-on (available to SI 5 lacs & above) | Up to 10% of Basic Sum Insured shall be part of the base Policy Basic | (excluding Cumulative Bonus, if Sum Insured (excluding | any) of base Policy and Cumulative Bonus, if any). |\n",
      "\n",
      "### Table from Page 23\n",
      "\n",
      "| Time interval | Type of vaccination | Frequency |\n",
      "| --- | --- | --- |\n",
      "| Vaccination for new born |  |  |\n",
      "| 0-3 months | BCG (From birth to 2 weeks) | 1 |\n",
      "|  | OPV (0,6, 10 weeks) OR OPV + IPV1 (6,10 weeks) | 3 OR 4 |\n",
      "|  | DPT (6 & 10 week) | 2 |\n",
      "|  | Hepatitis-B (0 & 6 week) | 2 |\n",
      "|  | Hib (6 & 10 week) | 2 |\n",
      "| Vaccination for first year |  |  |\n",
      "| 3-6 months | OPV (14 week) OR OPV + IPV2 | 1 OR 2 |\n",
      "|  | DPT (14 week) | 1 |\n",
      "|  | Hepatitis-B (14 week) | 1 |\n",
      "|  | Hib (14 week) | 1 |\n",
      "| 9 months | Measles (+9 months) | 1 |\n",
      "| 12 months | Chicken Pox (12 months) | 1 |\n",
      "| Vaccinations for age 1 to 12 years |  |  |\n",
      "| 1-2 years | OPV (15 &18 months) OR OPV + IPV3 | 1 OR 2 |\n",
      "|  | DPT (15-18 months) | 1 |\n",
      "|  | Hib (15-18 months) | 1 |\n",
      "|  | MMR (15- 18 months) | 1 |\n",
      "|  | Meningococcal vaccine (24 months) | 1 |\n",
      "| 2-3 years | Typhoid (+2 years) | 1 |\n",
      "| 10-12 years | TT | 1 |\n",
      "| 14 years (girl child only) | HPV | 1 |\n",
      "\n",
      "### Table from Page 24\n",
      "\n",
      "| 14 | BED PAN |\n",
      "| --- | --- |\n",
      "| 15 | FACE MASK |\n",
      "| 16 | FLEXI MASK |\n",
      "| 17 | HAND HOLDER |\n",
      "| 18 | SPUTUM CUP |\n",
      "| 19 | DISINFECTANT LOTIONS |\n",
      "| 20 | LUXURY TAX |\n",
      "| 21 | HVAC |\n",
      "| 22 | HOUSE KEEPING CHARGES |\n",
      "| 23 | AIR CONDITIONER CHARGES |\n",
      "| 24 | IM IV INJECTION CHARGES |\n",
      "| 25 | CLEAN SHEET |\n",
      "| 26 | BLANKET/WARMER BLANKET |\n",
      "| 27 | ADMISSION KIT |\n",
      "| 28 | DIABETIC CHART CHARGES |\n",
      "| 29 | DOCUMENTATION CHARGES / ADMINISTRATIVE EXPENSES |\n",
      "| 30 | DISCHARGE PROCEDURE CHARGES |\n",
      "| 31 | DAILY CHART CHARGES |\n",
      "| 32 | ENTRANCE PASS / VISITORS PASS CHARGES |\n",
      "| 33 | EXPENSES RELATED TO PRESCRIPTION ON DISCHARGE |\n",
      "| 34 | FILE OPENING CHARGES |\n",
      "| 35 | INCIDENTAL EXPENSES / MISC. CHARGES (NOT EXPLAINED) |\n",
      "| 36 | PATIENT IDENTIFICATION BAND / NAME TAG |\n",
      "| 37 | PULSEOXYMETER CHARGES |\n",
      "|  | List III - Items that are to be subsumed into Procedure Charges |\n",
      "| SI | Item |\n",
      "| 1 | HAIR REMOVAL CREAM |\n",
      "| 2 | DISPOSABLES RAZORS CHARGES (for site preparations) |\n",
      "| 3 | EYE PAD |\n",
      "| 4 | EYE SHEILD |\n",
      "| 5 | CAMERA COVER |\n",
      "| 6 | DVD, CD CHARGES |\n",
      "| 7 | GAUSE SOFT |\n",
      "| 8 | GAUZE |\n",
      "| 9 | WARD AND THEATRE BOOKING CHARGES |\n",
      "| 10 | ARTHROSCOPY AND ENDOSCOPY INSTRUMENTS |\n",
      "| 11 | MICROSCOPE COVER |\n",
      "| 12 | SURGICAL BLADES, HARMONICSCALPEL,SHAVER |\n",
      "| 13 | SURGICAL DRILL |\n",
      "| 14 | EYE KIT |\n",
      "| 15 | EYE DRAPE |\n",
      "| 16 | X-RAY FILM |\n",
      "| 17 | BOYLES APPARATUS CHARGES |\n",
      "| 18 | COTTON |\n",
      "| 19 | COTTON BANDAGE |\n",
      "| 20 | SURGICAL TAPE |\n",
      "| 21 | APRON |\n",
      "| 22 | TORNIQUET |\n",
      "| 23 | ORTHOBUNDLE, GYNAEC BUNDLE |\n",
      "|  | List IV - Items that are to be subsumed into costs of treatment |\n",
      "| SI | Item |\n",
      "| 1 | ADMISSION/REGISTRATION CHARGES |\n",
      "| 2 | HOSPITALISATION FOR EVALUATION/ DIAGNOSTIC PURPOSE |\n",
      "| 3 | URINE CONTAINER |\n",
      "| 4 | BLOOD RESERVATION CHARGES AND ANTE NATAL BOOKING CHARGES |\n",
      "| 5 | BIPAP MACHINE |\n",
      "| 6 | CPAP/ CAPD EQUIPMENTS |\n",
      "| 7 | INFUSION PUMP- COST |\n",
      "| 8 | HYDROGEN PEROXIDE\\SPIRIT\\ DISINFECTANTS ETC |\n",
      "| 9 | NUTRITION PLANNING CHARGES - DIETICIAN CHARGES- DIET CHARGES |\n",
      "| 10 | HIV KIT |\n",
      "| 11 | ANTISEPTIC MOUTHWASH |\n",
      "| 12 | LOZENGES |\n",
      "| 13 | MOUTH PAINT |\n",
      "| 14 | VACCINATION CHARGES |\n",
      "| 15 | ALCOHOL SWABES |\n",
      "| 16 | SCRUB SOLUTION/STERILLIUM |\n",
      "| 17 | Glucometer & Strips |\n",
      "| 18 | URINE BAG |\n",
      "\n",
      "### Table from Page 24\n",
      "\n",
      "|  | List I List of which coverage is not available in the policy |\n",
      "| --- | --- |\n",
      "| SI | Item |\n",
      "| 1 | BABY FOOD |\n",
      "| 2 | BABY UTILITIES CHARGES |\n",
      "| 3 | BEAUTY SERVICES |\n",
      "| 4 | BELTS/BRACES |\n",
      "| 5 | BUDS |\n",
      "| 6 | COLD PACK/HOT PACK |\n",
      "| 7 | CARRY BAGS |\n",
      "| 8 | EMAIL / INTERNET CHARGES |\n",
      "| 9 | FOOD CHARGES (OTHER THAN PATIENT's DIET PROVIDED BY HOSPITAL) |\n",
      "| 10 | LEGGINGS |\n",
      "| 11 | LAUNDRY CHARGES |\n",
      "| 12 | MINERAL WATER |\n",
      "| 13 | SANITARY PAD |\n",
      "| 14 | TELEPHONE CHARGES |\n",
      "| 15 | GUEST SERVICES |\n",
      "| 16 | CREPE BANDAGE |\n",
      "| 17 | DIAPER OF ANY TYPE |\n",
      "| 18 | EYELET COLLAR |\n",
      "| 19 | SLINGS |\n",
      "| 20 | BLOOD GROUPING AND CROSS MATCHING OF DONORS SAMPLES |\n",
      "| 21 | SERVICE CHARGES WHERE NURSING CHARGE ALSO CHARGED |\n",
      "| 22 | Television Charges |\n",
      "| 23 | SURCHARGES |\n",
      "| 24 | ATTENDANT CHARGES |\n",
      "| 25 | EXTRA DIET OF PATIENT (OTHER THAN THAT WHICH FORMS PART OF BED CHARGE) |\n",
      "| 26 | BIRTH CERTIFICATE |\n",
      "| 27 | CERTIFICATE CHARGES |\n",
      "| 28 | COURIER CHARGES |\n",
      "| 29 | CONVEYANCE CHARGES |\n",
      "| 30 | MEDICAL CERTIFICATE |\n",
      "| 31 | MEDICAL RECORDS |\n",
      "| 32 | PHOTOCOPIES CHARGES |\n",
      "| 33 | MORTUARY CHARGES |\n",
      "| 34 | WALKING AIDS CHARGES |\n",
      "| 35 | OXYGEN CYLINDER (FOR USAGE OUTSIDE THE HOSPITAL) |\n",
      "| 36 | SPACER |\n",
      "| 37 | SPIROMETRE |\n",
      "| 38 | NEBULIZER KIT |\n",
      "| 39 | STEAM INHALER |\n",
      "| 40 | ARMSLING |\n",
      "| 41 | THERMOMETER |\n",
      "| 42 | CERVICAL COLLAR |\n",
      "| 43 | SPLINT |\n",
      "| 44 | DIABETIC FOOT WEAR |\n",
      "| 45 | KNEE BRACES (LONG/ SHORT/ HINGED) |\n",
      "| 46 | KNEE IMMOBILIZER/SHOULDER IMMOBILIZER |\n",
      "| 47 | LUMBO SACRAL BELT |\n",
      "| 48 | NIMBUS BED OR WATER OR AIR BED CHARGES |\n",
      "| 49 | AMBULANCE COLLAR |\n",
      "| 50 | AMBULANCE EQUIPMENT |\n",
      "| 51 | ABDOMINAL BINDER |\n",
      "| 52 | PRIVATE NURSES CHARGES- SPECIAL NURSING CHARGES |\n",
      "| 53 | SUGAR FREE Tablets |\n",
      "| 54 | CREAMS POWDERS LOTIONS (Toiletries are not payable, only prescribed medical pharmaceuticals payable) |\n",
      "| 55 | ECG ELECTRODES |\n",
      "| 56 | GLOVES |\n",
      "| 57 | NEBULISATION KIT |\n",
      "| 58 | ANY KIT WITH NO DETAILS MENTIONED [DELIVERY KIT, ORTHOKIT, RECOVERY KIT, ETC] |\n",
      "| 59 | KIDNEY TRAY |\n",
      "| 60 | MASK |\n",
      "| 61 | OUNCE GLASS |\n",
      "| 62 | OXYGEN MASK |\n",
      "| 63 | PELVIC TRACTION BELT |\n",
      "| 64 | PAN CAN |\n",
      "| 65 | TROLLY COVER |\n",
      "| 66 | UROMETER, URINE JUG |\n",
      "| 67 | VASOFIX SAFETY |\n",
      "\n",
      "### Table from Page 24\n",
      "\n",
      "|  | List II - Items that are to be subsumed into Room Charges |\n",
      "| --- | --- |\n",
      "| SI | Item |\n",
      "| 1 | BABY CHARGES (UNLESS SPECIFIED/INDICATED) |\n",
      "| 2 | HAND WASH |\n",
      "| 3 | SHOE COVER |\n",
      "| 4 | CAPS |\n",
      "| 5 | CRADLE CHARGES |\n",
      "| 6 | COMB |\n",
      "| 7 | EAU-DE-COLOGNE / ROOM FRESHNERS |\n",
      "| 8 | FOOT COVER |\n",
      "| 9 | GOWN |\n",
      "| 10 | SLIPPERS |\n",
      "| 11 | TISSUE PAPER |\n",
      "| 12 | TOOTH PASTE |\n",
      "| 13 | TOOTH BRUSH |\n",
      "\n",
      "### Table from Page 25\n",
      "\n",
      "|  | Tel.: 0141- 2740363 Email: bimalokpal.jaipur@cioins.co.in |\n",
      "| --- | --- |\n",
      "| Kerala, UT of (a) Lakshadweep, (b) Mahe a part of UT of Pondicherry | Office of the Insurance Ombudsman, Kochi 10th Floor, Jeevan Prakash,LIC Building, Opp to Maharaja's College Ground,M.G.Road, Kochi 682 011. Tel.: 0484 2358759 Email: bimalokpal.ernakulam@cioins.co.in |\n",
      "| West Bengal, UT of Andaman and Nicobar Islands, Sikkim | Office of the Insurance Ombudsman, Kolkata Hindustan Bldg. Annexe, 7th Floor, 4, C.R. Avenue, KOLKATA 700 Tel.: 033 22124339 / 22124341 Email: bimalokpal.kolkata@cioins.co.in |\n",
      "| Districts of Uttar Pradesh Laitpur, Jhansi, Mahoba, Hamirpur, Banda, Chitrakoot, Allahabad, Mirzapur, Sonbhabdra, Fatehpur, Pratapgarh, Jaunpur, Varanasi, Gazipur, Jalaun, Kanpur, Lucknow, Unnao, Sitapur, Lakhimpur, Bahraich, Barabanki, Raebareli, Sravasti, Gonda, Faizabad, Amethi, Kaushambi, Balrampur, Basti, Ambedkarnagar, Sultanpur, Maharajgang, Santkabirnagar, Azamgarh, Kushinagar, Gorkhpur, Deoria, Mau, Ghazipur, Chandauli, Ballia, Sidharathnagar. | Office of the Insurance Ombudsman, Lucknow 6th Floor, Jeevan Bhawan, Phase-II, Nawal Kishore Road, Hazratganj, Lucknow 226 001. Tel.: 0522 4002082 / 3500613 Email: bimalokpal.lucknow@cioins.co.in |\n",
      "| Mumbai Metropolitan Region excluding wards in Mumbai i.e M/E, M/W, N, S and T covered under Office of Insurance Ombudsman Thane and areas of Navi Mumbai. | Office of the Insurance Ombudsman, Mumbai 3rd Floor, Jeevan Seva Annexe, S. V. Road, Santacruz (W), Mumbai 400 054. Tel.: 022 69038800/27/29/31/32/33 Email: bimalokpal.mumbai@cioins.co.in |\n",
      "| State of Uttaranchal and the following Districts of Uttar Pradesh: Agra, Aligarh, Bagpat, Bareilly, Bijnor, Budaun, Bulandshehar, Etah, Kanooj, Mainpuri, Mathura, Meerut, Moradabad, Muzaffarnagar, Oraiyya, Pilibhit, Etawah, Farrukhabad, Firozbad, Gautambodhanagar, Ghaziabad, Hardoi, Shahjahanpur, Hapur, Shamli, Rampur, Kashganj, Sambhal, Amroha, Hathras, Kanshiramnagar, Saharanpur | Office of the Insurance Ombudsman, Noida Bhagwan Sahai Palace 4th Floor, Main Road, Naya Bans, Sector 15, Distt: Gautam Buddh Nagar, U.P-201301. Tel.: 0120-2514252 / 2514253 Email: bimalokpal.noida@cioins.co.in |\n",
      "| Bihar, Jharkhand. | Office of the Insurance Ombudsman, Patna 2nd Floor, Lalit Bhawan, Bailey Road, Patna 800 001. Tel.: 0612-2547068 Email: bimalokpal.patna@cioins.co.in |\n",
      "| State of Goa and State of Maharashtra excluding areas of Navi Mumbai, Thane district,Palghar District, Raigad district & Mumbai Metropolitan Region | Office of the Insurance Ombudsman, Pune Jeevan Darshan Bldg., 3rd Floor, C.T.S. No.s. 195 to 198, N.C. Kelkar Road, Narayan Peth, Pune - 411 030. Tel.: 020-24471175 Email: bimalokpal.pune@cioins.co.in |\n",
      "\n",
      "### Table from Page 25\n",
      "\n",
      "| Areas of Jurisdiction | Office of the Insurance Ombudsman |\n",
      "| --- | --- |\n",
      "| Gujarat UT of Dadra and Nagar Haveli, Daman and Diu | Office of the Insurance Ombudsman, Ahmedabad Jeevan Prakash Building, 6th floor, Tilak Marg, Relief Road, Ahmedabad - 380 001. Tel.: 079 25501201/02 Email: bimalokpal.ahmedabad@cioins.co.in |\n",
      "| Karnataka | Office of the Insurance Ombudsman, Bengaluru Jeevan Soudha Building,P No. 57-27- N-19 Ground Floor, 19/19, 24th Main Road, JP Nagar, Ist Phase, Bengaluru 560 078. Tel.: 080 26652048 / 26652049 Email: bimalokpal.bengaluru@cioins.co.in |\n",
      "| Madhya Pradesh and Chhattisgarh | Office of the Insurance Ombudsman, Bhopal 1st floor, \"Jeevan Shikha\", 60-B, Hoshangabad Road, Opp. Gayatri Mandir,Arera Hills Bhopal 462 011. Tel.: 0755 2769201 / Email: bimalokpal.bhopal@cioins.co.in |\n",
      "| Orissa | Office of the Insurance Ombudsman, Bhubaneswar 62, Forest park, Bhubneshwar 751 009. Tel.: 0674 2596461 /2596455 Email: bimalokpal.bhubaneswar@cioins.co.in |\n",
      "| Punjab, Haryana (excluding Gurugram, Faridabad, Sonepat and Bahadurgarh), Himachal Pradesh, Union Territories of Jammu & Kashmir,Ladakh & Chandigarh. | Office of the Insurance Ombudsman, Chandigarh Jeevan Deep Building SCO 20-27, Ground Floor Sector- 17 A, Chandigarh - 160 017. Tel.: 0172-2706468 Email: bimalokpal.chandigarh@cioins.co.in |\n",
      "| Tamil Nadu, UT- Pondicherry Town and Karaikal (which are part of UT of Pondicherry) | Office of the Insurance Ombudsman, Chennai Fatima Akhtar Court, 4th Floor, 453, Anna Salai, Teynampet, CHENNAI - 600 018. Tel.: 044 24333668 / 24333678 Email: bimalokpal.chennai@cioins.co.in |\n",
      "| Delhi & following Districts of Haryana Gurugram, Faridabad, Sonepat & Bahadurgarh. | Office of the Insurance Ombudsman, Delhi 2/2 A, Universal Insurance Building, Asaf Ali Road, New Delhi 110 002. Tel.: 011 46013992/23213504/23232481 Email: bimalokpal.delhi@cioins.co.in |\n",
      "| Assam Meghalaya, Manipur, Mizoram, Arunachal Pradesh, Nagaland and Tripura | Office of the Insurance Ombudsman, Guwahati Jeevan Nivesh, 5th Floor, Near Pan Bazar S.S. Road, Guwahati - 781001(ASSAM). Tel.: 0361 2632204 / 2602205 / 2631307 Email: bimalokpal.guwahati@cioins.co.in |\n",
      "| Andhra Pradesh, Telangana and UT of Yanam - a part of the UT of Pondicherry | Office of the Insurance Ombudsman, Hyderabad 6-2-46, 1st floor, \"Moin Court\", Lane Opp.Hyundai Showroom A. C. Guards, Lakdi-Ka-Pool, Hyderabad 500 004. Tel.: 040 23312122 / 23376991 / 23376599 / 23328709 / 23325325 Email: bimalokpal.hyderabad@cioins.co.in |\n",
      "| Rajasthan | Office of the Insurance Ombudsman, Jaipur Jeevan Nidhi - II Bldg., Gr. Floor, Bhawani Singh Marg, Jaipur 302 005. |\n",
      "\n"
     ]
    }
   ],
   "source": [
    "print(llm_ready_string)"
   ]
  },
  {
   "cell_type": "code",
   "execution_count": 86,
   "id": "fb4a2655",
   "metadata": {},
   "outputs": [],
   "source": [
    "def extract_all_text_from_doc(doc_data: list):\n",
    "    text = \"\"\n",
    "    docs = Document(doc_data)\n",
    "    for page in docs.pages:\n",
    "        text += page.text\n",
    "\n",
    "    return text"
   ]
  },
  {
   "cell_type": "code",
   "execution_count": 87,
   "id": "efb505da",
   "metadata": {},
   "outputs": [
    {
     "data": {
      "text/plain": [
       "108541"
      ]
     },
     "execution_count": 87,
     "metadata": {},
     "output_type": "execute_result"
    }
   ],
   "source": [
    "len(extract_all_text_from_doc(doc_data))"
   ]
  },
  {
   "cell_type": "code",
   "execution_count": 88,
   "id": "753dee62",
   "metadata": {},
   "outputs": [],
   "source": [
    "def extract_all_text_from_doc(doc_data: list):\n",
    "    text = \"\"\n",
    "    docs = Document(doc_data)\n",
    "    for page in docs.pages:\n",
    "        text += page.text\n",
    "\n",
    "    return text\n",
    "\n",
    "\n",
    "def extract_all_tables_from_doc(doc_data: list) -> List[Dict]:\n",
    "    \"\"\"\n",
    "    Parses all tables from all pages in the Textract response using TRP,\n",
    "    and structures them into a list of dictionaries for LLM consumption.\n",
    "    \"\"\"\n",
    "    doc = Document(doc_data)\n",
    "    parsed_tables = []\n",
    "\n",
    "    for i, page in enumerate(doc.pages):\n",
    "        if not page.tables:\n",
    "            continue\n",
    "\n",
    "        for table in page.tables:\n",
    "            # Format table as list of rows -> list of cells (strings)\n",
    "            structured_table = []\n",
    "            for row in table.rows:\n",
    "                structured_row = [cell.text.strip() for cell in row.cells]\n",
    "                structured_table.append(structured_row)\n",
    "\n",
    "            parsed_tables.append({\"page\": i + 1, \"table\": structured_table})\n",
    "\n",
    "    return parsed_tables\n",
    "\n"
   ]
  },
  {
   "cell_type": "code",
   "execution_count": 89,
   "id": "f1785fc9",
   "metadata": {},
   "outputs": [],
   "source": [
    "def get_extracted_text_and_tables(doc_data):\n",
    "\n",
    "    text = extract_all_text_from_doc(doc_data)\n",
    "    tables = extract_all_tables_from_doc(doc_data)\n",
    "\n",
    "    return {\"text\": text, \"tables\": tables}"
   ]
  },
  {
   "cell_type": "code",
   "execution_count": 90,
   "id": "e97103b2",
   "metadata": {},
   "outputs": [],
   "source": [
    "import os\n",
    "result = get_extracted_text_and_tables(doc_data)\n",
    "\n",
    "save_path = \"docs/extracted/042f627c5d8f619cf62cc21f864b08dfd59059d0b9aab805d132e0014489d625.json\"\n",
    "os.makedirs(os.path.dirname(save_path), exist_ok=True)\n",
    "with open(save_path, \"w\") as f:\n",
    "    json.dump(result, f, indent=2)"
   ]
  },
  {
   "cell_type": "code",
   "execution_count": null,
   "id": "69c1b62f",
   "metadata": {},
   "outputs": [],
   "source": []
  }
 ],
 "metadata": {
  "kernelspec": {
   "display_name": "venv (3.10.1)",
   "language": "python",
   "name": "python3"
  },
  "language_info": {
   "codemirror_mode": {
    "name": "ipython",
    "version": 3
   },
   "file_extension": ".py",
   "mimetype": "text/x-python",
   "name": "python",
   "nbconvert_exporter": "python",
   "pygments_lexer": "ipython3",
   "version": "3.10.1"
  }
 },
 "nbformat": 4,
 "nbformat_minor": 5
}
