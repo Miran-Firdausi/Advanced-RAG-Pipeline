{
 "cells": [
  {
   "cell_type": "markdown",
   "id": "0a3a14a5",
   "metadata": {},
   "source": [
    "## Multi Query\n",
    "Breakdown complex or vague query into multiple simple ones."
   ]
  },
  {
   "cell_type": "code",
   "execution_count": 1,
   "id": "05a8667c",
   "metadata": {},
   "outputs": [],
   "source": [
    "from dotenv import load_dotenv\n",
    "from langchain import hub\n",
    "from langchain_community.vectorstores import FAISS\n",
    "from langchain_huggingface import HuggingFaceEmbeddings\n",
    "from langchain_google_genai import ChatGoogleGenerativeAI\n",
    "from langchain_core.output_parsers import StrOutputParser\n",
    "from langchain_core.chat_history import InMemoryChatMessageHistory\n",
    "from langchain_core.runnables.history import RunnableWithMessageHistory\n",
    "from langchain_core.runnables import RunnableLambda, RunnablePassthrough\n",
    "from langchain_text_splitters import RecursiveCharacterTextSplitter\n",
    "\n",
    "import sys\n",
    "import os\n",
    "sys.path.insert(0, os.path.abspath('..'))\n",
    "\n",
    "from utilities.file_utils import load_pdf_using_PyPDF\n",
    "from utilities.text_utils import format_docs, log_chunks, get_unique_union_of_documents\n",
    "from prompts import CHAT_HISTORY_PROMPT, CLARIFY_USER_QUERY_PROMPT, DIFFERENT_PERSPECTIVE_PROMPT\n",
    "\n",
    "from docs.summary import BAJAJ_PDF_SUMMARY"
   ]
  },
  {
   "cell_type": "code",
   "execution_count": 3,
   "id": "a768d888",
   "metadata": {},
   "outputs": [],
   "source": [
    "file_path = \"../docs/042f627c5d8f619cf62cc21f864b08dfd59059d0b9aab805d132e0014489d625.pdf\"\n",
    "pages = await load_pdf_using_PyPDF(file_path) # Average time with PyPDF: 2.5s"
   ]
  },
  {
   "cell_type": "code",
   "execution_count": 4,
   "id": "dcf7d75c",
   "metadata": {},
   "outputs": [],
   "source": [
    "# Splitting into chunks\n",
    "text_splitter = RecursiveCharacterTextSplitter(chunk_size=1000, chunk_overlap=200)\n",
    "splits = text_splitter.split_documents(pages)"
   ]
  },
  {
   "cell_type": "code",
   "execution_count": 5,
   "id": "c5eb8b88",
   "metadata": {},
   "outputs": [
    {
     "name": "stderr",
     "output_type": "stream",
     "text": [
      "e:\\Programming-Projects\\Hackathon\\hackrx6\\venv\\lib\\site-packages\\tqdm\\auto.py:21: TqdmWarning: IProgress not found. Please update jupyter and ipywidgets. See https://ipywidgets.readthedocs.io/en/stable/user_install.html\n",
      "  from .autonotebook import tqdm as notebook_tqdm\n"
     ]
    }
   ],
   "source": [
    "# Embeddings\n",
    "# all_mini_embeddings = HuggingFaceEmbeddings(model_name=\"all-MiniLM-L6-v2\")\n",
    "bge_embeddings = HuggingFaceEmbeddings(model_name=\"BAAI/bge-small-en-v1.5\")\n",
    "\n",
    "embeddings = bge_embeddings"
   ]
  },
  {
   "cell_type": "code",
   "execution_count": null,
   "id": "473ac6be",
   "metadata": {},
   "outputs": [],
   "source": [
    "# Creating Vector Store\n",
    "vector_store = FAISS.from_documents(splits, embedding=embeddings)\n",
    "# Store the vector DB locally to save processing time\n",
    "vector_store.save_local(\"../vector_store/042f627c5d8f619cf62cc21f864b08dfd59059d0b9aab805d132e0014489d625\")"
   ]
  },
  {
   "cell_type": "code",
   "execution_count": 7,
   "id": "126a7cb2",
   "metadata": {},
   "outputs": [],
   "source": [
    "# Load the saved vector store\n",
    "vector_store = FAISS.load_local(\"../vector_store/042f627c5d8f619cf62cc21f864b08dfd59059d0b9aab805d132e0014489d625\", embeddings, allow_dangerous_deserialization=True)"
   ]
  },
  {
   "cell_type": "code",
   "execution_count": 6,
   "id": "1374c204",
   "metadata": {},
   "outputs": [],
   "source": [
    "load_dotenv()\n",
    "\n",
    "retriever = vector_store.as_retriever()\n",
    "\n",
    "llm = ChatGoogleGenerativeAI(\n",
    "    model=\"gemini-2.0-flash\",\n",
    "    temperature=0,\n",
    "    max_tokens=None,\n",
    "    timeout=None,\n",
    "    max_retries=2,\n",
    ")"
   ]
  },
  {
   "cell_type": "code",
   "execution_count": null,
   "id": "c725c27d",
   "metadata": {},
   "outputs": [
    {
     "name": "stdout",
     "output_type": "stream",
     "text": [
      "Okay, based on the document and the user's brief information, here's a more precise interpretation of the user's question:\n",
      "\n",
      "\"Given that I am a 46-year-old male with a 3-month-old Bajaj Allianz Global Health Care Policy (UIN: BAJHLIP23020V012223) and require knee surgery in Pune, am I covered for this surgery under my policy, considering any applicable waiting periods, sub-limits, or exclusions related to knee surgery or pre-existing conditions?  Specifically, I'd like to know:\n",
      "\n",
      "*   Is knee surgery covered under the policy?\n",
      "*   Are there any waiting periods that apply to knee surgery or related conditions, given that my policy is only 3 months old?\n",
      "*   What are the potential sub-limits applicable to knee surgery?\n",
      "*   Are there specific hospitals in Pune that are part of the network provider list for cashless claims?\n",
      "*   Would pre-authorization be required for a cashless claim for this surgery?\"\n"
     ]
    }
   ],
   "source": [
    "clarify_chain = CLARIFY_USER_QUERY_PROMPT | llm | StrOutputParser()\n",
    "\n",
    "clarified_question = clarify_chain.invoke({\n",
    "    \"summary\": BAJAJ_PDF_SUMMARY,\n",
    "    \"question\": \"46-year-old male, knee surgery in Pune, 3-month-old insurance policy\"\n",
    "})\n",
    "\n",
    "print(clarified_question)"
   ]
  },
  {
   "cell_type": "code",
   "execution_count": null,
   "id": "c7ea5ad3",
   "metadata": {},
   "outputs": [
    {
     "name": "stderr",
     "output_type": "stream",
     "text": [
      "e:\\Programming-Projects\\Hackathon\\hackrx6\\utilities\\text_utils.py:20: LangChainBetaWarning: The function `loads` is in beta. It is actively being worked on, so the API may change.\n",
      "  return [loads(doc) for doc in unique_docs]\n"
     ]
    }
   ],
   "source": [
    "# Query Decomposition\n",
    "generate_queries = (\n",
    "    DIFFERENT_PERSPECTIVE_PROMPT \n",
    "    | llm\n",
    "    | StrOutputParser() \n",
    "    | (lambda x: x.split(\"\\n\"))\n",
    ")\n",
    "\n",
    "# Retrieve \n",
    "question = clarified_question   \n",
    "retrieval_chain = generate_queries | retriever.map() | get_unique_union_of_documents\n",
    "docs = retrieval_chain.invoke({\"question\": question})"
   ]
  },
  {
   "cell_type": "code",
   "execution_count": 9,
   "id": "982d14cd",
   "metadata": {},
   "outputs": [
    {
     "data": {
      "text/plain": [
       "[Document(id='e1021e6a-4c1d-4f69-ade4-87404cf5ed0f', metadata={'producer': 'Microsoft® Word 2016', 'creator': 'Microsoft® Word 2016', 'creationdate': '2022-06-16T20:06:13+05:30', 'author': 'Vinay Dhanokar/Head Office Pune/Corporate Communication/General', 'moddate': '2022-06-16T20:06:13+05:30', 'source': 'docs/BAJHLIP23020V012223.pdf', 'total_pages': 49, 'page': 45, 'page_label': '46'}, page_content='108  Neoadjuvant chemotherapy 307  Incision of foot fascia \\n109  Adjuvant chemotherapy 308  calcaneum spur hydrocort injection \\n110  Induction chemotherapy 309  Ganglion wrist hyalase injection \\n111  Consolidation chemotherapy 310  Partial removal of metatarsal \\n112  Maintenance chemotherapy 311  Repair / graft of foot tendon \\n113  HDR Brachytherapy 312  Revision/Removal of Knee cap \\nPlastic Surgery 313  Amputation follow-up surgery \\n114  Construction skin pedicle flap  314  Exploration of ankle joint \\n115  Gluteal pressure ulcer-Excision 315  Remove/graft leg bone lesion \\n116  Muscle-skin graft, leg 316  Repair/graft achilles tendon \\n117  Removal of bone for graft 317  Remove of tissue expander \\n118  Muscle-skin graft duct fistula 318  Biopsy elbow joint lining \\n119  Removal cartilage graft 319  Removal of wrist prosthesis \\n120  Myocutaneous flap 320  Biopsy finger joint lining \\n121  Fibro myocutaneous flap 321  Tendon lengthening \\n122  Breast reconstruction surgery after'),\n",
       " Document(id='bd9b9f0a-6a5e-40fd-b418-64f9aecf1c7a', metadata={'producer': 'Microsoft® Word 2016', 'creator': 'Microsoft® Word 2016', 'creationdate': '2022-06-16T20:06:13+05:30', 'author': 'Vinay Dhanokar/Head Office Pune/Corporate Communication/General', 'moddate': '2022-06-16T20:06:13+05:30', 'source': 'docs/BAJHLIP23020V012223.pdf', 'total_pages': 49, 'page': 24, 'page_label': '25'}, page_content='UIN- BAJHLIP23020V012223                                 Global Health Care/ Policy Wordings/Page 25 \\n \\n \\nBajaj Allianz General Insurance Co. Ltd.                       \\nBajaj Allianz House, Airport Road, Yerawada, Pune - 411 006. Reg. No.: 113 \\nFor more details, log on to: www.bajajallianz.com | E-mail: bagichelp@bajajallianz.co.in or \\nCall at: Sales - 1800 209 0144 / Service - 1800 209 5858 (Toll Free No.) \\nIssuing Office: \\n \\nGLOBAL HEALTH CARE \\n \\n \\n15. Uterine Prolapse 16. Stones in the urinary and biliary systems \\n17. Surgery on ears/tonsils/ \\nadenoids/ paranasal sinuses \\n18. Surgery on all internal or external tumours/ cysts/ \\nnodules/polyps of any kind including breast lumps \\nwith exception of Malignant tumor or growth \\n 19. Diseases of gall bladder including cholecystitis \\n20. Pancreatitis 21. All forms of Cirrhosis \\n22. Gout and rheumatism 23. Tonsilitis \\n24. Surgery for varicose veins and \\nvaricose ulcers 25. Chronic Kidney Disease'),\n",
       " Document(id='909d1578-cc27-464b-9085-3781141943ae', metadata={'producer': 'Microsoft® Word 2016', 'creator': 'Microsoft® Word 2016', 'creationdate': '2022-06-16T20:06:13+05:30', 'author': 'Vinay Dhanokar/Head Office Pune/Corporate Communication/General', 'moddate': '2022-06-16T20:06:13+05:30', 'source': 'docs/BAJHLIP23020V012223.pdf', 'total_pages': 49, 'page': 10, 'page_label': '11'}, page_content='UIN- BAJHLIP23020V012223                                 Global Health Care/ Policy Wordings/Page 11 \\n \\n \\nBajaj Allianz General Insurance Co. Ltd.                       \\nBajaj Allianz House, Airport Road, Yerawada, Pune - 411 006. Reg. No.: 113 \\nFor more details, log on to: www.bajajallianz.com | E-mail: bagichelp@bajajallianz.co.in or \\nCall at: Sales - 1800 209 0144 / Service - 1800 209 5858 (Toll Free No.) \\nIssuing Office: \\n \\nGLOBAL HEALTH CARE \\n \\n \\n \\n3. Post-Hospitalization \\nThe Medical Expenses incurred during the 180 days immediately after You were discharged post Hospitalization \\nprovided that: Such costs are incurred in respect of the same Illness/Injury for which the earlier Hospitalization was \\nrequired, and We have accepted an Inpatient Hospitalization claim under Inpatient Hospitalization Treatment.  \\n \\n4. Local (Road) Ambulance \\nWe will pay the reasonable cost, specified in the Policy Schedule, incurred on an ambulance offered by a'),\n",
       " Document(id='7f518e8c-8f44-4259-8636-756cf9b3f7f1', metadata={'producer': 'Microsoft® Word 2016', 'creator': 'Microsoft® Word 2016', 'creationdate': '2022-06-16T20:06:13+05:30', 'author': 'Vinay Dhanokar/Head Office Pune/Corporate Communication/General', 'moddate': '2022-06-16T20:06:13+05:30', 'source': 'docs/BAJHLIP23020V012223.pdf', 'total_pages': 49, 'page': 42, 'page_label': '43'}, page_content='Office of the Insurance Ombudsman, \\n2nd Floor, Lalit Bhawan, \\nBailey Road, \\nPatna 800 001. \\nTel.: 0612-2547068 \\nEmail: bimalokpal.patna@cioins.co.in  \\nBihar, \\nJharkhand. \\nPUNE -  \\nInsurance Ombudsman \\nOffice of the Insurance Ombudsman, \\nJeevan Darshan Bldg., 3rd Floor, \\nC.T.S. No.s. 195 to 198, N.C. Kelkar Road, \\nNarayan Peth, Pune – 411 030. \\nTel.: 020-41312555 \\nEmail: bimalokpal.pune@cioins.co.in \\n Maharashtra, Areas of Navi Mumbai and Thane (excluding Mumbai \\nMetropolitan Region). \\nNote: Address and contact number of Governing Body of Insurance Council \\nExecutive Council Of Insurers, 3rd Floor, Jeevan Seva Annexe, S. V. Road, Santacruz (W), Mumbai - 400 054. \\nTel.: 022 - 69038801/03/04/05/06/07/08/09 \\nEmail: inscoun@cioins.co.in \\n \\nAnnexure I- List of Day Care Procedures \\n   ENT    General Surgery \\n1  Stapedotomy 204  Infected Keloid Excision \\n2  Myringoplasty(Type I Tympanoplasty) 205  Incision of a pilonidal sinus / abscess \\n3  Revision stapedectomy 206  Axillary lymphadenectomy'),\n",
       " Document(id='298ed46e-9e63-40e3-975a-4992bec3407e', metadata={'producer': 'Microsoft® Word 2016', 'creator': 'Microsoft® Word 2016', 'creationdate': '2022-06-16T20:06:13+05:30', 'author': 'Vinay Dhanokar/Head Office Pune/Corporate Communication/General', 'moddate': '2022-06-16T20:06:13+05:30', 'source': 'docs/BAJHLIP23020V012223.pdf', 'total_pages': 49, 'page': 19, 'page_label': '20'}, page_content='UIN- BAJHLIP23020V012223                                 Global Health Care/ Policy Wordings/Page 20 \\n \\n \\nBajaj Allianz General Insurance Co. Ltd.                       \\nBajaj Allianz House, Airport Road, Yerawada, Pune - 411 006. Reg. No.: 113 \\nFor more details, log on to: www.bajajallianz.com | E-mail: bagichelp@bajajallianz.co.in or \\nCall at: Sales - 1800 209 0144 / Service - 1800 209 5858 (Toll Free No.) \\nIssuing Office: \\n \\nGLOBAL HEALTH CARE \\n \\n \\nNote: The total Sum Insured payable under all the above covers will not exceed the In-patient Hospitalization \\nTreatment Limits \\n*The covers will be on cashless basis only. \\nOut-patient benefits \\nCOVER IMPERIAL PLAN IMPERIAL PLUS PLAN \\nMaximum out-patient plan \\nbenefit for international \\ntreatments only \\nNA \\nUSD 1,600  USD 2,400  USD 4,200 \\nOut-patient Treatment \\n(Medical Practitioner fees \\nSpecialist fees \\nDiagnostic tests \\nPrescription drugs) \\nNote: Excluding out-patient \\nDental Treatment \\nUSD 1,000 USD 1,500  USD 2,500'),\n",
       " Document(id='ed684f8c-315c-48c9-b235-40bf8967ac24', metadata={'producer': 'Microsoft® Word 2016', 'creator': 'Microsoft® Word 2016', 'creationdate': '2022-06-16T20:06:13+05:30', 'author': 'Vinay Dhanokar/Head Office Pune/Corporate Communication/General', 'moddate': '2022-06-16T20:06:13+05:30', 'source': 'docs/BAJHLIP23020V012223.pdf', 'total_pages': 49, 'page': 20, 'page_label': '21'}, page_content='UIN- BAJHLIP23020V012223                                 Global Health Care/ Policy Wordings/Page 21 \\n \\n \\nBajaj Allianz General Insurance Co. Ltd.                       \\nBajaj Allianz House, Airport Road, Yerawada, Pune - 411 006. Reg. No.: 113 \\nFor more details, log on to: www.bajajallianz.com | E-mail: bagichelp@bajajallianz.co.in or \\nCall at: Sales - 1800 209 0144 / Service - 1800 209 5858 (Toll Free No.) \\nIssuing Office: \\n \\nGLOBAL HEALTH CARE \\n \\n \\n \\n1. Any type gastrointestinal ulcers 2. Cataracts, \\n3. Any type of fistula 4. Macular Degeneration \\n5. Benign prostatic hypertrophy 6. Hernia of all types \\n7. All types of sinuses 8. Fissure in ano \\n9. Haemorrhoids, piles 10. Hydrocele \\n11. Dysfunctional uterine bleeding 12. Fibromyoma \\n13. Endometriosis 14. Hysterectomy \\n15. Uterine Prolapse 16. Stones in the urinary and biliary systems \\n17. Surgery on ears/tonsils/ \\nadenoids/ paranasal sinuses \\n18. Surgery on all internal or external tumours/ cysts/'),\n",
       " Document(id='09e4cb5a-7d52-47b0-86d3-f18c099bc6bc', metadata={'producer': 'Microsoft® Word 2016', 'creator': 'Microsoft® Word 2016', 'creationdate': '2022-06-16T20:06:13+05:30', 'author': 'Vinay Dhanokar/Head Office Pune/Corporate Communication/General', 'moddate': '2022-06-16T20:06:13+05:30', 'source': 'docs/BAJHLIP23020V012223.pdf', 'total_pages': 49, 'page': 24, 'page_label': '25'}, page_content='20. Pancreatitis 21. All forms of Cirrhosis \\n22. Gout and rheumatism 23. Tonsilitis \\n24. Surgery for varicose veins and \\nvaricose ulcers 25. Chronic Kidney Disease \\n26. Alzheimer’s Disease 27. Joint replacement surgery \\n28. Surgery for vertebral column \\ndisorders  (unless necessitated due \\nto an Accident) \\n29. Surgery to correct deviated nasal septum \\n30. Hypertrophied turbinate 31. Congenital internal diseases or anomalies \\n32. Treatment for correction of eye \\nsight due to refractive error \\nrecommended by Ophthalmologist \\nfor medical reasons with refractive \\nerror greater or equal to 7.5 \\n33. Bariatric Surgery \\n34. Parkinson’s Disease 35. Genetic disorders \\n \\n3) 30-day waiting period (Code-Excl03) \\na. Expenses related to the treatment of any Illness within 30 days from the first Policy commencement date shall \\nbe excluded except claims arising due to an Accident, provided the same are covered.'),\n",
       " Document(id='b8c1b103-275c-43b2-b25f-fe33cabb0789', metadata={'producer': 'Microsoft® Word 2016', 'creator': 'Microsoft® Word 2016', 'creationdate': '2022-06-16T20:06:13+05:30', 'author': 'Vinay Dhanokar/Head Office Pune/Corporate Communication/General', 'moddate': '2022-06-16T20:06:13+05:30', 'source': 'docs/BAJHLIP23020V012223.pdf', 'total_pages': 49, 'page': 27, 'page_label': '28'}, page_content='UIN- BAJHLIP23020V012223                                 Global Health Care/ Policy Wordings/Page 28 \\n \\n \\nBajaj Allianz General Insurance Co. Ltd.                       \\nBajaj Allianz House, Airport Road, Yerawada, Pune - 411 006. Reg. No.: 113 \\nFor more details, log on to: www.bajajallianz.com | E-mail: bagichelp@bajajallianz.co.in or \\nCall at: Sales - 1800 209 0144 / Service - 1800 209 5858 (Toll Free No.) \\nIssuing Office: \\n \\nGLOBAL HEALTH CARE \\n \\n \\n\\uf0b7 Preventive treatment  \\n\\uf0b7 Routine maternity, Routine Delivery and newborn care and Complications of childbirth \\n\\uf0b7 Travel costs of Insured family members in the event of an evacuation/repatriation \\n\\uf0b7 Travel costs of Insured family members in the event of the repatriation of mortal remains \\n\\uf0b7 Travel costs of Insured members to be with a family member who is at peril of death or who has died  \\n\\uf0b7 Vaccinations \\n31) Air Ambulance + Medical Evacuation (Applicable to Imperial Plus Plan only)'),\n",
       " Document(id='8d64b4fd-1bf1-4555-b557-e56d1246f617', metadata={'producer': 'Microsoft® Word 2016', 'creator': 'Microsoft® Word 2016', 'creationdate': '2022-06-16T20:06:13+05:30', 'author': 'Vinay Dhanokar/Head Office Pune/Corporate Communication/General', 'moddate': '2022-06-16T20:06:13+05:30', 'source': 'docs/BAJHLIP23020V012223.pdf', 'total_pages': 49, 'page': 23, 'page_label': '24'}, page_content='UIN- BAJHLIP23020V012223                                 Global Health Care/ Policy Wordings/Page 24 \\n \\n \\nBajaj Allianz General Insurance Co. Ltd.                       \\nBajaj Allianz House, Airport Road, Yerawada, Pune - 411 006. Reg. No.: 113 \\nFor more details, log on to: www.bajajallianz.com | E-mail: bagichelp@bajajallianz.co.in or \\nCall at: Sales - 1800 209 0144 / Service - 1800 209 5858 (Toll Free No.) \\nIssuing Office: \\n \\nGLOBAL HEALTH CARE \\n \\n \\n\\uf0b7 Out-patient treatment  \\n\\uf0b7 Prescribed medical aids  \\n\\uf0b7 Preventive treatment  \\n\\uf0b7 Travel costs of Insured family members in the event of an evacuation/repatriation \\n\\uf0b7 Travel costs of Insured family members in the event of the repatriation of mortal remains \\n\\uf0b7 Travel costs of Insured members to be with a family member who is at peril of death or who has died  \\n29) Exclusions applicable to Mental Illness Treatment: \\na. Any expenses for Mental Illness Treatment related to Alcoholism, drug or substance abuse or any addictive'),\n",
       " Document(id='231f9791-8f8c-42ee-873f-2e964f348501', metadata={'producer': 'Microsoft® Word 2016', 'creator': 'Microsoft® Word 2016', 'creationdate': '2022-06-16T20:06:13+05:30', 'author': 'Vinay Dhanokar/Head Office Pune/Corporate Communication/General', 'moddate': '2022-06-16T20:06:13+05:30', 'source': 'docs/BAJHLIP23020V012223.pdf', 'total_pages': 49, 'page': 44, 'page_label': '45'}, page_content='UIN- BAJHLIP23020V012223                                 Global Health Care/ Policy Wordings/Page 45 \\n \\n \\nBajaj Allianz General Insurance Co. Ltd.                       \\nBajaj Allianz House, Airport Road, Yerawada, Pune - 411 006. Reg. No.: 113 \\nFor more details, log on to: www.bajajallianz.com | E-mail: bagichelp@bajajallianz.co.in or \\nCall at: Sales - 1800 209 0144 / Service - 1800 209 5858 (Toll Free No.) \\nIssuing Office: \\n \\nGLOBAL HEALTH CARE \\n \\n \\n60  Removal of foreign body from the posterior \\nchamber of the eye 259  Intersphincteric abscess incision and drainage \\nOncology 260  Psoas Abscess Incision and Drainage \\n61  IV Push Chemotherapy 261  Thyroid abscess Incision and Drainage \\n62  HBI-Hemibody Radiotherapy 262   TIPS procedure for  portal hypertension \\n63  Infusional Targeted therapy 263  Esophageal  Growth stent  \\n64  SRT-Stereotactic Arc Therapy 264  PAIR Procedure of Hydatid Cyst liver  \\n65  SC administration of  Growth Factors 265  Tru cut liver biopsy'),\n",
       " Document(id='81d15785-e698-432e-9e46-e9ee3e5736f5', metadata={'producer': 'Microsoft® Word 2016', 'creator': 'Microsoft® Word 2016', 'creationdate': '2022-06-16T20:06:13+05:30', 'author': 'Vinay Dhanokar/Head Office Pune/Corporate Communication/General', 'moddate': '2022-06-16T20:06:13+05:30', 'source': 'docs/BAJHLIP23020V012223.pdf', 'total_pages': 49, 'page': 13, 'page_label': '14'}, page_content='UIN- BAJHLIP23020V012223                                 Global Health Care/ Policy Wordings/Page 14 \\n \\n \\nBajaj Allianz General Insurance Co. Ltd.                       \\nBajaj Allianz House, Airport Road, Yerawada, Pune - 411 006. Reg. No.: 113 \\nFor more details, log on to: www.bajajallianz.com | E-mail: bagichelp@bajajallianz.co.in or \\nCall at: Sales - 1800 209 0144 / Service - 1800 209 5858 (Toll Free No.) \\nIssuing Office: \\n \\nGLOBAL HEALTH CARE \\n \\n \\n \\n2. Pre-Hospitalization \\nThe Medical Expenses incurred during the 45 days immediately before You were Hospitalized, provided that: Such \\nMedical Expenses were incurred for the same Illness/Injury for which subsequent Hospitalization was required, and \\nWe have accepted an Inpatient Hospitalization claim under Inpatient Hospitalization Treatment.). \\n \\nThis cover is subject to the Sum Insured, sub-limits, terms, conditions and definitions, exclusions contained or \\notherwise expressed in this Policy. \\n \\n3. Post-Hospitalization'),\n",
       " Document(id='d685f37b-34f3-4c91-9198-9c5c9992a010', metadata={'producer': 'Microsoft® Word 2016', 'creator': 'Microsoft® Word 2016', 'creationdate': '2022-06-16T20:06:13+05:30', 'author': 'Vinay Dhanokar/Head Office Pune/Corporate Communication/General', 'moddate': '2022-06-16T20:06:13+05:30', 'source': 'docs/BAJHLIP23020V012223.pdf', 'total_pages': 49, 'page': 12, 'page_label': '13'}, page_content='UIN- BAJHLIP23020V012223                                 Global Health Care/ Policy Wordings/Page 13 \\n \\n \\nBajaj Allianz General Insurance Co. Ltd.                       \\nBajaj Allianz House, Airport Road, Yerawada, Pune - 411 006. Reg. No.: 113 \\nFor more details, log on to: www.bajajallianz.com | E-mail: bagichelp@bajajallianz.co.in or \\nCall at: Sales - 1800 209 0144 / Service - 1800 209 5858 (Toll Free No.) \\nIssuing Office: \\n \\nGLOBAL HEALTH CARE \\n \\n \\n \\nTABLE OF BENEFITS FOR DOMESTIC COVER \\nCOVER IMPERIAL PLAN IMPERIAL PLUS PLAN \\nIn-patient Hospitalization \\nTreatment Limits \\nINR \\n3,750,000   \\nINR \\n5,600,000  \\nINR \\n7,500,000  \\nINR  \\n11,200,000  \\nINR \\n18,750,000  \\nINR \\n37,500,000  \\nIn-patient Hospitalization \\nTreatment Up to Sum Insured \\nHospital accommodation  \\n(Room rent and ICU) At Actual \\nPre-hospitalisation 60 days \\nPost-hospitalisation 180 days \\nLocal (Road) Ambulance Up to Sum Insured \\nDay Care Procedures Up to Sum Insured \\nLiving Donor Medical Costs INR 500,000'),\n",
       " Document(id='fb4bb6e5-df62-4604-b3ae-cafd30d6fd21', metadata={'producer': 'Microsoft® Word 2016', 'creator': 'Microsoft® Word 2016', 'creationdate': '2022-06-16T20:06:13+05:30', 'author': 'Vinay Dhanokar/Head Office Pune/Corporate Communication/General', 'moddate': '2022-06-16T20:06:13+05:30', 'source': 'docs/BAJHLIP23020V012223.pdf', 'total_pages': 49, 'page': 16, 'page_label': '17'}, page_content='UIN- BAJHLIP23020V012223                                 Global Health Care/ Policy Wordings/Page 17 \\n \\n \\nBajaj Allianz General Insurance Co. Ltd.                       \\nBajaj Allianz House, Airport Road, Yerawada, Pune - 411 006. Reg. No.: 113 \\nFor more details, log on to: www.bajajallianz.com | E-mail: bagichelp@bajajallianz.co.in or \\nCall at: Sales - 1800 209 0144 / Service - 1800 209 5858 (Toll Free No.) \\nIssuing Office: \\n \\nGLOBAL HEALTH CARE \\n \\n \\nIf You contract any Illness/ sustain any Injury which necessitates Hospitalization, We will pay reasonable and \\ncustomary expenses up to the limits specified in the Policy Schedule, if You choose to be medically  repatriated to  \\nYour home country for treatment, instead of to the nearest appropriate medical centre, provided that: \\na.  Your home country is within  Your geographical area of cover \\nb. Where ongoing treatment is required, We will cover hotel accommodation costs'),\n",
       " Document(id='1a68d12a-f9d5-4e53-a516-21ce54cc46c0', metadata={'producer': 'Microsoft® Word 2016', 'creator': 'Microsoft® Word 2016', 'creationdate': '2022-06-16T20:06:13+05:30', 'author': 'Vinay Dhanokar/Head Office Pune/Corporate Communication/General', 'moddate': '2022-06-16T20:06:13+05:30', 'source': 'docs/BAJHLIP23020V012223.pdf', 'total_pages': 49, 'page': 9, 'page_label': '10'}, page_content='UIN- BAJHLIP23020V012223                                 Global Health Care/ Policy Wordings/Page 10 \\n \\n \\nBajaj Allianz General Insurance Co. Ltd.                       \\nBajaj Allianz House, Airport Road, Yerawada, Pune - 411 006. Reg. No.: 113 \\nFor more details, log on to: www.bajajallianz.com | E-mail: bagichelp@bajajallianz.co.in or \\nCall at: Sales - 1800 209 0144 / Service - 1800 209 5858 (Toll Free No.) \\nIssuing Office: \\n \\nGLOBAL HEALTH CARE \\n \\n \\n \\n49. Sum Insured or SI means the amount stated in the Policy Schedule against each relevant Section, which shall be \\nthe Company’s maximum liability under this Policy (regardless of the  number of the amount of Claims made) for \\nany one Claim and in the aggregate for all Claims under such Section. \\n \\n50. Surgical appliances and materials:- \\nSurgical appliances and materials are those required for surgeries. They include artificial body parts or devices')]"
      ]
     },
     "execution_count": 9,
     "metadata": {},
     "output_type": "execute_result"
    }
   ],
   "source": [
    "docs"
   ]
  },
  {
   "cell_type": "code",
   "execution_count": 8,
   "id": "eda85286",
   "metadata": {},
   "outputs": [],
   "source": [
    "# Retrieve, Log and format the chunks\n",
    "logged_retriever = retriever | RunnableLambda(log_chunks) | format_docs"
   ]
  },
  {
   "cell_type": "code",
   "execution_count": 9,
   "id": "3b3a3c7d",
   "metadata": {},
   "outputs": [],
   "source": [
    "# Add history using memory\n",
    "session_histories = {}\n",
    "\n",
    "def get_session_history(session_id: str):\n",
    "    if session_id not in session_histories:\n",
    "        session_histories[session_id] = InMemoryChatMessageHistory()\n",
    "    return session_histories[session_id]"
   ]
  },
  {
   "cell_type": "code",
   "execution_count": 10,
   "id": "0662434d",
   "metadata": {},
   "outputs": [],
   "source": [
    "# Extract question and history to pass to retriever and prompt\n",
    "def input_mapper(input):\n",
    "    return {\n",
    "        \"context\": logged_retriever.invoke(input[\"question\"]),\n",
    "        \"question\": input[\"question\"],\n",
    "        \"history\": input[\"history\"]\n",
    "    }"
   ]
  },
  {
   "cell_type": "code",
   "execution_count": 11,
   "id": "46b49bac",
   "metadata": {},
   "outputs": [],
   "source": [
    "# Chain\n",
    "rag_chain = (\n",
    "    RunnableLambda(input_mapper)\n",
    "    | CHAT_HISTORY_PROMPT\n",
    "    | llm\n",
    "    | StrOutputParser()\n",
    ")\n",
    "\n",
    "rag_with_history = RunnableWithMessageHistory(\n",
    "    runnable=rag_chain,\n",
    "    get_session_history=get_session_history,\n",
    "    input_messages_key=\"question\",\n",
    "    history_messages_key=\"history\",\n",
    "    output_messages_key=\"output\"\n",
    ")"
   ]
  },
  {
   "cell_type": "code",
   "execution_count": null,
   "id": "7566c5ce",
   "metadata": {},
   "outputs": [],
   "source": [
    "session_id = \"user-1234\" # Some unique identifier per user/session\n",
    "\n",
    "# Question\n",
    "# rag_with_history.invoke({\"question\": \"what is the minimum and maximum In-patient Hospitalization Treatment Limits for Imperial plus plan?\"}, \n",
    "#                         config={\"configurable\": {\"session_id\": session_id}})\n",
    "rag_with_history.invoke({\"question\": \"what was the last question i asked?\"}, \n",
    "                        config={\"configurable\": {\"session_id\": session_id}})\n",
    "# rag_with_history.invoke(\"46-year-old male, knee surgery in Pune, 3-month-old insurance policy\")\n",
    "# rag_with_history.invoke(\"knee surgery?\")"
   ]
  }
 ],
 "metadata": {
  "kernelspec": {
   "display_name": "venv (3.10.1)",
   "language": "python",
   "name": "python3"
  },
  "language_info": {
   "codemirror_mode": {
    "name": "ipython",
    "version": 3
   },
   "file_extension": ".py",
   "mimetype": "text/x-python",
   "name": "python",
   "nbconvert_exporter": "python",
   "pygments_lexer": "ipython3",
   "version": "3.10.1"
  }
 },
 "nbformat": 4,
 "nbformat_minor": 5
}
