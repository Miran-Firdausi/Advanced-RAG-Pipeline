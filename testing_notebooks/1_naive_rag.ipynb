{
 "cells": [
  {
   "cell_type": "markdown",
   "id": "c872ae70",
   "metadata": {},
   "source": [
    "## Naive RAG\n",
    "- Upload Documents -> Create Vector Store\n",
    "- User Query -> Retrieve relevent Chunks -> Inject in Prompt -> Generate Answer"
   ]
  },
  {
   "cell_type": "code",
   "execution_count": 6,
   "id": "b15f8ccf",
   "metadata": {},
   "outputs": [],
   "source": [
    "from dotenv import load_dotenv\n",
    "from langchain import hub\n",
    "from langchain_community.vectorstores import FAISS\n",
    "from langchain_huggingface import HuggingFaceEmbeddings\n",
    "from langchain_google_genai import ChatGoogleGenerativeAI\n",
    "from langchain_core.output_parsers import StrOutputParser\n",
    "from langchain_core.runnables import RunnableLambda, RunnablePassthrough\n",
    "from langchain_text_splitters import RecursiveCharacterTextSplitter\n",
    "\n",
    "import sys\n",
    "import os\n",
    "sys.path.insert(0, os.path.abspath('..'))\n",
    "\n",
    "from utilities.file_utils import load_pdf_using_PyPDF\n",
    "from utilities.text_utils import format_docs, log_chunks"
   ]
  },
  {
   "cell_type": "code",
   "execution_count": 10,
   "id": "181ba823",
   "metadata": {},
   "outputs": [],
   "source": [
    "file_path = \"../docs/042f627c5d8f619cf62cc21f864b08dfd59059d0b9aab805d132e0014489d625.pdf\"\n",
    "pages = await load_pdf_using_PyPDF(file_path) # Average time with PyPDF: 2.5s"
   ]
  },
  {
   "cell_type": "code",
   "execution_count": 11,
   "id": "6a683d0e",
   "metadata": {},
   "outputs": [],
   "source": [
    "# Splitting into chunks\n",
    "text_splitter = RecursiveCharacterTextSplitter(chunk_size=1000, chunk_overlap=200)\n",
    "splits = text_splitter.split_documents(pages)"
   ]
  },
  {
   "cell_type": "code",
   "execution_count": 12,
   "id": "ec5a8832",
   "metadata": {},
   "outputs": [
    {
     "name": "stderr",
     "output_type": "stream",
     "text": [
      "e:\\Programming-Projects\\Hackathon\\hackrx6\\venv\\lib\\site-packages\\tqdm\\auto.py:21: TqdmWarning: IProgress not found. Please update jupyter and ipywidgets. See https://ipywidgets.readthedocs.io/en/stable/user_install.html\n",
      "  from .autonotebook import tqdm as notebook_tqdm\n"
     ]
    }
   ],
   "source": [
    "# Embeddings\n",
    "all_mini_embeddings = HuggingFaceEmbeddings(model_name=\"all-MiniLM-L6-v2\")\n",
    "bge_embeddings = HuggingFaceEmbeddings(model_name=\"BAAI/bge-small-en-v1.5\")\n",
    "\n",
    "embeddings = bge_embeddings"
   ]
  },
  {
   "cell_type": "code",
   "execution_count": 5,
   "id": "3f40b177",
   "metadata": {},
   "outputs": [],
   "source": [
    "# Creating Vector Store\n",
    "vector_store = FAISS.from_documents(splits, embedding=embeddings)"
   ]
  },
  {
   "cell_type": "code",
   "execution_count": null,
   "id": "66e4bbc9",
   "metadata": {},
   "outputs": [],
   "source": [
    "# Store the vector DB locally to save processing time\n",
    "vector_store.save_local(\"../vector_store/042f627c5d8f619cf62cc21f864b08dfd59059d0b9aab805d132e0014489d625\")"
   ]
  },
  {
   "cell_type": "code",
   "execution_count": null,
   "id": "6b625cf3",
   "metadata": {},
   "outputs": [],
   "source": [
    "# Load the saved vector store\n",
    "vector_store = FAISS.load_local(\"../vector_store/042f627c5d8f619cf62cc21f864b08dfd59059d0b9aab805d132e0014489d625\", embeddings, allow_dangerous_deserialization=True)"
   ]
  },
  {
   "cell_type": "code",
   "execution_count": 8,
   "id": "be60abf3",
   "metadata": {},
   "outputs": [],
   "source": [
    "retriever = vector_store.as_retriever()"
   ]
  },
  {
   "cell_type": "code",
   "execution_count": 9,
   "id": "0afe9e19",
   "metadata": {},
   "outputs": [],
   "source": [
    "load_dotenv()\n",
    "\n",
    "llm = ChatGoogleGenerativeAI(\n",
    "    model=\"gemini-2.0-flash\",\n",
    "    temperature=0,\n",
    "    max_tokens=None,\n",
    "    timeout=None,\n",
    "    max_retries=2,\n",
    ")"
   ]
  },
  {
   "cell_type": "code",
   "execution_count": 10,
   "id": "68ee9e64",
   "metadata": {},
   "outputs": [],
   "source": [
    "# Retrieve, Log and format the chunks\n",
    "logged_retriever = retriever | RunnableLambda(log_chunks) | format_docs"
   ]
  },
  {
   "cell_type": "code",
   "execution_count": null,
   "id": "f15b960d",
   "metadata": {},
   "outputs": [
    {
     "name": "stdout",
     "output_type": "stream",
     "text": [
      "\n",
      "Retrieved Chunks:\n",
      "Inpatient treatment free of charge for a medical condition that is covered by Us. \n",
      "This benefit is payable after You are discharged from Hospital. \n",
      "This cover is subject to the Sum Insured, sub-limits, terms, conditions and definitions, exclusions contained or \n",
      "otherwise expressed in this Policy. \n",
      " \n",
      "16. Palliative care (Applicable to Imperial Plus Plan only) \n",
      "We will pay the Reasonable and Customary expenses incurred, up to the limit specified in the Policy Schedule, on \n",
      "diagnosis of a Terminal Illness, for any ongoing treatment, given on the advice of a Medical Practitioner, that aims \n",
      "to alleviate the physical/psychological suffering associated with progressive, incurable Illness and to maintain \n",
      "quality of life. It includes Inpatient, day-care and out-patient treatment. We will pay for physical care, psychological \n",
      "care, Hospital or hospice accommodation, nursing care and prescription drugs.\n",
      "---\n",
      "Treatment Limits \n",
      "USD \n",
      "100,000 \n",
      "USD \n",
      "150,000 \n",
      "USD \n",
      "200,000 \n",
      "USD \n",
      "300,000 \n",
      "USD  \n",
      "500,000 \n",
      "USD \n",
      "1,000,000 \n",
      "Deductible options 0 / USD 500 / USD 1,000 \n",
      "(on annual aggregate basis) \n",
      "In-patient benefits \n",
      "Hospital accommodation \n",
      "(Room rent) Single Private Air Conditioned Room \n",
      "Hospital accommodation \n",
      "(ICU) At Actual \n",
      "Pre-hospitalization 45 days \n",
      "Post-hospitalization 90 days \n",
      "Local (Road) Ambulance Up to Sum Insured \n",
      "Day Care Procedures Up to Sum Insured \n",
      "Living donor medical costs USD 30,000 USD 50,000 \n",
      "Air Ambulance* USD 7,500 NA NA NA \n",
      "Air Ambulance + Medical \n",
      "Evacuation* NA \n",
      "Up to In-\n",
      "patient Sum \n",
      "Insured \n",
      "Up to In-\n",
      "patient Sum \n",
      "Insured \n",
      "Up to In-\n",
      "patient Sum \n",
      "Insured \n",
      "Mental Illness Treatment Up To Sum Insured  \n",
      "Rehabilitation USD 750 USD 2,300 \n",
      "Accommodation costs for \n",
      "one parent staying in \n",
      "Hospital with an Insured \n",
      "child under 18 years of age \n",
      "NA Up to Sum Insured \n",
      "Emergency treatment \n",
      "outside area of cover NA Up to Sum Insured for maximum 6 Weeks \n",
      "per trip\n",
      "---\n",
      "Hospital for eligible treatment under Section C, Part B.1-Inpatient Hospitalization Treatment, up to the limit \n",
      "specified in the Policy Schedule. If a suitable bed is not available in the Hospital, We will contribute the equivalent \n",
      "of the daily room rate in a three-star hotel towards any hotel costs incurred. \n",
      "This benefit would be applicable for the duration of Hospitalization of the Insured child. \n",
      "The Policy will not cover sundry expenses such as meals, phone calls or newspapers. \n",
      "This cover is subject to the Sum Insured, sub-limits, terms, conditions and definitions, exclusions contained or \n",
      "otherwise expressed in this Policy. \n",
      " \n",
      "12. Emergency treatment outside area of cover (Applicable to Imperial Plus Plan only if “Excluding USA” cover \n",
      "is opted) \n",
      "We will pay the Customary and Reasonable expenses, up to the limit specified in the Policy Schedule, incurred for \n",
      "treatment of medical emergencies which occur during business or holiday trips outside Your area of cover. Cover is\n",
      "---\n",
      "i. If the treatment received is subsequently proven to be medically unnecessary, We reserve the right to \n",
      "decline Your claim in accordance with the policy terms and conditions \n",
      "ii. If the treatment is subsequently proven to be medically necessary, we will process the claim basis on \n",
      "reasonable and customary expenses up to 80% of the coverage, subject to the policy terms and conditions. \n",
      "List of coverage which require prior approval are as below. \n",
      "i. In-patient Hospitalization Treatment (Section C, Part B,I-1) \n",
      "ii. Day Care Procedures (Section C, Part B,I-5) \n",
      "iii. Living Donor Medical Costs (Section C, Part B,I-6) \n",
      "iv. Mental Illness Treatment (Section C, Part B,I-9) \n",
      "v. Accommodation costs for one parent staying in Hospital with an Insured child under 18 years of age \n",
      "(Applicable to Imperial Plus Plan only) (Section C, Part B,I-11) \n",
      "vi. Palliative care (Applicable to Imperial Plus Plan only) (Section C, Part B,I-16) \n",
      "Claiming for Your out-patient, dental and other expenses\n"
     ]
    },
    {
     "data": {
      "text/plain": [
       "'The minimum In-patient Hospitalization Treatment Limit for the Imperial Plus plan is USD 100,000. The maximum limit can be up to the In-patient Sum Insured. The policy schedule specifies the exact limit.'"
      ]
     },
     "execution_count": 11,
     "metadata": {},
     "output_type": "execute_result"
    }
   ],
   "source": [
    "prompt = hub.pull(\"rlm/rag-prompt\")\n",
    "\n",
    "# Chain\n",
    "rag_chain = (\n",
    "    {\"context\": logged_retriever, \"question\": RunnablePassthrough()}\n",
    "    | prompt\n",
    "    | llm\n",
    "    | StrOutputParser()\n",
    ")\n",
    "\n",
    "# Question\n",
    "rag_chain.invoke(\"what is the minimum and maximum In-patient Hospitalization Treatment Limits for Imperial plus plan?\")\n",
    "# rag_chain.invoke(\"what was the last question i asked?\") # No Memory of last question\n",
    "# rag_chain.invoke(\"46-year-old male, knee surgery in Pune, 3-month-old insurance policy\")\n",
    "# rag_chain.invoke(\"knee surgery?\")"
   ]
  },
  {
   "cell_type": "code",
   "execution_count": null,
   "id": "880d2e28",
   "metadata": {},
   "outputs": [],
   "source": []
  }
 ],
 "metadata": {
  "kernelspec": {
   "display_name": "venv (3.10.1)",
   "language": "python",
   "name": "python3"
  },
  "language_info": {
   "codemirror_mode": {
    "name": "ipython",
    "version": 3
   },
   "file_extension": ".py",
   "mimetype": "text/x-python",
   "name": "python",
   "nbconvert_exporter": "python",
   "pygments_lexer": "ipython3",
   "version": "3.10.1"
  }
 },
 "nbformat": 4,
 "nbformat_minor": 5
}
