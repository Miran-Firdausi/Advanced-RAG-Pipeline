{
 "cells": [
  {
   "cell_type": "code",
   "execution_count": 3,
   "id": "80c28871",
   "metadata": {},
   "outputs": [
    {
     "name": "stdout",
     "output_type": "stream",
     "text": [
      "Note: you may need to restart the kernel to use updated packages.\n"
     ]
    },
    {
     "name": "stderr",
     "output_type": "stream",
     "text": [
      "WARNING: You are using pip version 21.2.4; however, version 25.1.1 is available.\n",
      "You should consider upgrading via the 'e:\\Programming-Projects\\Hackathon\\hackrx6\\venv\\Scripts\\python.exe -m pip install --upgrade pip' command.\n"
     ]
    }
   ],
   "source": [
    "%pip install -qU pypdf"
   ]
  },
  {
   "cell_type": "code",
   "execution_count": 1,
   "id": "b15f8ccf",
   "metadata": {},
   "outputs": [],
   "source": [
    "from dotenv import load_dotenv\n",
    "from langchain import hub\n",
    "from langchain_community.vectorstores import FAISS\n",
    "from langchain_huggingface import HuggingFaceEmbeddings\n",
    "from langchain_google_genai import ChatGoogleGenerativeAI\n",
    "from langchain_core.output_parsers import StrOutputParser\n",
    "from langchain_core.runnables import RunnableLambda, RunnablePassthrough\n",
    "from langchain_text_splitters import RecursiveCharacterTextSplitter\n",
    "\n",
    "from utilities.pdf_utils import load_pdf_using_PyPDF\n",
    "from utilities.text_utils import format_docs, log_chunks"
   ]
  },
  {
   "cell_type": "code",
   "execution_count": 2,
   "id": "181ba823",
   "metadata": {},
   "outputs": [],
   "source": [
    "file_path = \"docs/BAJHLIP23020V012223.pdf\"\n",
    "pages = await load_pdf_using_PyPDF(file_path) # Average time with PyPDF: 2.5s"
   ]
  },
  {
   "cell_type": "code",
   "execution_count": 3,
   "id": "6a683d0e",
   "metadata": {},
   "outputs": [],
   "source": [
    "# Splitting into chunks\n",
    "text_splitter = RecursiveCharacterTextSplitter(chunk_size=1000, chunk_overlap=200)\n",
    "splits = text_splitter.split_documents(pages)"
   ]
  },
  {
   "cell_type": "code",
   "execution_count": 4,
   "id": "ec5a8832",
   "metadata": {},
   "outputs": [
    {
     "name": "stderr",
     "output_type": "stream",
     "text": [
      "e:\\Programming-Projects\\Hackathon\\hackrx6\\venv\\lib\\site-packages\\tqdm\\auto.py:21: TqdmWarning: IProgress not found. Please update jupyter and ipywidgets. See https://ipywidgets.readthedocs.io/en/stable/user_install.html\n",
      "  from .autonotebook import tqdm as notebook_tqdm\n"
     ]
    }
   ],
   "source": [
    "# Embeddings\n",
    "all_mini_embeddings = HuggingFaceEmbeddings(model_name=\"all-MiniLM-L6-v2\")\n",
    "bge_embeddings = HuggingFaceEmbeddings(model_name=\"BAAI/bge-small-en-v1.5\")\n",
    "\n",
    "embeddings = bge_embeddings"
   ]
  },
  {
   "cell_type": "code",
   "execution_count": 11,
   "id": "3f40b177",
   "metadata": {},
   "outputs": [],
   "source": [
    "# Creating Vector Store\n",
    "vector_store = FAISS.from_documents(splits, embedding=embeddings)"
   ]
  },
  {
   "cell_type": "code",
   "execution_count": null,
   "id": "66e4bbc9",
   "metadata": {},
   "outputs": [],
   "source": [
    "# Store the vector DB locally to save processing time\n",
    "vector_store.save_local(\"vector_store/faiss_index_bajaj\")"
   ]
  },
  {
   "cell_type": "code",
   "execution_count": 5,
   "id": "6b625cf3",
   "metadata": {},
   "outputs": [],
   "source": [
    "# Load the saved vector store\n",
    "vector_store = FAISS.load_local(\"vector_store/faiss_index_bajaj\", embeddings, allow_dangerous_deserialization=True)"
   ]
  },
  {
   "cell_type": "code",
   "execution_count": 6,
   "id": "be60abf3",
   "metadata": {},
   "outputs": [],
   "source": [
    "retriever = vector_store.as_retriever()"
   ]
  },
  {
   "cell_type": "code",
   "execution_count": 7,
   "id": "0afe9e19",
   "metadata": {},
   "outputs": [],
   "source": [
    "load_dotenv()\n",
    "\n",
    "llm = ChatGoogleGenerativeAI(\n",
    "    model=\"gemini-2.0-flash\",\n",
    "    temperature=0,\n",
    "    max_tokens=None,\n",
    "    timeout=None,\n",
    "    max_retries=2,\n",
    ")"
   ]
  },
  {
   "cell_type": "code",
   "execution_count": 8,
   "id": "68ee9e64",
   "metadata": {},
   "outputs": [],
   "source": [
    "# Retrieve, Log and format the chunks\n",
    "logged_retriever = retriever | RunnableLambda(log_chunks) | format_docs"
   ]
  },
  {
   "cell_type": "code",
   "execution_count": null,
   "id": "f15b960d",
   "metadata": {},
   "outputs": [
    {
     "name": "stdout",
     "output_type": "stream",
     "text": [
      "\n",
      "Retrieved Chunks:\n",
      "Policy Period. \n",
      "iv. At the end of the Policy Period, the Policy shall terminate and can be renewed within the Grace Period of 30 \n",
      "days to maintain continuity of benefits without break in Policy. Coverage is not available during the grace \n",
      "period. \n",
      "v. No loading shall apply on renewals based on individual claims experience \n",
      " \n",
      "11. Withdrawal of Policy \n",
      "i. In the likelihood of this product being withdrawn in future, the Company will intimate the insured person about \n",
      "the same 90 days prior to expiry of the Policy. \n",
      "ii. Insured Person will have the option to migrate to similar health insurance product available with the Company at \n",
      "the time of renewal with all the accrued continuity benefits such as cumulative bonus, waiver of waiting period \n",
      "as per IRDAI guidelines, provided the Policy has been maintained without a break. \n",
      " \n",
      "12. Moratorium Period \n",
      "After completion of eight continuous years under this Policy no look back to be applied. This period of eight years is\n",
      "---\n",
      "only through any one of his/her natural guardian or guardian appointed by court. All relevant particulars in respect of \n",
      "such person (including his/her relationship with the insured person) must be submitted to the Company along with \n",
      "the application. Provided no claim has been made, and termination takes place on account of death of the Insured, \n",
      "pro-rata refund of premium of the deceased Insured for the balance period of the Policy will be effective.  \n",
      "2. Upon exhaustion of Sum Insured and cumulative bonus, for the Policy year. However, the Policy is subject \n",
      "to renewal on the due date as per the applicable terms and conditions.  \n",
      " \n",
      "21. Territorial Jurisdiction  \n",
      "All disputes or differences under or in relation to the interpretation of the terms, conditions, validity, construct, \n",
      "limitations and/or exclusions contained in the Policy shall be determined by the Indian court and according to Indian \n",
      "law.  \n",
      " \n",
      "22. Notice & Communication\n",
      "---\n",
      "In case of renewal policies, period is risk “Exceeding 15 days but less than 3 months” should be read as “within 3 \n",
      "months”. \n",
      "Notwithstanding anything contained herein or otherwise, no refunds of premium shall be made in respect of \n",
      "Cancellation where, any claim has been admitted or has been lodged or any benefit has been availed by the \n",
      "insured person under the Policy. \n",
      " \n",
      "The Company may cancel the Policy at any time on grounds of misrepresentation non-disclosure of material facts, \n",
      "fraud by the insured person by giving 15 days’ written notice. There would be no refund of premium on cancellation \n",
      "on grounds of misrepresentation, non-disclosure of material facts or fraud.\n",
      "---\n",
      "shall be evidenced by a written endorsement signed and stamped.  \n",
      "ii. The Policyholder may be changed only at the time of renewal. The new Policyholder must be the \n",
      "legal heir/immediate family member of Policyholder. Such change would be subject to acceptance by \n",
      "the Company and payment of premium (if any). The renewed Policy shall be treated as having been \n",
      "renewed without break.  \n",
      "iii. The Policyholder may be changed during the Policy Period only in case of his/her demise or him/her \n",
      "moving out of India.  \n",
      " \n",
      "33. Terms and conditions of the Policy  \n",
      "The terms and conditions contained herein and in the Policy Schedule shall be deemed to form part of the \n",
      "Policy and shall be read together as one document.\n"
     ]
    },
    {
     "data": {
      "text/plain": [
       "\"I'm sorry, but the context provided does not contain information about your previous questions. Therefore, I am unable to answer your question.\""
      ]
     },
     "execution_count": 10,
     "metadata": {},
     "output_type": "execute_result"
    }
   ],
   "source": [
    "prompt = hub.pull(\"rlm/rag-prompt\")\n",
    "\n",
    "# Chain\n",
    "rag_chain = (\n",
    "    {\"context\": logged_retriever, \"question\": RunnablePassthrough()}\n",
    "    | prompt\n",
    "    | llm\n",
    "    | StrOutputParser()\n",
    ")\n",
    "\n",
    "# Question\n",
    "# rag_chain.invoke(\"what is the minimum and maximum In-patient Hospitalization Treatment Limits for Imperial plus plan?\")\n",
    "# rag_chain.invoke(\"what was the last question i asked?\") # No Memory of last question\n",
    "# rag_chain.invoke(\"46-year-old male, knee surgery in Pune, 3-month-old insurance policy\")\n",
    "# rag_chain.invoke(\"knee surgery?\")"
   ]
  },
  {
   "cell_type": "code",
   "execution_count": null,
   "id": "880d2e28",
   "metadata": {},
   "outputs": [],
   "source": []
  }
 ],
 "metadata": {
  "kernelspec": {
   "display_name": "venv",
   "language": "python",
   "name": "python3"
  },
  "language_info": {
   "codemirror_mode": {
    "name": "ipython",
    "version": 3
   },
   "file_extension": ".py",
   "mimetype": "text/x-python",
   "name": "python",
   "nbconvert_exporter": "python",
   "pygments_lexer": "ipython3",
   "version": "3.10.1"
  }
 },
 "nbformat": 4,
 "nbformat_minor": 5
}
